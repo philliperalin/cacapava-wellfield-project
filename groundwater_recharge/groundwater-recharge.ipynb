{
 "cells": [
  {
   "cell_type": "markdown",
   "metadata": {},
   "source": [
    "# Thornthwaite-Matter Procedure to Calculate the Groundwater Recharge\n",
    "\n",
    "This notebook as an objective to calculate the groundwater recharge of the area of interest and produce a recharge map for the region of Caçapava-SP. This notebook only was possible due the tutorial of [Attard](https://guillaumeattard.com/groundwater-recharge-estimation-using-earth-engine/)\n",
    "\n",
    "The following definition is according with Allen et al., 1998.\n",
    "\n",
    "One area will have groundwater recharge at month when the Potential Evapotranspiration (PET) < Precipitation (P) and the water stored in the root zone (ST) > available water stored at the field capacity in the root zone (STFC or RAW). But there are other possibilities as when P > PET or STFC > ST. So the Thornthwaite-Matter procedure account for all possibilities as follow:\n",
    "\n",
    "**Case 1** - $ PET > P $:\n",
    "\n",
    "$ ST_m = STFC * exp(\\frac{- APWL_m}{STFC}) $\n",
    "\n",
    "and,\n",
    "\n",
    "$ APWL_m = APWL_{m-1} + (PET_m - P_m) $\n",
    "\n",
    "Where: \n",
    "* $ ST_m $ is the water stored in the root zone in the month m\n",
    "* $ STFC $ is the available water stored at the field capacity in the root zone\n",
    "* $ APWL_m $ is the accumulated potential water loss for the month m\n",
    "* $ PET_m $ is the potential evapotranspiration for the month m\n",
    "* $ P_m $ is the precipitation for the month m\n",
    "\n",
    "---\n",
    "**Case 2** - $ PET < P $:\n",
    "\n",
    "$ ST_m = ST_{m-1} + (P_m - PET_m) $\n",
    "\n",
    "and we apply it on:\n",
    "\n",
    "**Case 2.1** - $ ST_m > STFC $:\n",
    "\n",
    "$ R_m = ST_m + P_m - PET_m $\n",
    "\n",
    "Where:\n",
    "* $ R_m $ is the recharge for the month m\n",
    "\n",
    "**Case 2.2** - $ ST_m <= STFC $:\n",
    "\n",
    "$ APWL_m = STFC * ln(\\frac{ST_m}{STFC}) $\n",
    "\n",
    "---\n",
    "\n",
    "We can obtain the STFC by:\n",
    "\n",
    "$ STFC = p * TAW $\n",
    "\n",
    "and,\n",
    "\n",
    "$ TAW = 1000 * (\\theta_{FC} - \\theta_{WP} * Z_r) $\n",
    "\n",
    "Where:\n",
    "* $ TAW $ is the total available soil water in the root zone ($ mm $)\n",
    "* $ \\theta_{FC} $ is the water content at the field capacity ($ m^3 m^{-3} $)\n",
    "* $ \\theta_{WP} $ is the water content at the wilting point ($ m^3 m^{-3} $)\n",
    "* $ Z_r $ is the rooting depth ($m$)\n",
    "* $ p $ is the average fraction of $ TAW $ that can be depleted from the root zone before moisture stress\n",
    "\n",
    "---\n",
    "With the data obtained in the [Yuting et al, 2016](https://data.csiro.au/collection/csiro:19813v1) is possible to get the $ p $ and the $ Z_r $ values for the Caçapava region.\n",
    "\n",
    "With the data from [Tomislav, 2018a](https://zenodo.org/record/2525662#.Yq-s3_3MKUk), [Tomislav, 2018b](https://zenodo.org/record/2525663#.Yq-tHv3MKUk), and [Tomislav and Wheeler, 2018](https://zenodo.org/record/2525553#.Yq-tRP3MKUk) is possible to calculate the $ \\theta_{FC} $ and $ \\theta_{WP} $ (Saxton and Rawls, 2006) as follow:\n",
    "\n",
    "$ \\theta_{WP} = \\theta_{1500t} + (0.14 * \\theta_{1500t} - 0.002) $\n",
    "\n",
    "and,\n",
    "\n",
    "$ \\theta_{1500t} = -0.024 S + 0.487 C + 0.006 OM + 0.005 (S * OM) - 0.013 (C * OM) + 0.068 (S * C) + 0.031 $\n",
    "\n",
    "and;\n",
    "\n",
    "$ \\theta_{FC} = \\theta_{33t} + (1.283 * \\theta_{33t}^{2} - 0.374 * \\theta_{33t} - 0.15) $\n",
    "\n",
    "and,\n",
    "\n",
    "$ \\theta_{33t} = -0.251 S + 0.195 C + 0.011 OM + 0.006 (S * OM) - 0.027 (C * OM) + 0.452 (S * C) + 0.299 $\n",
    "\n",
    "Where:\n",
    "* $ S $ is the mass percent sand of the soil\n",
    "* $ C $ is the mass percent clay of the soil\n",
    "* $ OM $ is the mass percent organic matter of the soil\n",
    "\n",
    "The remmaing parameter $ PET $ and $ P $ was obtained in the [Funk er al., 2015](https://www.nature.com/articles/sdata201566) and [Running et al., 2017](https://lpdaac.usgs.gov/products/mod16a2v006/)\n"
   ]
  },
  {
   "cell_type": "code",
   "execution_count": 4,
   "metadata": {},
   "outputs": [
    {
     "data": {
      "text/html": [
       "<p>To authorize access needed by Earth Engine, open the following\n",
       "        URL in a web browser and follow the instructions:</p>\n",
       "        <p><a href=https://code.earthengine.google.com/client-auth?scopes=https%3A//www.googleapis.com/auth/earthengine%20https%3A//www.googleapis.com/auth/devstorage.full_control&request_id=S5MngnybnNcrCs0rD9SHtj96wrSuuMjgP1pppIqvSHw&tc=iS2q9BntNw75tvYINJVCPmFVye8yemD2HVnC-hk1Jyg&cc=N3VfCVhTS2PI2uz5NGKVVTNzeY4V-VBJEJkV4RQsBOc>https://code.earthengine.google.com/client-auth?scopes=https%3A//www.googleapis.com/auth/earthengine%20https%3A//www.googleapis.com/auth/devstorage.full_control&request_id=S5MngnybnNcrCs0rD9SHtj96wrSuuMjgP1pppIqvSHw&tc=iS2q9BntNw75tvYINJVCPmFVye8yemD2HVnC-hk1Jyg&cc=N3VfCVhTS2PI2uz5NGKVVTNzeY4V-VBJEJkV4RQsBOc</a></p>\n",
       "        <p>The authorization workflow will generate a code, which you\n",
       "        should paste in the box below</p>\n",
       "        "
      ],
      "text/plain": [
       "<IPython.core.display.HTML object>"
      ]
     },
     "metadata": {},
     "output_type": "display_data"
    },
    {
     "name": "stdout",
     "output_type": "stream",
     "text": [
      "\n",
      "Successfully saved authorization token.\n"
     ]
    }
   ],
   "source": [
    "import ee\n",
    "ee.Authenticate()\n",
    "ee.Initialize()"
   ]
  },
  {
   "cell_type": "code",
   "execution_count": 5,
   "metadata": {},
   "outputs": [],
   "source": [
    "import pandas as pd\n",
    "import matplotlib.pyplot as plt\n",
    "import numpy as np\n",
    "import folium\n",
    "import pprint\n",
    "import branca.colormap as cm"
   ]
  },
  {
   "cell_type": "markdown",
   "metadata": {},
   "source": [
    "Setting the interval to get data and the area od interest (Caçapava - SP)"
   ]
  },
  {
   "cell_type": "code",
   "execution_count": 6,
   "metadata": {},
   "outputs": [],
   "source": [
    "i_date = \"2012-01-01\"\n",
    "f_date = \"2022-01-01\"\n",
    "\n",
    "#area of interest\n",
    "lon = -45.685694\n",
    "lat = -23.100421\n",
    "poi = ee.Geometry.Point(lon, lat)\n",
    "\n",
    "scale = 1000"
   ]
  },
  {
   "cell_type": "markdown",
   "metadata": {},
   "source": [
    "## Soil texture to hydraulic properties\n",
    "Getting the soil texture profiles"
   ]
  },
  {
   "cell_type": "code",
   "execution_count": 7,
   "metadata": {},
   "outputs": [
    {
     "data": {
      "text/plain": [
       "['b0', 'b10', 'b30', 'b60', 'b100', 'b200']"
      ]
     },
     "execution_count": 7,
     "metadata": {},
     "output_type": "execute_result"
    }
   ],
   "source": [
    "olm_depths = [0, 10, 30, 60, 100, 200]\n",
    "olm_bands = [\"b\" + str(sd) for sd in olm_depths]\n",
    "olm_bands"
   ]
  },
  {
   "cell_type": "code",
   "execution_count": 8,
   "metadata": {},
   "outputs": [],
   "source": [
    "#sand image\n",
    "snippet = \"OpenLandMap/SOL/SOL_SAND-WFRACTION_USDA-3A1A1A_M/v02\"\n",
    "scale_factor = 0.01\n",
    "sand = ee.Image(snippet).multiply(scale_factor)"
   ]
  },
  {
   "cell_type": "code",
   "execution_count": 9,
   "metadata": {},
   "outputs": [],
   "source": [
    "#clay image\n",
    "snippet = \"OpenLandMap/SOL/SOL_CLAY-WFRACTION_USDA-3A1A1A_M/v02\"\n",
    "scale_factor = 0.01\n",
    "clay = ee.Image(snippet).multiply(scale_factor)"
   ]
  },
  {
   "cell_type": "code",
   "execution_count": 10,
   "metadata": {},
   "outputs": [],
   "source": [
    "#organic carbon image\n",
    "snippet = \"OpenLandMap/SOL/SOL_ORGANIC-CARBON_USDA-6A1C_M/v02\"\n",
    "scale_factor = 5 * 0.001 #to get kg/kg\n",
    "orgc = ee.Image(snippet).multiply(scale_factor)"
   ]
  },
  {
   "cell_type": "markdown",
   "metadata": {},
   "source": [
    "Vizualizing the sand content in the region of Caçapava"
   ]
  },
  {
   "cell_type": "code",
   "execution_count": 11,
   "metadata": {},
   "outputs": [
    {
     "data": {
      "text/html": [
       "<div style=\"width:100%;\"><div style=\"position:relative;width:100%;height:0;padding-bottom:60%;\"><iframe src=\"data:text/html;charset=utf-8;base64,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\" style=\"position:absolute;width:100%;height:100%;left:0;top:0;border:none !important;\" allowfullscreen webkitallowfullscreen mozallowfullscreen></iframe></div></div>"
      ],
      "text/plain": [
       "<folium.folium.Map at 0x2cbc84a8>"
      ]
     },
     "metadata": {},
     "output_type": "display_data"
    }
   ],
   "source": [
    "def add_ee_layer(self, ee_image_object, vis_params, name):\n",
    "    \"\"\"Adds a method for displaying Earth Engine image tiles to folium map.\"\"\"\n",
    "    map_id_dict = ee.Image(ee_image_object).getMapId(vis_params)\n",
    "    folium.raster_layers.TileLayer(\n",
    "        tiles=map_id_dict[\"tile_fetcher\"].url_format,\n",
    "        attr=\"Map Data &copy; <a href='https://earthengine.google.com/'>Google Earth Engine</a>\",\n",
    "        name=name,\n",
    "        overlay=True,\n",
    "        control=True,\n",
    "    ).add_to(self)\n",
    "\n",
    "\n",
    "# Add Earth Engine drawing method to folium.\n",
    "folium.Map.add_ee_layer = add_ee_layer\n",
    "\n",
    "my_map = folium.Map(location=[lat, lon], zoom_start=8)\n",
    "\n",
    "# Set visualization parameters.\n",
    "vis_params = {\n",
    "    \"bands\": [\"b0\"],\n",
    "    \"min\": 0.01,\n",
    "    \"max\": 1,\n",
    "    \"opacity\": 1,\n",
    "    \"palette\": [\"white\", \"#464646\"],\n",
    "}\n",
    "\n",
    "# Add the sand content data to the map object.\n",
    "my_map.add_ee_layer(sand, vis_params, \"Sand Content\")\n",
    "\n",
    "# Add a marker at the location of interest.\n",
    "folium.Marker([lat, lon], popup=\"point of interest\").add_to(my_map)\n",
    "\n",
    "# Add a layer control panel to the map.\n",
    "my_map.add_child(folium.LayerControl())\n",
    "\n",
    "# Display the map.\n",
    "display(my_map)"
   ]
  },
  {
   "cell_type": "markdown",
   "metadata": {},
   "source": [
    "Getting soil properties profiles in the region of interest.\n",
    "example below is to obtain the sand profile"
   ]
  },
  {
   "cell_type": "code",
   "execution_count": 12,
   "metadata": {},
   "outputs": [
    {
     "data": {
      "text/plain": [
       "{'type': 'FeatureCollection',\n",
       " 'columns': {},\n",
       " 'properties': {'band_order': ['b0', 'b10', 'b30', 'b60', 'b100', 'b200']},\n",
       " 'features': [{'type': 'Feature',\n",
       "   'geometry': None,\n",
       "   'id': '0',\n",
       "   'properties': {'b0': 0.44,\n",
       "    'b10': 0.44,\n",
       "    'b100': 0.41000000000000003,\n",
       "    'b200': 0.43,\n",
       "    'b30': 0.41000000000000003,\n",
       "    'b60': 0.41000000000000003}}]}"
      ]
     },
     "execution_count": 12,
     "metadata": {},
     "output_type": "execute_result"
    }
   ],
   "source": [
    "sand_prop = sand.sample(poi, scale).select(olm_bands).getInfo()\n",
    "sand_prop"
   ]
  },
  {
   "cell_type": "code",
   "execution_count": 13,
   "metadata": {},
   "outputs": [
    {
     "data": {
      "text/plain": [
       "{'b0': 0.44, 'b10': 0.44, 'b100': 0.41, 'b200': 0.43, 'b30': 0.41, 'b60': 0.41}"
      ]
     },
     "execution_count": 13,
     "metadata": {},
     "output_type": "execute_result"
    }
   ],
   "source": [
    "profile_sand = sand_prop[\"features\"][0][\"properties\"]\n",
    "profile_sand = {key: round(val, 3) for key, val in profile_sand.items()}\n",
    "profile_sand"
   ]
  },
  {
   "cell_type": "markdown",
   "metadata": {},
   "source": [
    "Doing the same to get clay and organic matter profiles\n",
    "\n",
    "Note that the organic carbon need to be converted to organic matter to be used in equation of Saxton and Rawls [2006]. It can be did by using the equation:\n",
    "\n",
    "$ OM = 1.724 OC $\n",
    "\n",
    "where $ OM $ is organic matter and $ OC $ is the organic carbon"
   ]
  },
  {
   "cell_type": "code",
   "execution_count": 14,
   "metadata": {},
   "outputs": [],
   "source": [
    "clay_prop = clay.sample(poi, scale).select(olm_bands).getInfo()\n",
    "profile_clay = clay_prop[\"features\"][0][\"properties\"]\n",
    "profile_clay = {key: round(val, 3) for key, val in profile_clay.items()}\n",
    "\n",
    "orgc_prop = orgc.sample(poi, scale).select(olm_bands).getInfo()\n",
    "profile_orgc = orgc_prop[\"features\"][0][\"properties\"]\n",
    "profile_orgm = {key: round(val * 1.724, 3) for key, val in profile_orgc.items()}\n",
    "orgm = orgc.multiply(1.724)"
   ]
  },
  {
   "cell_type": "markdown",
   "metadata": {},
   "source": [
    "Vizualizing the soil properties profile of the area of interest"
   ]
  },
  {
   "cell_type": "code",
   "execution_count": 15,
   "metadata": {},
   "outputs": [
    {
     "data": {
      "image/png": "[encoded data removed]",
      "text/plain": [
       "<Figure size 1080x432 with 1 Axes>"
      ]
     },
     "metadata": {
      "needs_background": "light"
     },
     "output_type": "display_data"
    }
   ],
   "source": [
    "fig, ax = plt.subplots(figsize=(15, 6))\n",
    "ax.axes.get_yaxis().set_visible(False)\n",
    "\n",
    "x = np.arange(len(olm_bands))\n",
    "\n",
    "width = 0.25\n",
    "\n",
    "#bar sand\n",
    "rect1 = ax.bar(x - width, \n",
    "    [round(100 * profile_sand[b], 2) for b in olm_bands],\n",
    "    width=width, \n",
    "    label=\"Sand\", \n",
    "    color=\"#e6f647\")\n",
    "#bar clay\n",
    "rect2 = ax.bar(x, \n",
    "    [round(100 * profile_clay[b], 2) for b in olm_bands],\n",
    "    width=width, \n",
    "    label=\"Clay\",\n",
    "    color=\"#495358\")\n",
    "#bar organic matter\n",
    "rect3 = ax.bar(x + width,\n",
    "    [round(100 * profile_orgm[b], 2) for b in olm_bands], \n",
    "    width=width, \n",
    "    label=\"Organic Matter\", \n",
    "    color=\"000000\", \n",
    "    #alpha=0.75, \n",
    "    )\n",
    "\n",
    "def autolabel_soil_prop(rects):\n",
    "    for rect in rects:\n",
    "        height = rect.get_height()\n",
    "        ax.annotate(\"{}\".format(height) + \"%\", \n",
    "            xy=(rect.get_x() + rect.get_width() / 2, height), \n",
    "            xytext=(0, 3), \n",
    "            textcoords=\"offset points\", \n",
    "            ha=\"center\", \n",
    "            va=\"bottom\", \n",
    "            fontsize=10)\n",
    "autolabel_soil_prop(rect1)\n",
    "autolabel_soil_prop(rect2)\n",
    "autolabel_soil_prop(rect3)\n",
    "\n",
    "ax.set_title(\"Properties of the soil at different depths (mass content)\", fontsize=14)\n",
    "\n",
    "ax.set_xticks(x)\n",
    "x_labels = [str(d) + \"cm\" for d in olm_depths]\n",
    "ax.set_xticklabels(x_labels, fontsize=10)\n",
    "\n",
    "ax.spines[\"left\"].set_visible(False)\n",
    "ax.spines[\"right\"].set_visible(False)\n",
    "ax.spines[\"top\"].set_visible(False)\n",
    "\n",
    "box = ax.get_position()\n",
    "ax.set_position([box.x0, box.y0 + box.height * 0.1, box.width, box.height * 0.9])\n",
    "\n",
    "ax.legend(loc=\"upper center\", \n",
    "    bbox_to_anchor=(0.5, -0.15), \n",
    "    fancybox=True,\n",
    "    shadow=True, \n",
    "    ncol = 3)\n",
    "\n",
    "plt.show()"
   ]
  },
  {
   "cell_type": "markdown",
   "metadata": {},
   "source": [
    "## Calculating the wilting point and field capacity\n",
    "\n",
    "Applying the mathematical expression:\n",
    "\n",
    "$ \\theta_{WP} = \\theta_{1500t} + (0.14 * \\theta_{1500t} - 0.002) $\n",
    "\n",
    "and,\n",
    "\n",
    "$ \\theta_{1500t} = -0.024 S + 0.487 C + 0.006 OM + 0.005 (S * OM) - 0.013 (C * OM) + 0.068 (S * C) + 0.031 $\n",
    "\n",
    "and;\n",
    "\n",
    "$ \\theta_{FC} = \\theta_{33t} + (1.283 * \\theta_{33t}^{2} - 0.374 * \\theta_{33t} - 0.15) $\n",
    "\n",
    "and,\n",
    "\n",
    "$ \\theta_{33t} = -0.251 S + 0.195 C + 0.011 OM + 0.006 (S * OM) - 0.027 (C * OM) + 0.452 (S * C) + 0.299 $"
   ]
  },
  {
   "cell_type": "code",
   "execution_count": 16,
   "metadata": {},
   "outputs": [],
   "source": [
    "wilting_point = ee.Image(0)\n",
    "field_capacity = ee.Image(0)\n",
    "\n",
    "for key in olm_bands:\n",
    "    si = sand.select(key)\n",
    "    ci = clay.select(key)\n",
    "    oi = orgm.select(key)\n",
    "\n",
    "    #calculate wilting point at band i\n",
    "    theta_1500ti = (\n",
    "        ee.Image(0).expression(\n",
    "            \"-0.024 * S + 0.487 * C + 0.006 * OM + 0.005 * (S * OM) - 0.013 * (C * OM) + 0.068 * (S * C) + 0.031\", \n",
    "            {\"S\": si, \"C\": ci, \"OM\": oi}\n",
    "        ).rename(\"T1500ti\")\n",
    "    )\n",
    "\n",
    "    wpi = theta_1500ti.expression(\n",
    "        \"T1500ti + (0.14 * T1500ti - 0.002)\", \n",
    "        {\"T1500ti\": theta_1500ti}\n",
    "    ).rename(\"wpi\")\n",
    "\n",
    "    wilting_point = wilting_point.addBands(wpi.rename(key).float())\n",
    "\n",
    "    #calculate field capacity at band i\n",
    "    theta_33ti = (\n",
    "        ee.Image(0).expression(\n",
    "            \"-0.251 * S + 0.195 * C + 0.011 * OM + 0.006 * (S * OM) - 0.027 * (C * OM) + 0.452 * (S * C) + 0.299\", \n",
    "            {\"S\": si, \"C\": ci, \"OM\": oi}\n",
    "        ).rename(\"T33ti\")\n",
    "    )\n",
    "\n",
    "    fci = theta_33ti.expression(\n",
    "        \"T33ti + (1.283 * T33ti * T33ti - 0.374 * T33ti - 0.015)\", \n",
    "        {\"T33ti\": theta_33ti.select(\"T33ti\")}\n",
    "    )\n",
    "\n",
    "    field_capacity = field_capacity.addBands(fci.rename(key).float())"
   ]
  },
  {
   "cell_type": "code",
   "execution_count": 17,
   "metadata": {},
   "outputs": [
    {
     "data": {
      "image/png": "[encoded data removed]",
      "text/plain": [
       "<Figure size 1080x432 with 1 Axes>"
      ]
     },
     "metadata": {
      "needs_background": "light"
     },
     "output_type": "display_data"
    }
   ],
   "source": [
    "def local_profile(dataset, poi, buffer):\n",
    "    # Get properties at the location of interest and transfer to client-side.\n",
    "    prop = dataset.sample(poi, buffer).select(olm_bands).getInfo()\n",
    "\n",
    "    # Selection of the features/properties of interest.\n",
    "    profile = prop[\"features\"][0][\"properties\"]\n",
    "\n",
    "    # Re-shaping of the dict.\n",
    "    profile = {key: round(val, 3) for key, val in profile.items()}\n",
    "\n",
    "    return profile\n",
    "\n",
    "profile_wp = local_profile(wilting_point, poi, scale)\n",
    "profile_fc = local_profile(field_capacity, poi, scale)\n",
    "\n",
    "\n",
    "fig, ax = plt.subplots(figsize=(15, 6))\n",
    "ax.axes.get_yaxis().set_visible(False)\n",
    "\n",
    "# Definition of the label locations.\n",
    "x = np.arange(len(olm_bands))\n",
    "\n",
    "# Width of the bar of the barplot.\n",
    "width = 0.25\n",
    "\n",
    "# Barplot associated with the water content at the wilting point.\n",
    "rect1 = ax.bar(\n",
    "    x - width / 2,\n",
    "    [round(profile_wp[b] * 100, 2) for b in olm_bands],\n",
    "    width,\n",
    "    label=\"Water content at wilting point\",\n",
    "    color=\"red\",\n",
    "    alpha=0.5,\n",
    ")\n",
    "\n",
    "# Barplot associated with the water content at the field capacity.\n",
    "rect2 = ax.bar(\n",
    "    x + width / 2,\n",
    "    [round(profile_fc[b] * 100, 2) for b in olm_bands],\n",
    "    width,\n",
    "    label=\"Water content at field capacity\",\n",
    "    color=\"blue\",\n",
    "    alpha=0.5,\n",
    ")\n",
    "\n",
    "# Add Labels on top of bars.\n",
    "autolabel_soil_prop(rect1)\n",
    "autolabel_soil_prop(rect2)\n",
    "\n",
    "# Title of the plot.\n",
    "ax.set_title(\"Hydraulic properties of the soil at different depths\", fontsize=14)\n",
    "\n",
    "# Properties of x/y labels and ticks.\n",
    "ax.set_xticks(x)\n",
    "x_labels = [str(d) + \" cm\" for d in olm_depths]\n",
    "ax.set_xticklabels(x_labels, rotation=45, fontsize=10)\n",
    "\n",
    "ax.spines[\"left\"].set_visible(False)\n",
    "ax.spines[\"right\"].set_visible(False)\n",
    "ax.spines[\"top\"].set_visible(False)\n",
    "\n",
    "# Shrink current axis's height by 10% on the bottom.\n",
    "box = ax.get_position()\n",
    "ax.set_position([box.x0, box.y0 + box.height * 0.1, box.width, box.height * 0.9])\n",
    "\n",
    "# Put a legend below current axis.\n",
    "ax.legend(\n",
    "    loc=\"upper center\", bbox_to_anchor=(0.5, -0.15), fancybox=True, shadow=True, ncol=2\n",
    ")\n",
    "\n",
    "plt.show()"
   ]
  },
  {
   "cell_type": "markdown",
   "metadata": {},
   "source": [
    "## Meteorological Data\n",
    "\n",
    "This data is obtained from:\n",
    "\n",
    "* [CHIRPS Daily: Climate Hazards Group InfraRed Precipitation With Station Data (Version 2.0 Final)](https://developers.google.com/earth-engine/datasets/catalog/UCSB-CHG_CHIRPS_DAILY)\n",
    "* [MOD16A2.006: Terra Net Evapotranspiration 8-Day Global 500m](https://developers.google.com/earth-engine/datasets/catalog/MODIS_006_MOD16A2)"
   ]
  },
  {
   "cell_type": "code",
   "execution_count": 18,
   "metadata": {},
   "outputs": [],
   "source": [
    "#getting precipitation data\n",
    "pr = (\n",
    "    ee.ImageCollection(\"UCSB-CHG/CHIRPS/DAILY\")\n",
    "    .select(\"precipitation\").filterDate(i_date, f_date)\n",
    ")\n",
    "\n",
    "#getting potential evaporation data and its quality indicator\n",
    "pet = (\n",
    "    ee.ImageCollection(\"MODIS/006/MOD16A2\")\n",
    "    .select([\"PET\", \"ET_QC\"]).filterDate(i_date, f_date)\n",
    ")"
   ]
  },
  {
   "cell_type": "markdown",
   "metadata": {},
   "source": [
    "precipitation"
   ]
  },
  {
   "cell_type": "code",
   "execution_count": 19,
   "metadata": {},
   "outputs": [
    {
     "name": "stdout",
     "output_type": "stream",
     "text": [
      "[['id', 'longitude', 'latitude', 'time', 'precipitation'],\n",
      " ['20120101',\n",
      "  -45.68382377389827,\n",
      "  -23.100177531133497,\n",
      "  1325376000000,\n",
      "  33.581546783447266],\n",
      " ['20120102', -45.68382377389827, -23.100177531133497, 1325462400000, 0],\n",
      " ['20120103', -45.68382377389827, -23.100177531133497, 1325548800000, 0],\n",
      " ['20120104', -45.68382377389827, -23.100177531133497, 1325635200000, 0]]\n"
     ]
    }
   ],
   "source": [
    "local_pr = pr.getRegion(poi, scale).getInfo()\n",
    "pprint.pprint(local_pr[:5])"
   ]
  },
  {
   "cell_type": "code",
   "execution_count": 20,
   "metadata": {},
   "outputs": [
    {
     "data": {
      "text/html": [
       "<div>\n",
       "<style scoped>\n",
       "    .dataframe tbody tr th:only-of-type {\n",
       "        vertical-align: middle;\n",
       "    }\n",
       "\n",
       "    .dataframe tbody tr th {\n",
       "        vertical-align: top;\n",
       "    }\n",
       "\n",
       "    .dataframe thead th {\n",
       "        text-align: right;\n",
       "    }\n",
       "</style>\n",
       "<table border=\"1\" class=\"dataframe\">\n",
       "  <thead>\n",
       "    <tr style=\"text-align: right;\">\n",
       "      <th></th>\n",
       "      <th>time</th>\n",
       "      <th>precipitation</th>\n",
       "    </tr>\n",
       "    <tr>\n",
       "      <th>datetime</th>\n",
       "      <th></th>\n",
       "      <th></th>\n",
       "    </tr>\n",
       "  </thead>\n",
       "  <tbody>\n",
       "    <tr>\n",
       "      <th>2012-01-01</th>\n",
       "      <td>1325376000000</td>\n",
       "      <td>33.581547</td>\n",
       "    </tr>\n",
       "    <tr>\n",
       "      <th>2012-01-02</th>\n",
       "      <td>1325462400000</td>\n",
       "      <td>0.000000</td>\n",
       "    </tr>\n",
       "    <tr>\n",
       "      <th>2012-01-03</th>\n",
       "      <td>1325548800000</td>\n",
       "      <td>0.000000</td>\n",
       "    </tr>\n",
       "    <tr>\n",
       "      <th>2012-01-04</th>\n",
       "      <td>1325635200000</td>\n",
       "      <td>0.000000</td>\n",
       "    </tr>\n",
       "    <tr>\n",
       "      <th>2012-01-05</th>\n",
       "      <td>1325721600000</td>\n",
       "      <td>5.596924</td>\n",
       "    </tr>\n",
       "  </tbody>\n",
       "</table>\n",
       "</div>"
      ],
      "text/plain": [
       "0                    time  precipitation\n",
       "datetime                                \n",
       "2012-01-01  1325376000000      33.581547\n",
       "2012-01-02  1325462400000       0.000000\n",
       "2012-01-03  1325548800000       0.000000\n",
       "2012-01-04  1325635200000       0.000000\n",
       "2012-01-05  1325721600000       5.596924"
      ]
     },
     "execution_count": 20,
     "metadata": {},
     "output_type": "execute_result"
    }
   ],
   "source": [
    "#df precipitation\n",
    "pr_df = pd.DataFrame(local_pr)\n",
    "headers = pr_df.iloc[0]\n",
    "pr_df = pd.DataFrame(pr_df.values[1:], columns=headers)\n",
    "\n",
    "#pr data to numeric\n",
    "pr_df[\"precipitation\"] = pd.to_numeric(pr_df[\"precipitation\"], errors=\"coerce\")\n",
    "\n",
    "#time field to datetime\n",
    "pr_df[\"datetime\"] = pd.to_datetime(pr_df[\"time\"], unit=\"ms\")\n",
    "\n",
    "#cleaning\n",
    "pr_df = pr_df[[\"time\", \"datetime\", \"precipitation\"]]\n",
    "pr_df = pr_df.set_index(\"datetime\")\n",
    "\n",
    "#vizualizing\n",
    "pr_df.head()"
   ]
  },
  {
   "cell_type": "markdown",
   "metadata": {},
   "source": [
    "doing the same for potential evaporation. Note the data is not daily as precipitation. It is 8 day average as described in the metadata."
   ]
  },
  {
   "cell_type": "code",
   "execution_count": 21,
   "metadata": {},
   "outputs": [
    {
     "data": {
      "text/html": [
       "<div>\n",
       "<style scoped>\n",
       "    .dataframe tbody tr th:only-of-type {\n",
       "        vertical-align: middle;\n",
       "    }\n",
       "\n",
       "    .dataframe tbody tr th {\n",
       "        vertical-align: top;\n",
       "    }\n",
       "\n",
       "    .dataframe thead th {\n",
       "        text-align: right;\n",
       "    }\n",
       "</style>\n",
       "<table border=\"1\" class=\"dataframe\">\n",
       "  <thead>\n",
       "    <tr style=\"text-align: right;\">\n",
       "      <th></th>\n",
       "      <th>time</th>\n",
       "      <th>PET</th>\n",
       "      <th>ET_QC</th>\n",
       "    </tr>\n",
       "    <tr>\n",
       "      <th>datetime</th>\n",
       "      <th></th>\n",
       "      <th></th>\n",
       "      <th></th>\n",
       "    </tr>\n",
       "  </thead>\n",
       "  <tbody>\n",
       "    <tr>\n",
       "      <th>2012-01-01</th>\n",
       "      <td>1325376000000</td>\n",
       "      <td>504.0</td>\n",
       "      <td>157</td>\n",
       "    </tr>\n",
       "    <tr>\n",
       "      <th>2012-01-09</th>\n",
       "      <td>1326067200000</td>\n",
       "      <td>NaN</td>\n",
       "      <td>157</td>\n",
       "    </tr>\n",
       "    <tr>\n",
       "      <th>2012-01-17</th>\n",
       "      <td>1326758400000</td>\n",
       "      <td>NaN</td>\n",
       "      <td>157</td>\n",
       "    </tr>\n",
       "    <tr>\n",
       "      <th>2012-01-25</th>\n",
       "      <td>1327449600000</td>\n",
       "      <td>461.0</td>\n",
       "      <td>157</td>\n",
       "    </tr>\n",
       "    <tr>\n",
       "      <th>2012-02-02</th>\n",
       "      <td>1328140800000</td>\n",
       "      <td>649.0</td>\n",
       "      <td>157</td>\n",
       "    </tr>\n",
       "  </tbody>\n",
       "</table>\n",
       "</div>"
      ],
      "text/plain": [
       "0                    time    PET  ET_QC\n",
       "datetime                               \n",
       "2012-01-01  1325376000000  504.0    157\n",
       "2012-01-09  1326067200000    NaN    157\n",
       "2012-01-17  1326758400000    NaN    157\n",
       "2012-01-25  1327449600000  461.0    157\n",
       "2012-02-02  1328140800000  649.0    157"
      ]
     },
     "execution_count": 21,
     "metadata": {},
     "output_type": "execute_result"
    }
   ],
   "source": [
    "#potential evaporation data\n",
    "local_pet = pet.getRegion(poi, scale).getInfo()\n",
    "pet_df = pd.DataFrame(local_pet)\n",
    "headers = pet_df.iloc[0]\n",
    "pet_df = pd.DataFrame(pet_df.values[1:], columns=headers)\n",
    "\n",
    "#pet data to numeric\n",
    "for band in [\"PET\", \"ET_QC\"]:\n",
    "    pet_df[band] = pd.to_numeric(pet_df[band], errors=\"coerce\")\n",
    "\n",
    "#time to datetime\n",
    "pet_df[\"datetime\"] = pd.to_datetime(pet_df[\"time\"], unit=\"ms\")\n",
    "\n",
    "#cleaning\n",
    "pet_df = pet_df[[\"time\", \"datetime\", \"PET\", \"ET_QC\"]]\n",
    "pet_df = pet_df.set_index(\"datetime\")\n",
    "\n",
    "#vizualizing\n",
    "pet_df.head()"
   ]
  },
  {
   "cell_type": "markdown",
   "metadata": {},
   "source": [
    "Because the two datasets do not have the same timeline is necessary to resampling the time resolution to get a homogeneous time index and missing values. It will be achieved by resampling both datasets by month."
   ]
  },
  {
   "cell_type": "code",
   "execution_count": 22,
   "metadata": {},
   "outputs": [],
   "source": [
    "#this function is a code of Guillaume Attard. \n",
    "#Source: https://gist.github.com/guiattard/dc11243474d20c973d31cecb23524831#file-pfg6-meteo-6-py\n",
    "\n",
    "def sum_resampler(coll, freq, unit, scale_factor, band_name):\n",
    "    \"\"\"\n",
    "    This function aims to resample the time scale of an ee.ImageCollection.\n",
    "    The function returns an ee.ImageCollection with the averaged sum of the\n",
    "    band on the selected frequency.\n",
    "    coll: (ee.ImageCollection) only one band can be handled\n",
    "    freq: (int) corresponds to the resampling frequence\n",
    "    unit: (str) corresponds to the resampling time unit.\n",
    "                must be 'day', 'month' or 'year'\n",
    "    scale_factor (float): scaling factor used to get our value in the good unit\n",
    "    band_name (str) name of the output band\n",
    "    \"\"\"\n",
    "\n",
    "    # Define initial and final dates of the collection.\n",
    "    firstdate = ee.Date(\n",
    "        coll.sort(\"system:time_start\", True).first().get(\"system:time_start\")\n",
    "    )\n",
    "\n",
    "    lastdate = ee.Date(\n",
    "        coll.sort(\"system:time_start\", False).first().get(\"system:time_start\")\n",
    "    )\n",
    "\n",
    "    # Calculate the time difference between both dates.\n",
    "    # https://developers.google.com/earth-engine/apidocs/ee-date-difference\n",
    "    diff_dates = lastdate.difference(firstdate, unit)\n",
    "\n",
    "    # Define a new time index (for output).\n",
    "    new_index = ee.List.sequence(0, ee.Number(diff_dates), freq)\n",
    "\n",
    "    # Define the function that will be applied to our new time index.\n",
    "    def apply_resampling(date_index):\n",
    "        # Define the starting date to take into account.\n",
    "        startdate = firstdate.advance(ee.Number(date_index), unit)\n",
    "\n",
    "        # Define the ending date to take into account according\n",
    "        # to the desired frequency.\n",
    "        enddate = firstdate.advance(ee.Number(date_index).add(freq), unit)\n",
    "\n",
    "        # Calculate the number of days between starting and ending days.\n",
    "        diff_days = enddate.difference(startdate, \"day\")\n",
    "\n",
    "        # Calculate the composite image.\n",
    "        image = (\n",
    "            coll.filterDate(startdate, enddate)\n",
    "            .mean()\n",
    "            .multiply(diff_days)\n",
    "            .multiply(scale_factor)\n",
    "            .rename(band_name)\n",
    "        )\n",
    "\n",
    "        # Return the final image with the appropriate time index.\n",
    "        return image.set(\"system:time_start\", startdate.millis())\n",
    "\n",
    "    # Map the function to the new time index.\n",
    "    res = new_index.map(apply_resampling)\n",
    "\n",
    "    # Transform the result into an ee.ImageCollection.\n",
    "    res = ee.ImageCollection(res)\n",
    "\n",
    "    return res"
   ]
  },
  {
   "cell_type": "markdown",
   "metadata": {},
   "source": [
    "For evapotranspiration dataset gives us an 8-day sum and a scale factor of 10 is applied. We need to rescale by dividing by 8 and 10:"
   ]
  },
  {
   "cell_type": "code",
   "execution_count": 23,
   "metadata": {},
   "outputs": [],
   "source": [
    "#resampling precipitation\n",
    "pr_m = sum_resampler(pr, 1, \"month\", 1, \"pr\")\n",
    "\n",
    "#resampling PET\n",
    "pet_m = sum_resampler(pet.select(\"PET\"), 1, \"month\", 0.0125, \"pet\")"
   ]
  },
  {
   "cell_type": "markdown",
   "metadata": {},
   "source": [
    "Combining precipitation and PET datasets and vizualizing for the area of interest."
   ]
  },
  {
   "cell_type": "code",
   "execution_count": 24,
   "metadata": {},
   "outputs": [
    {
     "data": {
      "text/html": [
       "<div>\n",
       "<style scoped>\n",
       "    .dataframe tbody tr th:only-of-type {\n",
       "        vertical-align: middle;\n",
       "    }\n",
       "\n",
       "    .dataframe tbody tr th {\n",
       "        vertical-align: top;\n",
       "    }\n",
       "\n",
       "    .dataframe thead th {\n",
       "        text-align: right;\n",
       "    }\n",
       "</style>\n",
       "<table border=\"1\" class=\"dataframe\">\n",
       "  <thead>\n",
       "    <tr style=\"text-align: right;\">\n",
       "      <th></th>\n",
       "      <th>time</th>\n",
       "      <th>pr</th>\n",
       "      <th>pet</th>\n",
       "    </tr>\n",
       "    <tr>\n",
       "      <th>datetime</th>\n",
       "      <th></th>\n",
       "      <th></th>\n",
       "      <th></th>\n",
       "    </tr>\n",
       "  </thead>\n",
       "  <tbody>\n",
       "    <tr>\n",
       "      <th>2012-01-01</th>\n",
       "      <td>1325376000000</td>\n",
       "      <td>276.223151</td>\n",
       "      <td>186.968750</td>\n",
       "    </tr>\n",
       "    <tr>\n",
       "      <th>2012-02-01</th>\n",
       "      <td>1328054400000</td>\n",
       "      <td>131.258315</td>\n",
       "      <td>197.804167</td>\n",
       "    </tr>\n",
       "    <tr>\n",
       "      <th>2012-03-01</th>\n",
       "      <td>1330560000000</td>\n",
       "      <td>113.144179</td>\n",
       "      <td>170.112500</td>\n",
       "    </tr>\n",
       "    <tr>\n",
       "      <th>2012-04-01</th>\n",
       "      <td>1333238400000</td>\n",
       "      <td>104.058466</td>\n",
       "      <td>126.375000</td>\n",
       "    </tr>\n",
       "    <tr>\n",
       "      <th>2012-05-01</th>\n",
       "      <td>1335830400000</td>\n",
       "      <td>61.901220</td>\n",
       "      <td>101.525000</td>\n",
       "    </tr>\n",
       "  </tbody>\n",
       "</table>\n",
       "</div>"
      ],
      "text/plain": [
       "0                    time          pr         pet\n",
       "datetime                                         \n",
       "2012-01-01  1325376000000  276.223151  186.968750\n",
       "2012-02-01  1328054400000  131.258315  197.804167\n",
       "2012-03-01  1330560000000  113.144179  170.112500\n",
       "2012-04-01  1333238400000  104.058466  126.375000\n",
       "2012-05-01  1335830400000   61.901220  101.525000"
      ]
     },
     "execution_count": 24,
     "metadata": {},
     "output_type": "execute_result"
    }
   ],
   "source": [
    "meteo = pr_m.combine(pet_m)\n",
    "meteo_arr = meteo.getRegion(poi, scale).getInfo()\n",
    "\n",
    "#meteo dataframe\n",
    "meteo_df = pd.DataFrame(meteo_arr)\n",
    "headers = meteo_df.iloc[0]\n",
    "meteo_df = pd.DataFrame(meteo_df.values[1:], columns=headers)\n",
    "\n",
    "#meteo data to numeric\n",
    "for band in [\"pr\", \"pet\"]:\n",
    "    meteo_df[band] = pd.to_numeric(meteo_df[band], errors=\"coerce\")\n",
    "\n",
    "#time field to datetime\n",
    "meteo_df[\"datetime\"] = pd.to_datetime(meteo_df[\"time\"], unit=\"ms\")\n",
    "\n",
    "#cleaning\n",
    "meteo_df = meteo_df[[\"time\", \"datetime\", \"pr\", \"pet\"]]\n",
    "meteo_df = meteo_df.set_index(\"datetime\")\n",
    "meteo_df = meteo_df.sort_index()\n",
    "\n",
    "#vizualizing\n",
    "meteo_df.head()"
   ]
  },
  {
   "cell_type": "markdown",
   "metadata": {},
   "source": [
    "Note that the above table has the monthly $ P $ and $ PET $ data for the area of interest.\n",
    "\n",
    "Vizualizing these parameters for the area of interest during the interval of interest:"
   ]
  },
  {
   "cell_type": "code",
   "execution_count": 25,
   "metadata": {},
   "outputs": [
    {
     "data": {
      "image/png": "[encoded data removed]",
      "text/plain": [
       "<Figure size 1080x432 with 1 Axes>"
      ]
     },
     "metadata": {
      "needs_background": "light"
     },
     "output_type": "display_data"
    }
   ],
   "source": [
    "#data vizualization\n",
    "fig, ax = plt.subplots(figsize=(15, 6))\n",
    "meteo_df[\"pr\"].plot(kind=\"bar\", ax=ax, label=\"precipitation\")\n",
    "meteo_df[\"pet\"].plot(kind=\"bar\", ax=ax, label=\"potential evapotranspiration\",\n",
    "    color=\"orange\",\n",
    "    alpha=0.5, \n",
    "    )\n",
    "\n",
    "ax.legend()\n",
    "ax.set_ylabel(\"Intensity in $ mm $\")\n",
    "ax.set_xlabel(None)\n",
    "\n",
    "x_labels = meteo_df.index.strftime(\"%m-%Y\")\n",
    "ax.set_xticklabels(x_labels, rotation=90, fontsize=10)\n",
    "\n",
    "plt.show()"
   ]
  },
  {
   "cell_type": "markdown",
   "metadata": {},
   "source": [
    "## Thornthwaite-Mather Procedure\n",
    "\n",
    "With the meteorological data compilated we can do the final part of the TM procedure and estimate the groundwater recharge for each month during the interval os interest for our area of interest using: \n",
    "\n",
    "**Case 1** - $ PET > P $:\n",
    "\n",
    "$ ST_m = STFC * exp(\\frac{- APWL_m}{STFC}) $\n",
    "\n",
    "and,\n",
    "\n",
    "$ APWL_m = APWL_{m-1} + (PET_m - P_m) $\n",
    "\n",
    "---\n",
    "\n",
    "**Case 2** - $ PET < P $:\n",
    "\n",
    "$ ST_m = ST_{m-1} + (P_m - PET_m) $\n",
    "\n",
    "and we apply it on:\n",
    "\n",
    "**Case 2.1** - $ ST_m > STFC $:\n",
    "\n",
    "$ R_m = ST_m + P_m - PET_m $\n",
    "\n",
    "**Case 2.2** - $ ST_m <= STFC $:\n",
    "\n",
    "$ APWL_m = STFC * ln(\\frac{ST_m}{STFC}) $\n",
    "\n",
    "---\n",
    "\n",
    "We can obtain the STFC by:\n",
    "\n",
    "$ STFC = p * TAW $\n",
    "\n",
    "and,\n",
    "\n",
    "$ TAW = 1000 * (\\theta_{FC} - \\theta_{WP} * Z_r) $"
   ]
  },
  {
   "cell_type": "code",
   "execution_count": 26,
   "metadata": {},
   "outputs": [],
   "source": [
    "zr = ee.Image(1.65)\n",
    "p = ee.Image(0.5)"
   ]
  },
  {
   "cell_type": "markdown",
   "metadata": {},
   "source": [
    "Averaging values of the soil properties"
   ]
  },
  {
   "cell_type": "code",
   "execution_count": 27,
   "metadata": {},
   "outputs": [],
   "source": [
    "fcm = field_capacity.expression(\n",
    "    \"(b0 + b10 + b30 + b60 + b100 + b200) / 6\", \n",
    "    {\n",
    "        \"b0\": field_capacity.select(\"b0\"), \n",
    "        \"b10\": field_capacity.select(\"b10\"), \n",
    "        \"b30\": field_capacity.select(\"b30\"), \n",
    "        \"b60\": field_capacity.select(\"b60\"), \n",
    "        \"b100\": field_capacity.select(\"b100\"), \n",
    "        \"b200\": field_capacity.select(\"b200\"), \n",
    "    }\n",
    ").rename(\"fc_mean\")\n",
    "\n",
    "wpm = wilting_point.expression(\n",
    "    \"(b0 + b10 + b30 + b60 + b100 + b200) / 6\", \n",
    "    {\n",
    "        \"b0\": wilting_point.select(\"b0\"), \n",
    "        \"b10\": wilting_point.select(\"b10\"), \n",
    "        \"b30\": wilting_point.select(\"b30\"), \n",
    "        \"b60\": wilting_point.select(\"b60\"), \n",
    "        \"b100\": wilting_point.select(\"b100\"), \n",
    "        \"b200\": wilting_point.select(\"b200\")\n",
    "    }\n",
    ").rename(\"wp_mean\")\n",
    "\n",
    "taw = (\n",
    "    (fcm.select(\"fc_mean\").subtract(wpm.select(\"wp_mean\")))\n",
    "    .multiply(1000).multiply(zr)\n",
    ")\n",
    "\n",
    "stfc = taw.multiply(p)"
   ]
  },
  {
   "cell_type": "code",
   "execution_count": 28,
   "metadata": {},
   "outputs": [],
   "source": [
    "time0 = meteo.first().get(\"system:time_start\")\n",
    "\n",
    "initial_rech = ee.Image(0).set(\"system:time_start\", time0).select([0], [\"rech\"]).float()\n",
    "\n",
    "initial_apwl = ee.Image(0).set(\"system:time_start\", time0).select([0], [\"apwl\"]).float()\n",
    "\n",
    "initial_st = stfc.set(\"system:time_start\", time0).select([0], [\"st\"]).float()\n",
    "\n",
    "initial_pr = ee.Image(0).set(\"system:time_start\", time0).select([0], [\"pr\"]).float()\n",
    "\n",
    "initial_pet = ee.Image(0).set(\"system:time_start\", time0).select([0], [\"pet\"]).float()"
   ]
  },
  {
   "cell_type": "markdown",
   "metadata": {},
   "source": [
    "Combining all bands"
   ]
  },
  {
   "cell_type": "code",
   "execution_count": 29,
   "metadata": {},
   "outputs": [],
   "source": [
    "initial_image = initial_rech.addBands(\n",
    "    ee.Image([\n",
    "        initial_apwl, \n",
    "        initial_st, \n",
    "        initial_pr, \n",
    "        initial_pet,\n",
    "    ])\n",
    ")"
   ]
  },
  {
   "cell_type": "code",
   "execution_count": 30,
   "metadata": {},
   "outputs": [],
   "source": [
    "image_list = ee.List([initial_image])"
   ]
  },
  {
   "cell_type": "markdown",
   "metadata": {},
   "source": [
    "Setting the expressions to calculate the groundwater recharge"
   ]
  },
  {
   "cell_type": "code",
   "execution_count": 31,
   "metadata": {},
   "outputs": [],
   "source": [
    "#function of https://gist.github.com/guiattard/dc11243474d20c973d31cecb23524831#file-pfg6-tm-7-py\n",
    "def recharge_calculator(image, image_list):\n",
    "    \"\"\"\n",
    "    Contains operations made at each iteration.\n",
    "    \"\"\"\n",
    "    # Determine the date of the current ee.Image of the collection.\n",
    "    localdate = image.date().millis()\n",
    "\n",
    "    # Import previous image stored in the list.\n",
    "    prev_im = ee.Image(ee.List(image_list).get(-1))\n",
    "\n",
    "    # Import previous APWL and ST.\n",
    "    prev_apwl = prev_im.select(\"apwl\")\n",
    "    prev_st = prev_im.select(\"st\")\n",
    "\n",
    "    # Import current precipitation and evapotranspiration.\n",
    "    pr_im = image.select(\"pr\")\n",
    "    pet_im = image.select(\"pet\")\n",
    "\n",
    "    # Initialize the new bands associated with recharge, apwl and st.\n",
    "    # DO NOT FORGET TO CAST THE TYPE WITH .float().\n",
    "    new_rech = (\n",
    "        ee.Image(0)\n",
    "        .set(\"system:time_start\", localdate)\n",
    "        .select([0], [\"rech\"])\n",
    "        .float()\n",
    "    )\n",
    "\n",
    "    new_apwl = (\n",
    "        ee.Image(0)\n",
    "        .set(\"system:time_start\", localdate)\n",
    "        .select([0], [\"apwl\"])\n",
    "        .float()\n",
    "    )\n",
    "\n",
    "    new_st = (\n",
    "        prev_st.set(\"system:time_start\", localdate).select([0], [\"st\"]).float()\n",
    "    )\n",
    "\n",
    "    # Calculate bands depending on the situation using binary layers with\n",
    "    # logical operations.\n",
    "\n",
    "    # CASE 1.\n",
    "    # Define zone1: the area where PET > P.\n",
    "    zone1 = pet_im.gt(pr_im)\n",
    "\n",
    "    # Calculation of APWL in zone 1.\n",
    "    zone1_apwl = prev_apwl.add(pet_im.subtract(pr_im)).rename(\"apwl\")\n",
    "    # Implementation of zone 1 values for APWL.\n",
    "    new_apwl = new_apwl.where(zone1, zone1_apwl)\n",
    "\n",
    "    # Calculate ST in zone 1.\n",
    "    zone1_st = prev_st.multiply(\n",
    "        ee.Image.exp(zone1_apwl.divide(stfc).multiply(-1))\n",
    "    ).rename(\"st\")\n",
    "    # Implement ST in zone 1.\n",
    "    new_st = new_st.where(zone1, zone1_st)\n",
    "\n",
    "    # CASE 2.\n",
    "    # Define zone2: the area where PET <= P.\n",
    "    zone2 = pet_im.lte(pr_im)\n",
    "\n",
    "    # Calculate ST in zone 2.\n",
    "    zone2_st = prev_st.add(pr_im).subtract(pet_im).rename(\"st\")\n",
    "    # Implement ST in zone 2.\n",
    "    new_st = new_st.where(zone2, zone2_st)\n",
    "\n",
    "    # CASE 2.1.\n",
    "    # Define zone21: the area where PET <= P and ST >= STfc.\n",
    "    zone21 = zone2.And(zone2_st.gte(stfc))\n",
    "\n",
    "    # Calculate recharge in zone 21.\n",
    "    zone21_re = zone2_st.subtract(stfc).rename(\"rech\")\n",
    "    # Implement recharge in zone 21.\n",
    "    new_rech = new_rech.where(zone21, zone21_re)\n",
    "    # Implement ST in zone 21.\n",
    "    new_st = new_st.where(zone21, stfc)\n",
    "\n",
    "    # CASE 2.2.\n",
    "    # Define zone 22: the area where PET <= P and ST < STfc.\n",
    "    zone22 = zone2.And(zone2_st.lt(stfc))\n",
    "\n",
    "    # Calculate APWL in zone 22.\n",
    "    zone22_apwl = (\n",
    "        stfc.multiply(-1).multiply(ee.Image.log(zone2_st.divide(stfc))).rename(\"apwl\")\n",
    "    )\n",
    "    # Implement APWL in zone 22.\n",
    "    new_apwl = new_apwl.where(zone22, zone22_apwl)\n",
    "\n",
    "    # Create a mask around area where recharge can effectively be calculated.\n",
    "    # Where we have have PET, P, FCm, WPm (except urban areas, etc.).\n",
    "    mask = pet_im.gte(0).And(pr_im.gte(0)).And(fcm.gte(0)).And(wpm.gte(0))\n",
    "\n",
    "    # Apply the mask.\n",
    "    new_rech = new_rech.updateMask(mask)\n",
    "\n",
    "    # Add all Bands to our ee.Image.\n",
    "    new_image = new_rech.addBands(ee.Image([new_apwl, new_st, pr_im, pet_im]))\n",
    "\n",
    "    # Add the new ee.Image to the ee.List.\n",
    "    return ee.List(image_list).add(new_image)"
   ]
  },
  {
   "cell_type": "markdown",
   "metadata": {},
   "source": [
    "Applying the expression"
   ]
  },
  {
   "cell_type": "code",
   "execution_count": 32,
   "metadata": {},
   "outputs": [],
   "source": [
    "rech_list = meteo.iterate(recharge_calculator, image_list)\n",
    "\n",
    "rech_list = ee.List(rech_list).remove(initial_image)\n",
    "\n",
    "rech_coll = ee.ImageCollection(rech_list)"
   ]
  },
  {
   "cell_type": "markdown",
   "metadata": {},
   "source": [
    "Vizualizing a table with the recharge of each month"
   ]
  },
  {
   "cell_type": "code",
   "execution_count": 33,
   "metadata": {},
   "outputs": [
    {
     "data": {
      "text/html": [
       "<div>\n",
       "<style scoped>\n",
       "    .dataframe tbody tr th:only-of-type {\n",
       "        vertical-align: middle;\n",
       "    }\n",
       "\n",
       "    .dataframe tbody tr th {\n",
       "        vertical-align: top;\n",
       "    }\n",
       "\n",
       "    .dataframe thead th {\n",
       "        text-align: right;\n",
       "    }\n",
       "</style>\n",
       "<table border=\"1\" class=\"dataframe\">\n",
       "  <thead>\n",
       "    <tr style=\"text-align: right;\">\n",
       "      <th></th>\n",
       "      <th>time</th>\n",
       "      <th>pr</th>\n",
       "      <th>pet</th>\n",
       "      <th>apwl</th>\n",
       "      <th>st</th>\n",
       "      <th>rech</th>\n",
       "    </tr>\n",
       "    <tr>\n",
       "      <th>datetime</th>\n",
       "      <th></th>\n",
       "      <th></th>\n",
       "      <th></th>\n",
       "      <th></th>\n",
       "      <th></th>\n",
       "      <th></th>\n",
       "    </tr>\n",
       "  </thead>\n",
       "  <tbody>\n",
       "    <tr>\n",
       "      <th>2012-01-01</th>\n",
       "      <td>1325376000000</td>\n",
       "      <td>276.223151</td>\n",
       "      <td>186.968750</td>\n",
       "      <td>0.000000</td>\n",
       "      <td>83.047841</td>\n",
       "      <td>89.254404</td>\n",
       "    </tr>\n",
       "    <tr>\n",
       "      <th>2012-02-01</th>\n",
       "      <td>1328054400000</td>\n",
       "      <td>131.258315</td>\n",
       "      <td>197.804167</td>\n",
       "      <td>66.545852</td>\n",
       "      <td>37.267493</td>\n",
       "      <td>0.000000</td>\n",
       "    </tr>\n",
       "    <tr>\n",
       "      <th>2012-03-01</th>\n",
       "      <td>1330560000000</td>\n",
       "      <td>113.144179</td>\n",
       "      <td>170.112500</td>\n",
       "      <td>346.168859</td>\n",
       "      <td>0.001159</td>\n",
       "      <td>0.000000</td>\n",
       "    </tr>\n",
       "    <tr>\n",
       "      <th>2012-04-01</th>\n",
       "      <td>1333238400000</td>\n",
       "      <td>104.058466</td>\n",
       "      <td>126.375000</td>\n",
       "      <td>190.247614</td>\n",
       "      <td>0.081574</td>\n",
       "      <td>0.000000</td>\n",
       "    </tr>\n",
       "    <tr>\n",
       "      <th>2012-05-01</th>\n",
       "      <td>1335830400000</td>\n",
       "      <td>61.901220</td>\n",
       "      <td>101.525000</td>\n",
       "      <td>104.974895</td>\n",
       "      <td>10.681127</td>\n",
       "      <td>0.000000</td>\n",
       "    </tr>\n",
       "  </tbody>\n",
       "</table>\n",
       "</div>"
      ],
      "text/plain": [
       "0                    time          pr         pet        apwl         st  \\\n",
       "datetime                                                                   \n",
       "2012-01-01  1325376000000  276.223151  186.968750    0.000000  83.047841   \n",
       "2012-02-01  1328054400000  131.258315  197.804167   66.545852  37.267493   \n",
       "2012-03-01  1330560000000  113.144179  170.112500  346.168859   0.001159   \n",
       "2012-04-01  1333238400000  104.058466  126.375000  190.247614   0.081574   \n",
       "2012-05-01  1335830400000   61.901220  101.525000  104.974895  10.681127   \n",
       "\n",
       "0                rech  \n",
       "datetime               \n",
       "2012-01-01  89.254404  \n",
       "2012-02-01   0.000000  \n",
       "2012-03-01   0.000000  \n",
       "2012-04-01   0.000000  \n",
       "2012-05-01   0.000000  "
      ]
     },
     "execution_count": 33,
     "metadata": {},
     "output_type": "execute_result"
    }
   ],
   "source": [
    "rdf_arr = rech_coll.getRegion(poi, scale).getInfo()\n",
    "rdf = pd.DataFrame(rdf_arr)\n",
    "headers = rdf.iloc[0]\n",
    "rdf = pd.DataFrame(rdf.values[1:], columns=headers)\n",
    "\n",
    "#meteo data to numeric\n",
    "for band in [\"pr\", \"pet\", \"apwl\", \"st\", \"rech\"]:\n",
    "    rdf[band] = pd.to_numeric(rdf[band], errors=\"coerce\")\n",
    "\n",
    "#time field to datetime\n",
    "rdf[\"datetime\"] = pd.to_datetime(rdf[\"time\"], unit=\"ms\")\n",
    "\n",
    "#cleaning\n",
    "rdf = rdf[[\"time\", \"datetime\", \"pr\", \"pet\", \"apwl\", \"st\", \"rech\"]]\n",
    "rdf = rdf.set_index(\"datetime\")\n",
    "rdf = rdf.sort_index()\n",
    "\n",
    "#vizualizing\n",
    "rdf.head()"
   ]
  },
  {
   "cell_type": "markdown",
   "metadata": {},
   "source": [
    "Vizualizing the recharge for each month"
   ]
  },
  {
   "cell_type": "code",
   "execution_count": 34,
   "metadata": {},
   "outputs": [
    {
     "data": {
      "image/png": "[encoded data removed]",
      "text/plain": [
       "<Figure size 1080x432 with 1 Axes>"
      ]
     },
     "metadata": {
      "needs_background": "light"
     },
     "output_type": "display_data"
    }
   ],
   "source": [
    "#data vizualization\n",
    "fig, ax = plt.subplots(figsize=(15, 6))\n",
    "\n",
    "rdf[\"pr\"].plot(kind=\"bar\", ax=ax, label=\"precipitation\", alpha=0.5)\n",
    "\n",
    "# Barplot associated with potential evapotranspiration.\n",
    "rdf[\"pet\"].plot(\n",
    "    kind=\"bar\", ax=ax, label=\"potential evapotranspiration\", color=\"orange\", alpha=0.2\n",
    ")\n",
    "\n",
    "# Barplot associated with groundwater recharge\n",
    "rdf[\"rech\"].plot(kind=\"bar\", ax=ax, label=\"recharge\", color=\"green\", alpha=1)\n",
    "\n",
    "# Add a legend.\n",
    "ax.legend()\n",
    "\n",
    "# Define x/y-labels properties.\n",
    "ax.set_ylabel(\"Intensity [mm]\")\n",
    "ax.set_xlabel(None)\n",
    "\n",
    "# Define the date format and shape of x-labels.\n",
    "x_labels = rdf.index.strftime(\"%m-%Y\")\n",
    "ax.set_xticklabels(x_labels, rotation=90, fontsize=10)\n",
    "\n",
    "plt.show()"
   ]
  },
  {
   "cell_type": "markdown",
   "metadata": {},
   "source": [
    "Calculate the average of recharge per year for the area of interest"
   ]
  },
  {
   "cell_type": "code",
   "execution_count": 35,
   "metadata": {},
   "outputs": [
    {
     "name": "stdout",
     "output_type": "stream",
     "text": [
      "The mean annual recharge at our point of interest is 114 mm/an\n"
     ]
    }
   ],
   "source": [
    "rdfy = rdf.resample(\"Y\").sum()\n",
    "\n",
    "# Calculate the mean value.\n",
    "mean_recharge = rdfy[\"rech\"].mean()\n",
    "\n",
    "# Print the result.\n",
    "print(\n",
    "    \"The mean annual recharge at our point of interest is\", int(mean_recharge), \"mm/an\"\n",
    ")"
   ]
  },
  {
   "cell_type": "markdown",
   "metadata": {},
   "source": [
    "Creating a map of the groundwater recharge. This can be vizualized [here](https://github.com/philliperalin/cacapava-wellfield-project/blob/main/results/recharge.png)"
   ]
  },
  {
   "cell_type": "code",
   "execution_count": 36,
   "metadata": {},
   "outputs": [],
   "source": [
    "# Calculate the averaged annual recharge.\n",
    "annual_rech = rech_coll.select(\"rech\").mean().multiply(12)\n",
    "\n",
    "# Calculate the average annual precipitation.\n",
    "annual_pr = rech_coll.select(\"pr\").mean().multiply(12)\n",
    "\n",
    "# Get a feature collection of administrative boundaries.\n",
    "countries = ee.FeatureCollection(\"FAO/GAUL/2015/level0\").select(\"ADM0_NAME\")\n",
    "\n",
    "# Filter the feature collection to subset France.\n",
    "brazil = countries.filter(ee.Filter.eq(\"ADM0_NAME\", \"Brazil\"))\n",
    "\n",
    "# Clip the composite ee.Images around the region of interest.\n",
    "rech_brazil = annual_rech.clip(brazil)\n",
    "pr_brazil = annual_pr.clip(brazil)"
   ]
  },
  {
   "cell_type": "code",
   "execution_count": 37,
   "metadata": {},
   "outputs": [
    {
     "data": {
      "text/html": [
       "<div style=\"width:100%;\"><div style=\"position:relative;width:100%;height:0;padding-bottom:60%;\"><iframe src=\"data:text/html;charset=utf-8;base64,PCFET0NUWVBFIGh0bWw+CjxoZWFkPiAgICAKICAgIDxtZXRhIGh0dHAtZXF1aXY9ImNvbnRlbnQtdHlwZSIgY29udGVudD0idGV4dC9odG1sOyBjaGFyc2V0PVVURi04IiAvPgogICAgCiAgICAgICAgPHNjcmlwdD4KICAgICAgICAgICAgTF9OT19UT1VDSCA9IGZhbHNlOwogICAgICAgICAgICBMX0RJU0FCTEVfM0QgPSBmYWxzZTsKICAgICAgICA8L3NjcmlwdD4KICAgIAogICAgPHN0eWxlPmh0bWwsIGJvZHkge3dpZHRoOiAxMDAlO2hlaWdodDogMTAwJTttYXJnaW46IDA7cGFkZGluZzogMDt9PC9zdHlsZT4KICAgIDxzdHlsZT4jbWFwIHtwb3NpdGlvbjphYnNvbHV0ZTt0b3A6MDtib3R0b206MDtyaWdodDowO2xlZnQ6MDt9PC9zdHlsZT4KICAgIDxzY3JpcHQgc3JjPSJodHRwczovL2Nkbi5qc2RlbGl2ci5uZXQvbnBtL2xlYWZsZXRAMS42LjAvZGlzdC9sZWFmbGV0LmpzIj48L3NjcmlwdD4KICAgIDxzY3JpcHQgc3JjPSJodHRwczovL2NvZGUuanF1ZXJ5LmNvbS9qcXVlcnktMS4xMi40Lm1pbi5qcyI+PC9zY3JpcHQ+CiAgICA8c2NyaXB0IHNyYz0iaHR0cHM6Ly9tYXhjZG4uYm9vdHN0cmFwY2RuLmNvbS9ib290c3RyYXAvMy4yLjAvanMvYm9vdHN0cmFwLm1pbi5qcyI+PC9zY3JpcHQ+CiAgICA8c2NyaXB0IHNyYz0iaHR0cHM6Ly9jZG5qcy5jbG91ZGZsYXJlLmNvbS9hamF4L2xpYnMvTGVhZmxldC5hd2Vzb21lLW1hcmtlcnMvMi4wLjIvbGVhZmxldC5hd2Vzb21lLW1hcmtlcnMuanMiPjwvc2NyaXB0PgogICAgPGxpbmsgcmVsPSJzdHlsZXNoZWV0IiBocmVmPSJodHRwczovL2Nkbi5qc2RlbGl2ci5uZXQvbnBtL2xlYWZsZXRAMS42LjAvZGlzdC9sZWFmbGV0LmNzcyIvPgogICAgPGxpbmsgcmVsPSJzdHlsZXNoZWV0IiBocmVmPSJodHRwczovL21heGNkbi5ib290c3RyYXBjZG4uY29tL2Jvb3RzdHJhcC8zLjIuMC9jc3MvYm9vdHN0cmFwLm1pbi5jc3MiLz4KICAgIDxsaW5rIHJlbD0ic3R5bGVzaGVldCIgaHJlZj0iaHR0cHM6Ly9tYXhjZG4uYm9vdHN0cmFwY2RuLmNvbS9ib290c3RyYXAvMy4yLjAvY3NzL2Jvb3RzdHJhcC10aGVtZS5taW4uY3NzIi8+CiAgICA8bGluayByZWw9InN0eWxlc2hlZXQiIGhyZWY9Imh0dHBzOi8vbWF4Y2RuLmJvb3RzdHJhcGNkbi5jb20vZm9udC1hd2Vzb21lLzQuNi4zL2Nzcy9mb250LWF3ZXNvbWUubWluLmNzcyIvPgogICAgPGxpbmsgcmVsPSJzdHlsZXNoZWV0IiBocmVmPSJodHRwczovL2NkbmpzLmNsb3VkZmxhcmUuY29tL2FqYXgvbGlicy9MZWFmbGV0LmF3ZXNvbWUtbWFya2Vycy8yLjAuMi9sZWFmbGV0LmF3ZXNvbWUtbWFya2Vycy5jc3MiLz4KICAgIDxsaW5rIHJlbD0ic3R5bGVzaGVldCIgaHJlZj0iaHR0cHM6Ly9jZG4uanNkZWxpdnIubmV0L2doL3B5dGhvbi12aXN1YWxpemF0aW9uL2ZvbGl1bS9mb2xpdW0vdGVtcGxhdGVzL2xlYWZsZXQuYXdlc29tZS5yb3RhdGUubWluLmNzcyIvPgogICAgCiAgICAgICAgICAgIDxtZXRhIG5hbWU9InZpZXdwb3J0IiBjb250ZW50PSJ3aWR0aD1kZXZpY2Utd2lkdGgsCiAgICAgICAgICAgICAgICBpbml0aWFsLXNjYWxlPTEuMCwgbWF4aW11bS1zY2FsZT0xLjAsIHVzZXItc2NhbGFibGU9bm8iIC8+CiAgICAgICAgICAgIDxzdHlsZT4KICAgICAgICAgICAgICAgICNtYXBfNmM4ZjM5NzMxYjA4NGRiODk2MTBkMGY2NjkwYTFmZDAgewogICAgICAgICAgICAgICAgICAgIHBvc2l0aW9uOiByZWxhdGl2ZTsKICAgICAgICAgICAgICAgICAgICB3aWR0aDogMTAwLjAlOwogICAgICAgICAgICAgICAgICAgIGhlaWdodDogMTAwLjAlOwogICAgICAgICAgICAgICAgICAgIGxlZnQ6IDAuMCU7CiAgICAgICAgICAgICAgICAgICAgdG9wOiAwLjAlOwogICAgICAgICAgICAgICAgfQogICAgICAgICAgICA8L3N0eWxlPgogICAgICAgIAogICAgPHNjcmlwdCBzcmM9Imh0dHBzOi8vY2RuanMuY2xvdWRmbGFyZS5jb20vYWpheC9saWJzL2QzLzMuNS41L2QzLm1pbi5qcyI+PC9zY3JpcHQ+CjwvaGVhZD4KPGJvZHk+ICAgIAogICAgCiAgICAgICAgICAgIDxkaXYgY2xhc3M9ImZvbGl1bS1tYXAiIGlkPSJtYXBfNmM4ZjM5NzMxYjA4NGRiODk2MTBkMGY2NjkwYTFmZDAiID48L2Rpdj4KICAgICAgICAKPC9ib2R5Pgo8c2NyaXB0PiAgICAKICAgIAogICAgICAgICAgICB2YXIgbWFwXzZjOGYzOTczMWIwODRkYjg5NjEwZDBmNjY5MGExZmQwID0gTC5tYXAoCiAgICAgICAgICAgICAgICAibWFwXzZjOGYzOTczMWIwODRkYjg5NjEwZDBmNjY5MGExZmQwIiwKICAgICAgICAgICAgICAgIHsKICAgICAgICAgICAgICAgICAgICBjZW50ZXI6IFstMjMuMTAwNDIxLCAtNDUuNjg1Njk0XSwKICAgICAgICAgICAgICAgICAgICBjcnM6IEwuQ1JTLkVQU0czODU3LAogICAgICAgICAgICAgICAgICAgIHpvb206IDEwLAogICAgICAgICAgICAgICAgICAgIHpvb21Db250cm9sOiBmYWxzZSwKICAgICAgICAgICAgICAgICAgICBwcmVmZXJDYW52YXM6IGZhbHNlLAogICAgICAgICAgICAgICAgfQogICAgICAgICAgICApOwoKICAgICAgICAgICAgCgogICAgICAgIAogICAgCiAgICAgICAgICAgIHZhciB0aWxlX2xheWVyXzljYzk0ZGZhZjBiYjQ3YTliODIyNTM5MmE2ODg2YmVkID0gTC50aWxlTGF5ZXIoCiAgICAgICAgICAgICAgICAiaHR0cHM6Ly97c30udGlsZS5vcGVuc3RyZWV0bWFwLm9yZy97en0ve3h9L3t5fS5wbmciLAogICAgICAgICAgICAgICAgeyJhdHRyaWJ1dGlvbiI6ICJEYXRhIGJ5IFx1MDAyNmNvcHk7IFx1MDAzY2EgaHJlZj1cImh0dHA6Ly9vcGVuc3RyZWV0bWFwLm9yZ1wiXHUwMDNlT3BlblN0cmVldE1hcFx1MDAzYy9hXHUwMDNlLCB1bmRlciBcdTAwM2NhIGhyZWY9XCJodHRwOi8vd3d3Lm9wZW5zdHJlZXRtYXAub3JnL2NvcHlyaWdodFwiXHUwMDNlT0RiTFx1MDAzYy9hXHUwMDNlLiIsICJkZXRlY3RSZXRpbmEiOiBmYWxzZSwgIm1heE5hdGl2ZVpvb20iOiAxOCwgIm1heFpvb20iOiAxOCwgIm1pblpvb20iOiAwLCAibm9XcmFwIjogZmFsc2UsICJvcGFjaXR5IjogMSwgInN1YmRvbWFpbnMiOiAiYWJjIiwgInRtcyI6IGZhbHNlfQogICAgICAgICAgICApLmFkZFRvKG1hcF82YzhmMzk3MzFiMDg0ZGI4OTYxMGQwZjY2OTBhMWZkMCk7CiAgICAgICAgCiAgICAKICAgICAgICAgICAgdmFyIHRpbGVfbGF5ZXJfOTY0OGNkMzg0ODk4NDlmZTk3Nzg1NDM1Y2RkYmMzNTYgPSBMLnRpbGVMYXllcigKICAgICAgICAgICAgICAgICJodHRwczovL2VhcnRoZW5naW5lLmdvb2dsZWFwaXMuY29tL3YxYWxwaGEvcHJvamVjdHMvZWFydGhlbmdpbmUtbGVnYWN5L21hcHMvNDZmNjg5ZGE2NzNkNzUzZmViMmQ3M2NiNGJmMTFkYjgtZTljNzkxZjRlZDI5YjhmMDIwM2NlMGJlNzMzNDQyNTEvdGlsZXMve3p9L3t4fS97eX0iLAogICAgICAgICAgICAgICAgeyJhdHRyaWJ1dGlvbiI6ICJNYXAgRGF0YSBcdTAwMjZjb3B5OyBcdTAwM2NhIGhyZWY9XHUwMDI3aHR0cHM6Ly9lYXJ0aGVuZ2luZS5nb29nbGUuY29tL1x1MDAyN1x1MDAzZUdvb2dsZSBFYXJ0aCBFbmdpbmVcdTAwM2MvYVx1MDAzZSIsICJkZXRlY3RSZXRpbmEiOiBmYWxzZSwgIm1heE5hdGl2ZVpvb20iOiAxOCwgIm1heFpvb20iOiAxOCwgIm1pblpvb20iOiAwLCAibm9XcmFwIjogZmFsc2UsICJvcGFjaXR5IjogMSwgInN1YmRvbWFpbnMiOiAiYWJjIiwgInRtcyI6IGZhbHNlfQogICAgICAgICAgICApLmFkZFRvKG1hcF82YzhmMzk3MzFiMDg0ZGI4OTYxMGQwZjY2OTBhMWZkMCk7CiAgICAgICAgCiAgICAKICAgICAgICAgICAgdmFyIHRpbGVfbGF5ZXJfMzlmNmE1MDZhOTVlNGM5ZWExOWU0NWIwYTE0Mjc3NTIgPSBMLnRpbGVMYXllcigKICAgICAgICAgICAgICAgICJodHRwczovL2VhcnRoZW5naW5lLmdvb2dsZWFwaXMuY29tL3YxYWxwaGEvcHJvamVjdHMvZWFydGhlbmdpbmUtbGVnYWN5L21hcHMvNTdkOTAxZDY0ODEyNzBlZjg4NWEzMTY0NTBkMDlhNTItOWI1ZTExY2YwM2JiMGM4YWQ3ZTgzZjI1NzYxOTliYTMvdGlsZXMve3p9L3t4fS97eX0iLAogICAgICAgICAgICAgICAgeyJhdHRyaWJ1dGlvbiI6ICJNYXAgRGF0YSBcdTAwMjZjb3B5OyBcdTAwM2NhIGhyZWY9XHUwMDI3aHR0cHM6Ly9lYXJ0aGVuZ2luZS5nb29nbGUuY29tL1x1MDAyN1x1MDAzZUdvb2dsZSBFYXJ0aCBFbmdpbmVcdTAwM2MvYVx1MDAzZSIsICJkZXRlY3RSZXRpbmEiOiBmYWxzZSwgIm1heE5hdGl2ZVpvb20iOiAxOCwgIm1heFpvb20iOiAxOCwgIm1pblpvb20iOiAwLCAibm9XcmFwIjogZmFsc2UsICJvcGFjaXR5IjogMSwgInN1YmRvbWFpbnMiOiAiYWJjIiwgInRtcyI6IGZhbHNlfQogICAgICAgICAgICApLmFkZFRvKG1hcF82YzhmMzk3MzFiMDg0ZGI4OTYxMGQwZjY2OTBhMWZkMCk7CiAgICAgICAgCiAgICAKICAgICAgICAgICAgdmFyIG1hcmtlcl8yOTk2ZWQ5MmI0YmQ0ZTg3OTcwMzg5Yzk5ZmY2OGUwNyA9IEwubWFya2VyKAogICAgICAgICAgICAgICAgWy0yMy4xMDA0MjEsIC00NS42ODU2OTRdLAogICAgICAgICAgICAgICAge30KICAgICAgICAgICAgKS5hZGRUbyhtYXBfNmM4ZjM5NzMxYjA4NGRiODk2MTBkMGY2NjkwYTFmZDApOwogICAgICAgIAogICAgCiAgICAgICAgdmFyIHBvcHVwXzUyZDc3NGEyZGQ1YTQ1MDZhYWVkYWRlYTQwNzg5NDA0ID0gTC5wb3B1cCh7Im1heFdpZHRoIjogIjEwMCUifSk7CgogICAgICAgIAogICAgICAgICAgICB2YXIgaHRtbF9mY2ZjZDk1ZDk5YmY0ZjEwOGVjZThhOTBiYzM2ODU2YiA9ICQoYDxkaXYgaWQ9Imh0bWxfZmNmY2Q5NWQ5OWJmNGYxMDhlY2U4YTkwYmMzNjg1NmIiIHN0eWxlPSJ3aWR0aDogMTAwLjAlOyBoZWlnaHQ6IDEwMC4wJTsiPkFyZWEgb2YgSW50ZXJlc3Q8L2Rpdj5gKVswXTsKICAgICAgICAgICAgcG9wdXBfNTJkNzc0YTJkZDVhNDUwNmFhZWRhZGVhNDA3ODk0MDQuc2V0Q29udGVudChodG1sX2ZjZmNkOTVkOTliZjRmMTA4ZWNlOGE5MGJjMzY4NTZiKTsKICAgICAgICAKCiAgICAgICAgbWFya2VyXzI5OTZlZDkyYjRiZDRlODc5NzAzODljOTlmZjY4ZTA3LmJpbmRQb3B1cChwb3B1cF81MmQ3NzRhMmRkNWE0NTA2YWFlZGFkZWE0MDc4OTQwNCkKICAgICAgICA7CgogICAgICAgIAogICAgCiAgICAKICAgIHZhciBjb2xvcl9tYXBfZTVlNGIwZTA0YjgxNGExNDk5ZDQ0MWI4OGNiMGZhYjEgPSB7fTsKCiAgICAKICAgIGNvbG9yX21hcF9lNWU0YjBlMDRiODE0YTE0OTlkNDQxYjg4Y2IwZmFiMS5jb2xvciA9IGQzLnNjYWxlLnRocmVzaG9sZCgpCiAgICAgICAgICAgICAgLmRvbWFpbihbMC4wLCAxLjAwMjAwNDAwODAxNjAzMiwgMi4wMDQwMDgwMTYwMzIwNjQsIDMuMDA2MDEyMDI0MDQ4MDk2LCA0LjAwODAxNjAzMjA2NDEyOCwgNS4wMTAwMjAwNDAwODAxNiwgNi4wMTIwMjQwNDgwOTYxOTIsIDcuMDE0MDI4MDU2MTEyMjI1LCA4LjAxNjAzMjA2NDEyODI1NiwgOS4wMTgwMzYwNzIxNDQyOSwgMTAuMDIwMDQwMDgwMTYwMzIsIDExLjAyMjA0NDA4ODE3NjM1MywgMTIuMDI0MDQ4MDk2MTkyMzg0LCAxMy4wMjYwNTIxMDQyMDg0MTYsIDE0LjAyODA1NjExMjIyNDQ1LCAxNS4wMzAwNjAxMjAyNDA0ODEsIDE2LjAzMjA2NDEyODI1NjUxLCAxNy4wMzQwNjgxMzYyNzI1NDUsIDE4LjAzNjA3MjE0NDI4ODU4LCAxOS4wMzgwNzYxNTIzMDQ2MSwgMjAuMDQwMDgwMTYwMzIwNjQsIDIxLjA0MjA4NDE2ODMzNjY3LCAyMi4wNDQwODgxNzYzNTI3MDUsIDIzLjA0NjA5MjE4NDM2ODc0LCAyNC4wNDgwOTYxOTIzODQ3NywgMjUuMDUwMTAwMjAwNDAwODAyLCAyNi4wNTIxMDQyMDg0MTY4MzIsIDI3LjA1NDEwODIxNjQzMjg2NiwgMjguMDU2MTEyMjI0NDQ4OSwgMjkuMDU4MTE2MjMyNDY0OTMsIDMwLjA2MDEyMDI0MDQ4MDk2MywgMzEuMDYyMTI0MjQ4NDk2OTkzLCAzMi4wNjQxMjgyNTY1MTMwMiwgMzMuMDY2MTMyMjY0NTI5MDYsIDM0LjA2ODEzNjI3MjU0NTA5LCAzNS4wNzAxNDAyODA1NjExMiwgMzYuMDcyMTQ0Mjg4NTc3MTYsIDM3LjA3NDE0ODI5NjU5MzE5LCAzOC4wNzYxNTIzMDQ2MDkyMiwgMzkuMDc4MTU2MzEyNjI1MjU0LCA0MC4wODAxNjAzMjA2NDEyOCwgNDEuMDgyMTY0MzI4NjU3MzEsIDQyLjA4NDE2ODMzNjY3MzM0LCA0My4wODYxNzIzNDQ2ODkzOCwgNDQuMDg4MTc2MzUyNzA1NDEsIDQ1LjA5MDE4MDM2MDcyMTQ0LCA0Ni4wOTIxODQzNjg3Mzc0OCwgNDcuMDk0MTg4Mzc2NzUzNTEsIDQ4LjA5NjE5MjM4NDc2OTU0LCA0OS4wOTgxOTYzOTI3ODU1NzQsIDUwLjEwMDIwMDQwMDgwMTYwNCwgNTEuMTAyMjA0NDA4ODE3NjM0LCA1Mi4xMDQyMDg0MTY4MzM2NjQsIDUzLjEwNjIxMjQyNDg0OTcsIDU0LjEwODIxNjQzMjg2NTczLCA1NS4xMTAyMjA0NDA4ODE3NiwgNTYuMTEyMjI0NDQ4ODk3OCwgNTcuMTE0MjI4NDU2OTEzODMsIDU4LjExNjIzMjQ2NDkyOTg2LCA1OS4xMTgyMzY0NzI5NDU4OSwgNjAuMTIwMjQwNDgwOTYxOTI1LCA2MS4xMjIyNDQ0ODg5Nzc5NTUsIDYyLjEyNDI0ODQ5Njk5Mzk4NSwgNjMuMTI2MjUyNTA1MDEwMDIsIDY0LjEyODI1NjUxMzAyNjA1LCA2NS4xMzAyNjA1MjEwNDIwOSwgNjYuMTMyMjY0NTI5MDU4MTIsIDY3LjEzNDI2ODUzNzA3NDE1LCA2OC4xMzYyNzI1NDUwOTAxOCwgNjkuMTM4Mjc2NTUzMTA2MjEsIDcwLjE0MDI4MDU2MTEyMjI0LCA3MS4xNDIyODQ1NjkxMzgyOCwgNzIuMTQ0Mjg4NTc3MTU0MzEsIDczLjE0NjI5MjU4NTE3MDM0LCA3NC4xNDgyOTY1OTMxODYzNywgNzUuMTUwMzAwNjAxMjAyNCwgNzYuMTUyMzA0NjA5MjE4NDMsIDc3LjE1NDMwODYxNzIzNDQ2LCA3OC4xNTYzMTI2MjUyNTA1MSwgNzkuMTU4MzE2NjMzMjY2NTQsIDgwLjE2MDMyMDY0MTI4MjU3LCA4MS4xNjIzMjQ2NDkyOTg2LCA4Mi4xNjQzMjg2NTczMTQ2MywgODMuMTY2MzMyNjY1MzMwNjYsIDg0LjE2ODMzNjY3MzM0NjY5LCA4NS4xNzAzNDA2ODEzNjI3MywgODYuMTcyMzQ0Njg5Mzc4NzYsIDg3LjE3NDM0ODY5NzM5NDc5LCA4OC4xNzYzNTI3MDU0MTA4MiwgODkuMTc4MzU2NzEzNDI2ODUsIDkwLjE4MDM2MDcyMTQ0Mjg4LCA5MS4xODIzNjQ3Mjk0NTg5MSwgOTIuMTg0MzY4NzM3NDc0OTUsIDkzLjE4NjM3Mjc0NTQ5MDk4LCA5NC4xODgzNzY3NTM1MDcwMSwgOTUuMTkwMzgwNzYxNTIzMDQsIDk2LjE5MjM4NDc2OTUzOTA3LCA5Ny4xOTQzODg3Nzc1NTUxLCA5OC4xOTYzOTI3ODU1NzExNSwgOTkuMTk4Mzk2NzkzNTg3MTgsIDEwMC4yMDA0MDA4MDE2MDMyMSwgMTAxLjIwMjQwNDgwOTYxOTI0LCAxMDIuMjA0NDA4ODE3NjM1MjcsIDEwMy4yMDY0MTI4MjU2NTEzLCAxMDQuMjA4NDE2ODMzNjY3MzMsIDEwNS4yMTA0MjA4NDE2ODMzNywgMTA2LjIxMjQyNDg0OTY5OTQsIDEwNy4yMTQ0Mjg4NTc3MTU0MywgMTA4LjIxNjQzMjg2NTczMTQ2LCAxMDkuMjE4NDM2ODczNzQ3NDksIDExMC4yMjA0NDA4ODE3NjM1MiwgMTExLjIyMjQ0NDg4OTc3OTU1LCAxMTIuMjI0NDQ4ODk3Nzk1NiwgMTEzLjIyNjQ1MjkwNTgxMTYzLCAxMTQuMjI4NDU2OTEzODI3NjYsIDExNS4yMzA0NjA5MjE4NDM2OSwgMTE2LjIzMjQ2NDkyOTg1OTcyLCAxMTcuMjM0NDY4OTM3ODc1NzUsIDExOC4yMzY0NzI5NDU4OTE3OCwgMTE5LjIzODQ3Njk1MzkwNzgyLCAxMjAuMjQwNDgwOTYxOTIzODUsIDEyMS4yNDI0ODQ5Njk5Mzk4OCwgMTIyLjI0NDQ4ODk3Nzk1NTkxLCAxMjMuMjQ2NDkyOTg1OTcxOTQsIDEyNC4yNDg0OTY5OTM5ODc5NywgMTI1LjI1MDUwMTAwMjAwNDAxLCAxMjYuMjUyNTA1MDEwMDIwMDQsIDEyNy4yNTQ1MDkwMTgwMzYwNywgMTI4LjI1NjUxMzAyNjA1MjEsIDEyOS4yNTg1MTcwMzQwNjgxNSwgMTMwLjI2MDUyMTA0MjA4NDE4LCAxMzEuMjYyNTI1MDUwMTAwMiwgMTMyLjI2NDUyOTA1ODExNjI0LCAxMzMuMjY2NTMzMDY2MTMyMjcsIDEzNC4yNjg1MzcwNzQxNDgzLCAxMzUuMjcwNTQxMDgyMTY0MzMsIDEzNi4yNzI1NDUwOTAxODAzNiwgMTM3LjI3NDU0OTA5ODE5NjQsIDEzOC4yNzY1NTMxMDYyMTI0MiwgMTM5LjI3ODU1NzExNDIyODQ1LCAxNDAuMjgwNTYxMTIyMjQ0NDgsIDE0MS4yODI1NjUxMzAyNjA1LCAxNDIuMjg0NTY5MTM4Mjc2NTcsIDE0My4yODY1NzMxNDYyOTI2LCAxNDQuMjg4NTc3MTU0MzA4NjMsIDE0NS4yOTA1ODExNjIzMjQ2NiwgMTQ2LjI5MjU4NTE3MDM0MDcsIDE0Ny4yOTQ1ODkxNzgzNTY3MiwgMTQ4LjI5NjU5MzE4NjM3Mjc1LCAxNDkuMjk4NTk3MTk0Mzg4NzgsIDE1MC4zMDA2MDEyMDI0MDQ4LCAxNTEuMzAyNjA1MjEwNDIwODQsIDE1Mi4zMDQ2MDkyMTg0MzY4NywgMTUzLjMwNjYxMzIyNjQ1MjksIDE1NC4zMDg2MTcyMzQ0Njg5MywgMTU1LjMxMDYyMTI0MjQ4NDk2LCAxNTYuMzEyNjI1MjUwNTAxMDEsIDE1Ny4zMTQ2MjkyNTg1MTcwNCwgMTU4LjMxNjYzMzI2NjUzMzA3LCAxNTkuMzE4NjM3Mjc0NTQ5MSwgMTYwLjMyMDY0MTI4MjU2NTEzLCAxNjEuMzIyNjQ1MjkwNTgxMTYsIDE2Mi4zMjQ2NDkyOTg1OTcyLCAxNjMuMzI2NjUzMzA2NjEzMjIsIDE2NC4zMjg2NTczMTQ2MjkyNSwgMTY1LjMzMDY2MTMyMjY0NTI4LCAxNjYuMzMyNjY1MzMwNjYxMywgMTY3LjMzNDY2OTMzODY3NzM0LCAxNjguMzM2NjczMzQ2NjkzMzcsIDE2OS4zMzg2NzczNTQ3MDk0MywgMTcwLjM0MDY4MTM2MjcyNTQ2LCAxNzEuMzQyNjg1MzcwNzQxNSwgMTcyLjM0NDY4OTM3ODc1NzUyLCAxNzMuMzQ2NjkzMzg2NzczNTUsIDE3NC4zNDg2OTczOTQ3ODk1OCwgMTc1LjM1MDcwMTQwMjgwNTYsIDE3Ni4zNTI3MDU0MTA4MjE2NCwgMTc3LjM1NDcwOTQxODgzNzY3LCAxNzguMzU2NzEzNDI2ODUzNywgMTc5LjM1ODcxNzQzNDg2OTczLCAxODAuMzYwNzIxNDQyODg1NzYsIDE4MS4zNjI3MjU0NTA5MDE4LCAxODIuMzY0NzI5NDU4OTE3ODIsIDE4My4zNjY3MzM0NjY5MzM4OCwgMTg0LjM2ODczNzQ3NDk0OTksIDE4NS4zNzA3NDE0ODI5NjU5NCwgMTg2LjM3Mjc0NTQ5MDk4MTk3LCAxODcuMzc0NzQ5NDk4OTk4LCAxODguMzc2NzUzNTA3MDE0MDMsIDE4OS4zNzg3NTc1MTUwMzAwNiwgMTkwLjM4MDc2MTUyMzA0NjEsIDE5MS4zODI3NjU1MzEwNjIxMiwgMTkyLjM4NDc2OTUzOTA3ODE1LCAxOTMuMzg2NzczNTQ3MDk0MTgsIDE5NC4zODg3Nzc1NTUxMTAyLCAxOTUuMzkwNzgxNTYzMTI2MjQsIDE5Ni4zOTI3ODU1NzExNDIzLCAxOTcuMzk0Nzg5NTc5MTU4MzMsIDE5OC4zOTY3OTM1ODcxNzQzNiwgMTk5LjM5ODc5NzU5NTE5MDQsIDIwMC40MDA4MDE2MDMyMDY0MiwgMjAxLjQwMjgwNTYxMTIyMjQ1LCAyMDIuNDA0ODA5NjE5MjM4NDgsIDIwMy40MDY4MTM2MjcyNTQ1LCAyMDQuNDA4ODE3NjM1MjcwNTQsIDIwNS40MTA4MjE2NDMyODY1NywgMjA2LjQxMjgyNTY1MTMwMjYsIDIwNy40MTQ4Mjk2NTkzMTg2MywgMjA4LjQxNjgzMzY2NzMzNDY2LCAyMDkuNDE4ODM3Njc1MzUwNywgMjEwLjQyMDg0MTY4MzM2Njc1LCAyMTEuNDIyODQ1NjkxMzgyNzgsIDIxMi40MjQ4NDk2OTkzOTg4LCAyMTMuNDI2ODUzNzA3NDE0ODQsIDIxNC40Mjg4NTc3MTU0MzA4NywgMjE1LjQzMDg2MTcyMzQ0NjksIDIxNi40MzI4NjU3MzE0NjI5MywgMjE3LjQzNDg2OTczOTQ3ODk2LCAyMTguNDM2ODczNzQ3NDk0OTksIDIxOS40Mzg4Nzc3NTU1MTEwMiwgMjIwLjQ0MDg4MTc2MzUyNzA1LCAyMjEuNDQyODg1NzcxNTQzMDgsIDIyMi40NDQ4ODk3Nzk1NTkxLCAyMjMuNDQ2ODkzNzg3NTc1MTYsIDIyNC40NDg4OTc3OTU1OTEyLCAyMjUuNDUwOTAxODAzNjA3MjIsIDIyNi40NTI5MDU4MTE2MjMyNSwgMjI3LjQ1NDkwOTgxOTYzOTI4LCAyMjguNDU2OTEzODI3NjU1MywgMjI5LjQ1ODkxNzgzNTY3MTM0LCAyMzAuNDYwOTIxODQzNjg3MzcsIDIzMS40NjI5MjU4NTE3MDM0LCAyMzIuNDY0OTI5ODU5NzE5NDMsIDIzMy40NjY5MzM4Njc3MzU0NiwgMjM0LjQ2ODkzNzg3NTc1MTUsIDIzNS40NzA5NDE4ODM3Njc1MiwgMjM2LjQ3Mjk0NTg5MTc4MzU1LCAyMzcuNDc0OTQ5ODk5Nzk5NiwgMjM4LjQ3Njk1MzkwNzgxNTY0LCAyMzkuNDc4OTU3OTE1ODMxNjcsIDI0MC40ODA5NjE5MjM4NDc3LCAyNDEuNDgyOTY1OTMxODYzNzMsIDI0Mi40ODQ5Njk5Mzk4Nzk3NiwgMjQzLjQ4Njk3Mzk0Nzg5NTgsIDI0NC40ODg5Nzc5NTU5MTE4MiwgMjQ1LjQ5MDk4MTk2MzkyNzg1LCAyNDYuNDkyOTg1OTcxOTQzODgsIDI0Ny40OTQ5ODk5Nzk5NTk5LCAyNDguNDk2OTkzOTg3OTc1OTQsIDI0OS40OTg5OTc5OTU5OTE5NywgMjUwLjUwMTAwMjAwNDAwODAzLCAyNTEuNTAzMDA2MDEyMDI0MDYsIDI1Mi41MDUwMTAwMjAwNDAxLCAyNTMuNTA3MDE0MDI4MDU2MTIsIDI1NC41MDkwMTgwMzYwNzIxNSwgMjU1LjUxMTAyMjA0NDA4ODE4LCAyNTYuNTEzMDI2MDUyMTA0MiwgMjU3LjUxNTAzMDA2MDEyMDI0LCAyNTguNTE3MDM0MDY4MTM2MywgMjU5LjUxOTAzODA3NjE1MjMsIDI2MC41MjEwNDIwODQxNjgzNiwgMjYxLjUyMzA0NjA5MjE4NDM2LCAyNjIuNTI1MDUwMTAwMjAwNCwgMjYzLjUyNzA1NDEwODIxNjQsIDI2NC41MjkwNTgxMTYyMzI1LCAyNjUuNTMxMDYyMTI0MjQ4NSwgMjY2LjUzMzA2NjEzMjI2NDU0LCAyNjcuNTM1MDcwMTQwMjgwNTQsIDI2OC41MzcwNzQxNDgyOTY2LCAyNjkuNTM5MDc4MTU2MzEyNiwgMjcwLjU0MTA4MjE2NDMyODY2LCAyNzEuNTQzMDg2MTcyMzQ0NywgMjcyLjU0NTA5MDE4MDM2MDcsIDI3My41NDcwOTQxODgzNzY4LCAyNzQuNTQ5MDk4MTk2MzkyOCwgMjc1LjU1MTEwMjIwNDQwODgzLCAyNzYuNTUzMTA2MjEyNDI0ODQsIDI3Ny41NTUxMTAyMjA0NDA5LCAyNzguNTU3MTE0MjI4NDU2OSwgMjc5LjU1OTExODIzNjQ3Mjk1LCAyODAuNTYxMTIyMjQ0NDg4OTYsIDI4MS41NjMxMjYyNTI1MDUsIDI4Mi41NjUxMzAyNjA1MjEsIDI4My41NjcxMzQyNjg1MzcxLCAyODQuNTY5MTM4Mjc2NTUzMTMsIDI4NS41NzExNDIyODQ1NjkxMywgMjg2LjU3MzE0NjI5MjU4NTIsIDI4Ny41NzUxNTAzMDA2MDEyLCAyODguNTc3MTU0MzA4NjE3MjUsIDI4OS41NzkxNTgzMTY2MzMyNSwgMjkwLjU4MTE2MjMyNDY0OTMsIDI5MS41ODMxNjYzMzI2NjUzLCAyOTIuNTg1MTcwMzQwNjgxNCwgMjkzLjU4NzE3NDM0ODY5NzQsIDI5NC41ODkxNzgzNTY3MTM0MywgMjk1LjU5MTE4MjM2NDcyOTQzLCAyOTYuNTkzMTg2MzcyNzQ1NSwgMjk3LjU5NTE5MDM4MDc2MTU1LCAyOTguNTk3MTk0Mzg4Nzc3NTUsIDI5OS41OTkxOTgzOTY3OTM2LCAzMDAuNjAxMjAyNDA0ODA5NiwgMzAxLjYwMzIwNjQxMjgyNTY3LCAzMDIuNjA1MjEwNDIwODQxNywgMzAzLjYwNzIxNDQyODg1NzczLCAzMDQuNjA5MjE4NDM2ODczNzMsIDMwNS42MTEyMjI0NDQ4ODk4LCAzMDYuNjEzMjI2NDUyOTA1OCwgMzA3LjYxNTIzMDQ2MDkyMTg1LCAzMDguNjE3MjM0NDY4OTM3ODUsIDMwOS42MTkyMzg0NzY5NTM5LCAzMTAuNjIxMjQyNDg0OTY5OSwgMzExLjYyMzI0NjQ5Mjk4NTk3LCAzMTIuNjI1MjUwNTAxMDAyMDMsIDMxMy42MjcyNTQ1MDkwMTgwMywgMzE0LjYyOTI1ODUxNzAzNDEsIDMxNS42MzEyNjI1MjUwNTAxLCAzMTYuNjMzMjY2NTMzMDY2MTUsIDMxNy42MzUyNzA1NDEwODIxNSwgMzE4LjYzNzI3NDU0OTA5ODIsIDMxOS42MzkyNzg1NTcxMTQyLCAzMjAuNjQxMjgyNTY1MTMwMjcsIDMyMS42NDMyODY1NzMxNDYyNywgMzIyLjY0NTI5MDU4MTE2MjMsIDMyMy42NDcyOTQ1ODkxNzgzMywgMzI0LjY0OTI5ODU5NzE5NDQsIDMyNS42NTEzMDI2MDUyMTA0NSwgMzI2LjY1MzMwNjYxMzIyNjQ1LCAzMjcuNjU1MzEwNjIxMjQyNSwgMzI4LjY1NzMxNDYyOTI1ODUsIDMyOS42NTkzMTg2MzcyNzQ1NywgMzMwLjY2MTMyMjY0NTI5MDU3LCAzMzEuNjYzMzI2NjUzMzA2NiwgMzMyLjY2NTMzMDY2MTMyMjYsIDMzMy42NjczMzQ2NjkzMzg3LCAzMzQuNjY5MzM4Njc3MzU0NywgMzM1LjY3MTM0MjY4NTM3MDc1LCAzMzYuNjczMzQ2NjkzMzg2NzUsIDMzNy42NzUzNTA3MDE0MDI4LCAzMzguNjc3MzU0NzA5NDE4ODYsIDMzOS42NzkzNTg3MTc0MzQ4NywgMzQwLjY4MTM2MjcyNTQ1MDksIDM0MS42ODMzNjY3MzM0NjY5LCAzNDIuNjg1MzcwNzQxNDgzLCAzNDMuNjg3Mzc0NzQ5NDk5LCAzNDQuNjg5Mzc4NzU3NTE1MDQsIDM0NS42OTEzODI3NjU1MzEwNSwgMzQ2LjY5MzM4Njc3MzU0NzEsIDM0Ny42OTUzOTA3ODE1NjMxLCAzNDguNjk3Mzk0Nzg5NTc5MTYsIDM0OS42OTkzOTg3OTc1OTUxNywgMzUwLjcwMTQwMjgwNTYxMTIsIDM1MS43MDM0MDY4MTM2MjczLCAzNTIuNzA1NDEwODIxNjQzMywgMzUzLjcwNzQxNDgyOTY1OTM0LCAzNTQuNzA5NDE4ODM3Njc1MzQsIDM1NS43MTE0MjI4NDU2OTE0LCAzNTYuNzEzNDI2ODUzNzA3NCwgMzU3LjcxNTQzMDg2MTcyMzQ2LCAzNTguNzE3NDM0ODY5NzM5NDYsIDM1OS43MTk0Mzg4Nzc3NTU1LCAzNjAuNzIxNDQyODg1NzcxNSwgMzYxLjcyMzQ0Njg5Mzc4NzYsIDM2Mi43MjU0NTA5MDE4MDM2LCAzNjMuNzI3NDU0OTA5ODE5NjQsIDM2NC43Mjk0NTg5MTc4MzU2NCwgMzY1LjczMTQ2MjkyNTg1MTcsIDM2Ni43MzM0NjY5MzM4Njc3NiwgMzY3LjczNTQ3MDk0MTg4Mzc2LCAzNjguNzM3NDc0OTQ5ODk5OCwgMzY5LjczOTQ3ODk1NzkxNTgsIDM3MC43NDE0ODI5NjU5MzE5LCAzNzEuNzQzNDg2OTczOTQ3OSwgMzcyLjc0NTQ5MDk4MTk2Mzk0LCAzNzMuNzQ3NDk0OTg5OTc5OTQsIDM3NC43NDk0OTg5OTc5OTYsIDM3NS43NTE1MDMwMDYwMTIsIDM3Ni43NTM1MDcwMTQwMjgwNiwgMzc3Ljc1NTUxMTAyMjA0NDA2LCAzNzguNzU3NTE1MDMwMDYwMSwgMzc5Ljc1OTUxOTAzODA3NjIsIDM4MC43NjE1MjMwNDYwOTIyLCAzODEuNzYzNTI3MDU0MTA4MjQsIDM4Mi43NjU1MzEwNjIxMjQyNCwgMzgzLjc2NzUzNTA3MDE0MDMsIDM4NC43Njk1MzkwNzgxNTYzLCAzODUuNzcxNTQzMDg2MTcyMzYsIDM4Ni43NzM1NDcwOTQxODgzNiwgMzg3Ljc3NTU1MTEwMjIwNDQsIDM4OC43Nzc1NTUxMTAyMjA0LCAzODkuNzc5NTU5MTE4MjM2NSwgMzkwLjc4MTU2MzEyNjI1MjUsIDM5MS43ODM1NjcxMzQyNjg1NCwgMzkyLjc4NTU3MTE0MjI4NDYsIDM5My43ODc1NzUxNTAzMDA2LCAzOTQuNzg5NTc5MTU4MzE2NjYsIDM5NS43OTE1ODMxNjYzMzI2NiwgMzk2Ljc5MzU4NzE3NDM0ODcsIDM5Ny43OTU1OTExODIzNjQ3LCAzOTguNzk3NTk1MTkwMzgwOCwgMzk5Ljc5OTU5OTE5ODM5NjgsIDQwMC44MDE2MDMyMDY0MTI4NCwgNDAxLjgwMzYwNzIxNDQyODg0LCA0MDIuODA1NjExMjIyNDQ0OSwgNDAzLjgwNzYxNTIzMDQ2MDksIDQwNC44MDk2MTkyMzg0NzY5NiwgNDA1LjgxMTYyMzI0NjQ5MywgNDA2LjgxMzYyNzI1NDUwOSwgNDA3LjgxNTYzMTI2MjUyNTEsIDQwOC44MTc2MzUyNzA1NDExLCA0MDkuODE5NjM5Mjc4NTU3MTMsIDQxMC44MjE2NDMyODY1NzMxMywgNDExLjgyMzY0NzI5NDU4OTIsIDQxMi44MjU2NTEzMDI2MDUyLCA0MTMuODI3NjU1MzEwNjIxMjUsIDQxNC44Mjk2NTkzMTg2MzcyNSwgNDE1LjgzMTY2MzMyNjY1MzMsIDQxNi44MzM2NjczMzQ2NjkzLCA0MTcuODM1NjcxMzQyNjg1NCwgNDE4LjgzNzY3NTM1MDcwMTQsIDQxOS44Mzk2NzkzNTg3MTc0MywgNDIwLjg0MTY4MzM2NjczMzUsIDQyMS44NDM2ODczNzQ3NDk1LCA0MjIuODQ1NjkxMzgyNzY1NTUsIDQyMy44NDc2OTUzOTA3ODE1NSwgNDI0Ljg0OTY5OTM5ODc5NzYsIDQyNS44NTE3MDM0MDY4MTM2LCA0MjYuODUzNzA3NDE0ODI5NjcsIDQyNy44NTU3MTE0MjI4NDU3LCA0MjguODU3NzE1NDMwODYxNzMsIDQyOS44NTk3MTk0Mzg4Nzc3MywgNDMwLjg2MTcyMzQ0Njg5MzgsIDQzMS44NjM3Mjc0NTQ5MDk4LCA0MzIuODY1NzMxNDYyOTI1ODUsIDQzMy44Njc3MzU0NzA5NDE5LCA0MzQuODY5NzM5NDc4OTU3OSwgNDM1Ljg3MTc0MzQ4Njk3Mzk3LCA0MzYuODczNzQ3NDk0OTg5OTcsIDQzNy44NzU3NTE1MDMwMDYwMywgNDM4Ljg3Nzc1NTUxMTAyMjAzLCA0MzkuODc5NzU5NTE5MDM4MSwgNDQwLjg4MTc2MzUyNzA1NDEsIDQ0MS44ODM3Njc1MzUwNzAxNSwgNDQyLjg4NTc3MTU0MzA4NjE1LCA0NDMuODg3Nzc1NTUxMTAyMiwgNDQ0Ljg4OTc3OTU1OTExODIsIDQ0NS44OTE3ODM1NjcxMzQyNywgNDQ2Ljg5Mzc4NzU3NTE1MDMsIDQ0Ny44OTU3OTE1ODMxNjYzMywgNDQ4Ljg5Nzc5NTU5MTE4MjQsIDQ0OS44OTk3OTk1OTkxOTg0LCA0NTAuOTAxODAzNjA3MjE0NDUsIDQ1MS45MDM4MDc2MTUyMzA0NSwgNDUyLjkwNTgxMTYyMzI0NjUsIDQ1My45MDc4MTU2MzEyNjI1LCA0NTQuOTA5ODE5NjM5Mjc4NTcsIDQ1NS45MTE4MjM2NDcyOTQ1NywgNDU2LjkxMzgyNzY1NTMxMDYsIDQ1Ny45MTU4MzE2NjMzMjY2LCA0NTguOTE3ODM1NjcxMzQyNywgNDU5LjkxOTgzOTY3OTM1ODc0LCA0NjAuOTIxODQzNjg3Mzc0NzUsIDQ2MS45MjM4NDc2OTUzOTA4LCA0NjIuOTI1ODUxNzAzNDA2OCwgNDYzLjkyNzg1NTcxMTQyMjg2LCA0NjQuOTI5ODU5NzE5NDM4ODcsIDQ2NS45MzE4NjM3Mjc0NTQ5LCA0NjYuOTMzODY3NzM1NDcwOSwgNDY3LjkzNTg3MTc0MzQ4NywgNDY4LjkzNzg3NTc1MTUwMywgNDY5LjkzOTg3OTc1OTUxOTA0LCA0NzAuOTQxODgzNzY3NTM1MDUsIDQ3MS45NDM4ODc3NzU1NTExLCA0NzIuOTQ1ODkxNzgzNTY3MSwgNDczLjk0Nzg5NTc5MTU4MzE2LCA0NzQuOTQ5ODk5Nzk5NTk5MiwgNDc1Ljk1MTkwMzgwNzYxNTIsIDQ3Ni45NTM5MDc4MTU2MzEzLCA0NzcuOTU1OTExODIzNjQ3MywgNDc4Ljk1NzkxNTgzMTY2MzM0LCA0NzkuOTU5OTE5ODM5Njc5MzQsIDQ4MC45NjE5MjM4NDc2OTU0LCA0ODEuOTYzOTI3ODU1NzExNCwgNDgyLjk2NTkzMTg2MzcyNzQ2LCA0ODMuOTY3OTM1ODcxNzQzNDYsIDQ4NC45Njk5Mzk4Nzk3NTk1LCA0ODUuOTcxOTQzODg3Nzc1NSwgNDg2Ljk3Mzk0Nzg5NTc5MTYsIDQ4Ny45NzU5NTE5MDM4MDc2NCwgNDg4Ljk3Nzk1NTkxMTgyMzY0LCA0ODkuOTc5OTU5OTE5ODM5NywgNDkwLjk4MTk2MzkyNzg1NTcsIDQ5MS45ODM5Njc5MzU4NzE3NiwgNDkyLjk4NTk3MTk0Mzg4Nzc2LCA0OTMuOTg3OTc1OTUxOTAzOCwgNDk0Ljk4OTk3OTk1OTkxOTgsIDQ5NS45OTE5ODM5Njc5MzU5LCA0OTYuOTkzOTg3OTc1OTUxOSwgNDk3Ljk5NTk5MTk4Mzk2Nzk0LCA0OTguOTk3OTk1OTkxOTgzOTQsIDUwMC4wXSkKICAgICAgICAgICAgICAucmFuZ2UoWycjZmYwMDAwJywgJyNmZjAxMDAnLCAnI2ZmMDMwMCcsICcjZmYwNDAwJywgJyNmZjA2MDAnLCAnI2ZmMDgwMCcsICcjZmYwOTAwJywgJyNmZjBiMDAnLCAnI2ZmMGQwMCcsICcjZmYwZTAwJywgJyNmZjEwMDAnLCAnI2ZmMTIwMCcsICcjZmYxMzAwJywgJyNmZjE1MDAnLCAnI2ZmMTcwMCcsICcjZmYxODAwJywgJyNmZjFhMDAnLCAnI2ZmMWMwMCcsICcjZmYxZDAwJywgJyNmZjFmMDAnLCAnI2ZmMjEwMCcsICcjZmYyMjAwJywgJyNmZjI0MDAnLCAnI2ZmMjYwMCcsICcjZmYyNzAwJywgJyNmZjI5MDAnLCAnI2ZmMmIwMCcsICcjZmYyYzAwJywgJyNmZjJlMDAnLCAnI2ZmMzAwMCcsICcjZmYzMTAwJywgJyNmZjMzMDAnLCAnI2ZmMzUwMCcsICcjZmYzNjAwJywgJyNmZjM4MDAnLCAnI2ZmM2EwMCcsICcjZmYzYjAwJywgJyNmZjNkMDAnLCAnI2ZmM2YwMCcsICcjZmY0MDAwJywgJyNmZjQyMDAnLCAnI2ZmNDQwMCcsICcjZmY0NTAwJywgJyNmZjQ3MDAnLCAnI2ZmNDkwMCcsICcjZmY0YTAwJywgJyNmZjRjMDAnLCAnI2ZmNGUwMCcsICcjZmY0ZjAwJywgJyNmZjUxMDAnLCAnI2ZmNTIwMCcsICcjZmY1NDAwJywgJyNmZjU2MDAnLCAnI2ZmNTcwMCcsICcjZmY1OTAwJywgJyNmZjViMDAnLCAnI2ZmNWMwMCcsICcjZmY1ZTAwJywgJyNmZjYwMDAnLCAnI2ZmNjEwMCcsICcjZmY2MzAwJywgJyNmZjY1MDAnLCAnI2ZmNjYwMCcsICcjZmY2ODAwJywgJyNmZjZhMDAnLCAnI2ZmNmIwMCcsICcjZmY2ZDAwJywgJyNmZjZmMDAnLCAnI2ZmNzAwMCcsICcjZmY3MjAwJywgJyNmZjc0MDAnLCAnI2ZmNzUwMCcsICcjZmY3NzAwJywgJyNmZjc5MDAnLCAnI2ZmN2EwMCcsICcjZmY3YzAwJywgJyNmZjdlMDAnLCAnI2ZmN2YwMCcsICcjZmY4MTAwJywgJyNmZjgzMDAnLCAnI2ZmODQwMCcsICcjZmY4NjAwJywgJyNmZjg4MDAnLCAnI2ZmODkwMCcsICcjZmY4YjAwJywgJyNmZjhkMDAnLCAnI2ZmOGUwMCcsICcjZmY5MDAwJywgJyNmZjkyMDAnLCAnI2ZmOTMwMCcsICcjZmY5NTAwJywgJyNmZjk3MDAnLCAnI2ZmOTgwMCcsICcjZmY5YTAwJywgJyNmZjljMDAnLCAnI2ZmOWQwMCcsICcjZmY5ZjAwJywgJyNmZmEwMDAnLCAnI2ZmYTIwMCcsICcjZmZhNDAwJywgJyNmZmE1MDAnLCAnI2ZmYTYwMCcsICcjZmZhNzAwJywgJyNmZmE4MDAnLCAnI2ZmYTkwMCcsICcjZmZhYTAwJywgJyNmZmFiMDAnLCAnI2ZmYWMwMCcsICcjZmZhZDAwJywgJyNmZmFkMDAnLCAnI2ZmYWUwMCcsICcjZmZhZjAwJywgJyNmZmIwMDAnLCAnI2ZmYjEwMCcsICcjZmZiMjAwJywgJyNmZmIzMDAnLCAnI2ZmYjQwMCcsICcjZmZiNTAwJywgJyNmZmI2MDAnLCAnI2ZmYjcwMCcsICcjZmZiNzAwJywgJyNmZmI4MDAnLCAnI2ZmYjkwMCcsICcjZmZiYTAwJywgJyNmZmJiMDAnLCAnI2ZmYmMwMCcsICcjZmZiZDAwJywgJyNmZmJlMDAnLCAnI2ZmYmYwMCcsICcjZmZjMDAwJywgJyNmZmMwMDAnLCAnI2ZmYzEwMCcsICcjZmZjMjAwJywgJyNmZmMzMDAnLCAnI2ZmYzQwMCcsICcjZmZjNTAwJywgJyNmZmM2MDAnLCAnI2ZmYzcwMCcsICcjZmZjODAwJywgJyNmZmM5MDAnLCAnI2ZmY2EwMCcsICcjZmZjYTAwJywgJyNmZmNiMDAnLCAnI2ZmY2MwMCcsICcjZmZjZDAwJywgJyNmZmNlMDAnLCAnI2ZmY2YwMCcsICcjZmZkMDAwJywgJyNmZmQxMDAnLCAnI2ZmZDIwMCcsICcjZmZkMzAwJywgJyNmZmQ0MDAnLCAnI2ZmZDQwMCcsICcjZmZkNTAwJywgJyNmZmQ2MDAnLCAnI2ZmZDcwMCcsICcjZmZkODAwJywgJyNmZmQ5MDAnLCAnI2ZmZGEwMCcsICcjZmZkYjAwJywgJyNmZmRjMDAnLCAnI2ZmZGQwMCcsICcjZmZkZDAwJywgJyNmZmRlMDAnLCAnI2ZmZGYwMCcsICcjZmZlMDAwJywgJyNmZmUxMDAnLCAnI2ZmZTIwMCcsICcjZmZlMzAwJywgJyNmZmU0MDAnLCAnI2ZmZTUwMCcsICcjZmZlNjAwJywgJyNmZmU3MDAnLCAnI2ZmZTcwMCcsICcjZmZlODAwJywgJyNmZmU5MDAnLCAnI2ZmZWEwMCcsICcjZmZlYjAwJywgJyNmZmVjMDAnLCAnI2ZmZWQwMCcsICcjZmZlZTAwJywgJyNmZmVmMDAnLCAnI2ZmZjAwMCcsICcjZmZmMDAwJywgJyNmZmYxMDAnLCAnI2ZmZjIwMCcsICcjZmZmMzAwJywgJyNmZmY0MDAnLCAnI2ZmZjUwMCcsICcjZmZmNjAwJywgJyNmZmY3MDAnLCAnI2ZmZjgwMCcsICcjZmZmOTAwJywgJyNmZmZhMDAnLCAnI2ZmZmEwMCcsICcjZmZmYjAwJywgJyNmZmZjMDAnLCAnI2ZmZmQwMCcsICcjZmZmZTAwJywgJyNmZmZmMDAnLCAnI2ZlZmYwMCcsICcjZmNmZTAwJywgJyNmOWZjMDAnLCAnI2Y3ZmIwMCcsICcjZjRmYTAwJywgJyNmMmY5MDAnLCAnI2VmZjcwMCcsICcjZWRmNjAwJywgJyNlYWY1MDAnLCAnI2U3ZjMwMCcsICcjZTVmMjAwJywgJyNlMmYxMDAnLCAnI2UwZjAwMCcsICcjZGRlZTAwJywgJyNkYmVkMDAnLCAnI2Q4ZWMwMCcsICcjZDVlYjAwJywgJyNkM2U5MDAnLCAnI2QwZTgwMCcsICcjY2VlNzAwJywgJyNjYmU1MDAnLCAnI2M5ZTQwMCcsICcjYzZlMzAwJywgJyNjM2UyMDAnLCAnI2MxZTAwMCcsICcjYmVkZjAwJywgJyNiY2RlMDAnLCAnI2I5ZGMwMCcsICcjYjdkYjAwJywgJyNiNGRhMDAnLCAnI2IyZDkwMCcsICcjYWZkNzAwJywgJyNhY2Q2MDAnLCAnI2FhZDUwMCcsICcjYTdkNDAwJywgJyNhNWQyMDAnLCAnI2EyZDEwMCcsICcjYTBkMDAwJywgJyM5ZGNlMDAnLCAnIzlhY2QwMCcsICcjOThjYzAwJywgJyM5NWNiMDAnLCAnIzkzYzkwMCcsICcjOTBjODAwJywgJyM4ZWM3MDAnLCAnIzhiYzUwMCcsICcjODhjNDAwJywgJyM4NmMzMDAnLCAnIzgzYzIwMCcsICcjODFjMDAwJywgJyM3ZWJmMDAnLCAnIzdjYmUwMCcsICcjNzliZDAwJywgJyM3N2JiMDAnLCAnIzc0YmEwMCcsICcjNzFiOTAwJywgJyM2ZmI3MDAnLCAnIzZjYjYwMCcsICcjNmFiNTAwJywgJyM2N2I0MDAnLCAnIzY1YjIwMCcsICcjNjJiMTAwJywgJyM1ZmIwMDAnLCAnIzVkYWYwMCcsICcjNWFhZDAwJywgJyM1OGFjMDAnLCAnIzU1YWIwMCcsICcjNTNhOTAwJywgJyM1MGE4MDAnLCAnIzRkYTcwMCcsICcjNGJhNjAwJywgJyM0OGE0MDAnLCAnIzQ2YTMwMCcsICcjNDNhMjAwJywgJyM0MWEwMDAnLCAnIzNlOWYwMCcsICcjM2M5ZTAwJywgJyMzOTlkMDAnLCAnIzM2OWIwMCcsICcjMzQ5YTAwJywgJyMzMTk5MDAnLCAnIzJmOTgwMCcsICcjMmM5NjAwJywgJyMyYTk1MDAnLCAnIzI3OTQwMCcsICcjMjQ5MjAwJywgJyMyMjkxMDAnLCAnIzFmOTAwMCcsICcjMWQ4ZjAwJywgJyMxYThkMDAnLCAnIzE4OGMwMCcsICcjMTU4YjAwJywgJyMxMjg5MDAnLCAnIzEwODgwMCcsICcjMGQ4NzAwJywgJyMwYjg2MDAnLCAnIzA4ODQwMCcsICcjMDY4MzAwJywgJyMwMzgyMDAnLCAnIzAxODEwMCcsICcjMDA3ZjAxJywgJyMwMDdlMDQnLCAnIzAwN2QwNicsICcjMDA3YjA5JywgJyMwMDdhMGInLCAnIzAwNzkwZScsICcjMDA3ODEwJywgJyMwMDc2MTMnLCAnIzAwNzUxNicsICcjMDA3NDE4JywgJyMwMDcyMWInLCAnIzAwNzExZCcsICcjMDA3MDIwJywgJyMwMDZlMjInLCAnIzAwNmQyNScsICcjMDA2YzI4JywgJyMwMDZiMmEnLCAnIzAwNjkyZCcsICcjMDA2ODJmJywgJyMwMDY3MzInLCAnIzAwNjUzNCcsICcjMDA2NDM3JywgJyMwMDYzMzknLCAnIzAwNjIzYycsICcjMDA2MDNmJywgJyMwMDVmNDEnLCAnIzAwNWU0NCcsICcjMDA1YzQ2JywgJyMwMDViNDknLCAnIzAwNWE0YicsICcjMDA1OTRlJywgJyMwMDU3NTEnLCAnIzAwNTY1MycsICcjMDA1NTU2JywgJyMwMDUzNTgnLCAnIzAwNTI1YicsICcjMDA1MTVkJywgJyMwMDUwNjAnLCAnIzAwNGU2MycsICcjMDA0ZDY1JywgJyMwMDRjNjgnLCAnIzAwNGE2YScsICcjMDA0OTZkJywgJyMwMDQ4NmYnLCAnIzAwNDc3MicsICcjMDA0NTc0JywgJyMwMDQ0NzcnLCAnIzAwNDM3YScsICcjMDA0MTdjJywgJyMwMDQwN2YnLCAnIzAwM2Y4MScsICcjMDAzZTg0JywgJyMwMDNjODYnLCAnIzAwM2I4OScsICcjMDAzYThjJywgJyMwMDM4OGUnLCAnIzAwMzc5MScsICcjMDAzNjkzJywgJyMwMDM1OTYnLCAnIzAwMzM5OCcsICcjMDAzMjliJywgJyMwMDMxOWUnLCAnIzAwMmZhMCcsICcjMDAyZWEzJywgJyMwMDJkYTUnLCAnIzAwMmNhOCcsICcjMDAyYWFhJywgJyMwMDI5YWQnLCAnIzAwMjhhZicsICcjMDAyNmIyJywgJyMwMDI1YjUnLCAnIzAwMjRiNycsICcjMDAyM2JhJywgJyMwMDIxYmMnLCAnIzAwMjBiZicsICcjMDAxZmMxJywgJyMwMDFkYzQnLCAnIzAwMWNjNycsICcjMDAxYmM5JywgJyMwMDFhY2MnLCAnIzAwMThjZScsICcjMDAxN2QxJywgJyMwMDE2ZDMnLCAnIzAwMTRkNicsICcjMDAxM2Q5JywgJyMwMDEyZGInLCAnIzAwMTBkZScsICcjMDAwZmUwJywgJyMwMDBlZTMnLCAnIzAwMGRlNScsICcjMDAwYmU4JywgJyMwMDBhZWEnLCAnIzAwMDllZCcsICcjMDAwN2YwJywgJyMwMDA2ZjInLCAnIzAwMDVmNScsICcjMDAwNGY3JywgJyMwMDAyZmEnLCAnIzAwMDFmYycsICcjMDAwMGZmJywgJyMwMTAwZmUnLCAnIzAyMDBmZCcsICcjMDMwMGZjJywgJyMwNDAwZmInLCAnIzA2MDBmOScsICcjMDcwMGY4JywgJyMwODAwZjcnLCAnIzBhMDBmNicsICcjMGIwMGY0JywgJyMwYzAwZjMnLCAnIzBkMDBmMicsICcjMGYwMGYwJywgJyMxMDAwZWYnLCAnIzExMDBlZScsICcjMTMwMGVkJywgJyMxNDAwZWInLCAnIzE1MDBlYScsICcjMTYwMGU5JywgJyMxODAwZTcnLCAnIzE5MDBlNicsICcjMWEwMGU1JywgJyMxYzAwZTQnLCAnIzFkMDBlMicsICcjMWUwMGUxJywgJyMxZjAwZTAnLCAnIzIxMDBkZicsICcjMjIwMGRkJywgJyMyMzAwZGMnLCAnIzI1MDBkYicsICcjMjYwMGQ5JywgJyMyNzAwZDgnLCAnIzI4MDBkNycsICcjMmEwMGQ2JywgJyMyYjAwZDQnLCAnIzJjMDBkMycsICcjMmUwMGQyJywgJyMyZjAwZDAnLCAnIzMwMDBjZicsICcjMzEwMGNlJywgJyMzMzAwY2QnLCAnIzM0MDBjYicsICcjMzUwMGNhJywgJyMzNzAwYzknLCAnIzM4MDBjOCcsICcjMzkwMGM2JywgJyMzYTAwYzUnLCAnIzNjMDBjNCcsICcjM2QwMGMyJywgJyMzZTAwYzEnLCAnIzQwMDBjMCcsICcjNDEwMGJmJywgJyM0MjAwYmQnLCAnIzQzMDBiYycsICcjNDUwMGJiJywgJyM0NjAwYjknLCAnIzQ3MDBiOCcsICcjNDkwMGI3JywgJyM0YTAwYjYnLCAnIzRiMDBiNCcsICcjNGMwMGIzJywgJyM0ZTAwYjInLCAnIzRmMDBiMScsICcjNTAwMGFmJywgJyM1MjAwYWUnLCAnIzUzMDBhZCcsICcjNTQwMGFiJywgJyM1NjAwYWEnLCAnIzU3MDBhOScsICcjNTgwMGE4JywgJyM1OTAwYTYnLCAnIzViMDBhNScsICcjNWMwMGE0JywgJyM1ZDAwYTInLCAnIzVmMDBhMScsICcjNjAwMGEwJywgJyM2MTAwOWYnLCAnIzYyMDA5ZCcsICcjNjQwMDljJywgJyM2NTAwOWInLCAnIzY2MDA5YScsICcjNjgwMDk4JywgJyM2OTAwOTcnLCAnIzZhMDA5NicsICcjNmIwMDk0JywgJyM2ZDAwOTMnLCAnIzZlMDA5MicsICcjNmYwMDkxJywgJyM3MTAwOGYnLCAnIzcyMDA4ZScsICcjNzMwMDhkJywgJyM3NDAwOGInLCAnIzc2MDA4YScsICcjNzcwMDg5JywgJyM3ODAwODgnLCAnIzdhMDA4NicsICcjN2IwMDg1JywgJyM3YzAwODQnLCAnIzdkMDA4MycsICcjN2YwMDgxJywgJyM4MDAwODAnXSk7CiAgICAKCiAgICBjb2xvcl9tYXBfZTVlNGIwZTA0YjgxNGExNDk5ZDQ0MWI4OGNiMGZhYjEueCA9IGQzLnNjYWxlLmxpbmVhcigpCiAgICAgICAgICAgICAgLmRvbWFpbihbMC4wLCA1MDAuMF0pCiAgICAgICAgICAgICAgLnJhbmdlKFswLCA0MDBdKTsKCiAgICBjb2xvcl9tYXBfZTVlNGIwZTA0YjgxNGExNDk5ZDQ0MWI4OGNiMGZhYjEubGVnZW5kID0gTC5jb250cm9sKHtwb3NpdGlvbjogJ3RvcHJpZ2h0J30pOwogICAgY29sb3JfbWFwX2U1ZTRiMGUwNGI4MTRhMTQ5OWQ0NDFiODhjYjBmYWIxLmxlZ2VuZC5vbkFkZCA9IGZ1bmN0aW9uIChtYXApIHt2YXIgZGl2ID0gTC5Eb21VdGlsLmNyZWF0ZSgnZGl2JywgJ2xlZ2VuZCcpOyByZXR1cm4gZGl2fTsKICAgIGNvbG9yX21hcF9lNWU0YjBlMDRiODE0YTE0OTlkNDQxYjg4Y2IwZmFiMS5sZWdlbmQuYWRkVG8obWFwXzZjOGYzOTczMWIwODRkYjg5NjEwZDBmNjY5MGExZmQwKTsKCiAgICBjb2xvcl9tYXBfZTVlNGIwZTA0YjgxNGExNDk5ZDQ0MWI4OGNiMGZhYjEueEF4aXMgPSBkMy5zdmcuYXhpcygpCiAgICAgICAgLnNjYWxlKGNvbG9yX21hcF9lNWU0YjBlMDRiODE0YTE0OTlkNDQxYjg4Y2IwZmFiMS54KQogICAgICAgIC5vcmllbnQoInRvcCIpCiAgICAgICAgLnRpY2tTaXplKDEpCiAgICAgICAgLnRpY2tWYWx1ZXMoWzAuMCwgMTAwLjAsIDIwMC4wLCAzMDAuMCwgNDAwLjAsIDUwMC4wXSk7CgogICAgY29sb3JfbWFwX2U1ZTRiMGUwNGI4MTRhMTQ5OWQ0NDFiODhjYjBmYWIxLnN2ZyA9IGQzLnNlbGVjdCgiLmxlZ2VuZC5sZWFmbGV0LWNvbnRyb2wiKS5hcHBlbmQoInN2ZyIpCiAgICAgICAgLmF0dHIoImlkIiwgJ2xlZ2VuZCcpCiAgICAgICAgLmF0dHIoIndpZHRoIiwgNDUwKQogICAgICAgIC5hdHRyKCJoZWlnaHQiLCA0MCk7CgogICAgY29sb3JfbWFwX2U1ZTRiMGUwNGI4MTRhMTQ5OWQ0NDFiODhjYjBmYWIxLmcgPSBjb2xvcl9tYXBfZTVlNGIwZTA0YjgxNGExNDk5ZDQ0MWI4OGNiMGZhYjEuc3ZnLmFwcGVuZCgiZyIpCiAgICAgICAgLmF0dHIoImNsYXNzIiwgImtleSIpCiAgICAgICAgLmF0dHIoInRyYW5zZm9ybSIsICJ0cmFuc2xhdGUoMjUsMTYpIik7CgogICAgY29sb3JfbWFwX2U1ZTRiMGUwNGI4MTRhMTQ5OWQ0NDFiODhjYjBmYWIxLmcuc2VsZWN0QWxsKCJyZWN0IikKICAgICAgICAuZGF0YShjb2xvcl9tYXBfZTVlNGIwZTA0YjgxNGExNDk5ZDQ0MWI4OGNiMGZhYjEuY29sb3IucmFuZ2UoKS5tYXAoZnVuY3Rpb24oZCwgaSkgewogICAgICAgICAgcmV0dXJuIHsKICAgICAgICAgICAgeDA6IGkgPyBjb2xvcl9tYXBfZTVlNGIwZTA0YjgxNGExNDk5ZDQ0MWI4OGNiMGZhYjEueChjb2xvcl9tYXBfZTVlNGIwZTA0YjgxNGExNDk5ZDQ0MWI4OGNiMGZhYjEuY29sb3IuZG9tYWluKClbaSAtIDFdKSA6IGNvbG9yX21hcF9lNWU0YjBlMDRiODE0YTE0OTlkNDQxYjg4Y2IwZmFiMS54LnJhbmdlKClbMF0sCiAgICAgICAgICAgIHgxOiBpIDwgY29sb3JfbWFwX2U1ZTRiMGUwNGI4MTRhMTQ5OWQ0NDFiODhjYjBmYWIxLmNvbG9yLmRvbWFpbigpLmxlbmd0aCA/IGNvbG9yX21hcF9lNWU0YjBlMDRiODE0YTE0OTlkNDQxYjg4Y2IwZmFiMS54KGNvbG9yX21hcF9lNWU0YjBlMDRiODE0YTE0OTlkNDQxYjg4Y2IwZmFiMS5jb2xvci5kb21haW4oKVtpXSkgOiBjb2xvcl9tYXBfZTVlNGIwZTA0YjgxNGExNDk5ZDQ0MWI4OGNiMGZhYjEueC5yYW5nZSgpWzFdLAogICAgICAgICAgICB6OiBkCiAgICAgICAgICB9OwogICAgICAgIH0pKQogICAgICAuZW50ZXIoKS5hcHBlbmQoInJlY3QiKQogICAgICAgIC5hdHRyKCJoZWlnaHQiLCAxMCkKICAgICAgICAuYXR0cigieCIsIGZ1bmN0aW9uKGQpIHsgcmV0dXJuIGQueDA7IH0pCiAgICAgICAgLmF0dHIoIndpZHRoIiwgZnVuY3Rpb24oZCkgeyByZXR1cm4gZC54MSAtIGQueDA7IH0pCiAgICAgICAgLnN0eWxlKCJmaWxsIiwgZnVuY3Rpb24oZCkgeyByZXR1cm4gZC56OyB9KTsKCiAgICBjb2xvcl9tYXBfZTVlNGIwZTA0YjgxNGExNDk5ZDQ0MWI4OGNiMGZhYjEuZy5jYWxsKGNvbG9yX21hcF9lNWU0YjBlMDRiODE0YTE0OTlkNDQxYjg4Y2IwZmFiMS54QXhpcykuYXBwZW5kKCJ0ZXh0IikKICAgICAgICAuYXR0cigiY2xhc3MiLCAiY2FwdGlvbiIpCiAgICAgICAgLmF0dHIoInkiLCAyMSkKICAgICAgICAudGV4dCgnQXZlcmFnZSBhbm51YWwgcmVjaGFyZ2UgcmF0ZSAobW0veWVhciknKTsKICAgIAogICAgdmFyIGNvbG9yX21hcF80YmI1MDcyNDZmYWE0ODlmYmMyMGI2YWE1NmI1MDdkYyA9IHt9OwoKICAgIAogICAgY29sb3JfbWFwXzRiYjUwNzI0NmZhYTQ4OWZiYzIwYjZhYTU2YjUwN2RjLmNvbG9yID0gZDMuc2NhbGUudGhyZXNob2xkKCkKICAgICAgICAgICAgICAuZG9tYWluKFs1MDAuMCwgNTAyLjAwNDAwODAxNjAzMjA2LCA1MDQuMDA4MDE2MDMyMDY0MSwgNTA2LjAxMjAyNDA0ODA5NjIsIDUwOC4wMTYwMzIwNjQxMjgyNCwgNTEwLjAyMDA0MDA4MDE2MDMsIDUxMi4wMjQwNDgwOTYxOTI0LCA1MTQuMDI4MDU2MTEyMjI0NSwgNTE2LjAzMjA2NDEyODI1NjUsIDUxOC4wMzYwNzIxNDQyODg2LCA1MjAuMDQwMDgwMTYwMzIwNiwgNTIyLjA0NDA4ODE3NjM1MjcsIDUyNC4wNDgwOTYxOTIzODQ3LCA1MjYuMDUyMTA0MjA4NDE2OCwgNTI4LjA1NjExMjIyNDQ0OSwgNTMwLjA2MDEyMDI0MDQ4MSwgNTMyLjA2NDEyODI1NjUxMzEsIDUzNC4wNjgxMzYyNzI1NDUxLCA1MzYuMDcyMTQ0Mjg4NTc3MiwgNTM4LjA3NjE1MjMwNDYwOTIsIDU0MC4wODAxNjAzMjA2NDEzLCA1NDIuMDg0MTY4MzM2NjczMywgNTQ0LjA4ODE3NjM1MjcwNTQsIDU0Ni4wOTIxODQzNjg3Mzc0LCA1NDguMDk2MTkyMzg0NzY5NiwgNTUwLjEwMDIwMDQwMDgwMTYsIDU1Mi4xMDQyMDg0MTY4MzM3LCA1NTQuMTA4MjE2NDMyODY1NywgNTU2LjExMjIyNDQ0ODg5NzgsIDU1OC4xMTYyMzI0NjQ5Mjk5LCA1NjAuMTIwMjQwNDgwOTYxOSwgNTYyLjEyNDI0ODQ5Njk5NCwgNTY0LjEyODI1NjUxMzAyNiwgNTY2LjEzMjI2NDUyOTA1ODEsIDU2OC4xMzYyNzI1NDUwOTAyLCA1NzAuMTQwMjgwNTYxMTIyMywgNTcyLjE0NDI4ODU3NzE1NDMsIDU3NC4xNDgyOTY1OTMxODY0LCA1NzYuMTUyMzA0NjA5MjE4NCwgNTc4LjE1NjMxMjYyNTI1MDUsIDU4MC4xNjAzMjA2NDEyODI2LCA1ODIuMTY0MzI4NjU3MzE0NiwgNTg0LjE2ODMzNjY3MzM0NjYsIDU4Ni4xNzIzNDQ2ODkzNzg3LCA1ODguMTc2MzUyNzA1NDEwOSwgNTkwLjE4MDM2MDcyMTQ0MjksIDU5Mi4xODQzNjg3Mzc0NzUsIDU5NC4xODgzNzY3NTM1MDcsIDU5Ni4xOTIzODQ3Njk1MzkxLCA1OTguMTk2MzkyNzg1NTcxMSwgNjAwLjIwMDQwMDgwMTYwMzIsIDYwMi4yMDQ0MDg4MTc2MzUyLCA2MDQuMjA4NDE2ODMzNjY3MywgNjA2LjIxMjQyNDg0OTY5OTMsIDYwOC4yMTY0MzI4NjU3MzE1LCA2MTAuMjIwNDQwODgxNzYzNiwgNjEyLjIyNDQ0ODg5Nzc5NTYsIDYxNC4yMjg0NTY5MTM4Mjc3LCA2MTYuMjMyNDY0OTI5ODU5NywgNjE4LjIzNjQ3Mjk0NTg5MTgsIDYyMC4yNDA0ODA5NjE5MjM4LCA2MjIuMjQ0NDg4OTc3OTU1OSwgNjI0LjI0ODQ5Njk5Mzk4NzksIDYyNi4yNTI1MDUwMTAwMjAxLCA2MjguMjU2NTEzMDI2MDUyMSwgNjMwLjI2MDUyMTA0MjA4NDIsIDYzMi4yNjQ1MjkwNTgxMTYzLCA2MzQuMjY4NTM3MDc0MTQ4MywgNjM2LjI3MjU0NTA5MDE4MDMsIDYzOC4yNzY1NTMxMDYyMTI0LCA2NDAuMjgwNTYxMTIyMjQ0NSwgNjQyLjI4NDU2OTEzODI3NjUsIDY0NC4yODg1NzcxNTQzMDg3LCA2NDYuMjkyNTg1MTcwMzQwNywgNjQ4LjI5NjU5MzE4NjM3MjgsIDY1MC4zMDA2MDEyMDI0MDQ4LCA2NTIuMzA0NjA5MjE4NDM2OSwgNjU0LjMwODYxNzIzNDQ2ODksIDY1Ni4zMTI2MjUyNTA1MDEsIDY1OC4zMTY2MzMyNjY1MzMsIDY2MC4zMjA2NDEyODI1NjUxLCA2NjIuMzI0NjQ5Mjk4NTk3MywgNjY0LjMyODY1NzMxNDYyOTMsIDY2Ni4zMzI2NjUzMzA2NjEzLCA2NjguMzM2NjczMzQ2NjkzNCwgNjcwLjM0MDY4MTM2MjcyNTUsIDY3Mi4zNDQ2ODkzNzg3NTc1LCA2NzQuMzQ4Njk3Mzk0Nzg5NiwgNjc2LjM1MjcwNTQxMDgyMTYsIDY3OC4zNTY3MTM0MjY4NTM3LCA2ODAuMzYwNzIxNDQyODg1NywgNjgyLjM2NDcyOTQ1ODkxNzksIDY4NC4zNjg3Mzc0NzQ5NSwgNjg2LjM3Mjc0NTQ5MDk4MiwgNjg4LjM3Njc1MzUwNzAxNCwgNjkwLjM4MDc2MTUyMzA0NjEsIDY5Mi4zODQ3Njk1MzkwNzgyLCA2OTQuMzg4Nzc3NTU1MTEwMiwgNjk2LjM5Mjc4NTU3MTE0MjMsIDY5OC4zOTY3OTM1ODcxNzQzLCA3MDAuNDAwODAxNjAzMjA2NCwgNzAyLjQwNDgwOTYxOTIzODQsIDcwNC40MDg4MTc2MzUyNzA2LCA3MDYuNDEyODI1NjUxMzAyNiwgNzA4LjQxNjgzMzY2NzMzNDcsIDcxMC40MjA4NDE2ODMzNjY3LCA3MTIuNDI0ODQ5Njk5Mzk4OCwgNzE0LjQyODg1NzcxNTQzMDksIDcxNi40MzI4NjU3MzE0NjI5LCA3MTguNDM2ODczNzQ3NDk0OSwgNzIwLjQ0MDg4MTc2MzUyNywgNzIyLjQ0NDg4OTc3OTU1OTIsIDcyNC40NDg4OTc3OTU1OTEyLCA3MjYuNDUyOTA1ODExNjIzMywgNzI4LjQ1NjkxMzgyNzY1NTMsIDczMC40NjA5MjE4NDM2ODc0LCA3MzIuNDY0OTI5ODU5NzE5NCwgNzM0LjQ2ODkzNzg3NTc1MTUsIDczNi40NzI5NDU4OTE3ODM1LCA3MzguNDc2OTUzOTA3ODE1NiwgNzQwLjQ4MDk2MTkyMzg0NzYsIDc0Mi40ODQ5Njk5Mzk4Nzk4LCA3NDQuNDg4OTc3OTU1OTExOSwgNzQ2LjQ5Mjk4NTk3MTk0MzksIDc0OC40OTY5OTM5ODc5NzU5LCA3NTAuNTAxMDAyMDA0MDA4LCA3NTIuNTA1MDEwMDIwMDQwMSwgNzU0LjUwOTAxODAzNjA3MjEsIDc1Ni41MTMwMjYwNTIxMDQxLCA3NTguNTE3MDM0MDY4MTM2NCwgNzYwLjUyMTA0MjA4NDE2ODQsIDc2Mi41MjUwNTAxMDAyMDA0LCA3NjQuNTI5MDU4MTE2MjMyNSwgNzY2LjUzMzA2NjEzMjI2NDYsIDc2OC41MzcwNzQxNDgyOTY2LCA3NzAuNTQxMDgyMTY0MzI4NiwgNzcyLjU0NTA5MDE4MDM2MDcsIDc3NC41NDkwOTgxOTYzOTI4LCA3NzYuNTUzMTA2MjEyNDI0OCwgNzc4LjU1NzExNDIyODQ1NjgsIDc4MC41NjExMjIyNDQ0ODksIDc4Mi41NjUxMzAyNjA1MjExLCA3ODQuNTY5MTM4Mjc2NTUzMSwgNzg2LjU3MzE0NjI5MjU4NTIsIDc4OC41NzcxNTQzMDg2MTczLCA3OTAuNTgxMTYyMzI0NjQ5MywgNzkyLjU4NTE3MDM0MDY4MTMsIDc5NC41ODkxNzgzNTY3MTM0LCA3OTYuNTkzMTg2MzcyNzQ1NSwgNzk4LjU5NzE5NDM4ODc3NzYsIDgwMC42MDEyMDI0MDQ4MDk2LCA4MDIuNjA1MjEwNDIwODQxNywgODA0LjYwOTIxODQzNjg3MzgsIDgwNi42MTMyMjY0NTI5MDU4LCA4MDguNjE3MjM0NDY4OTM3OCwgODEwLjYyMTI0MjQ4NDk2OTksIDgxMi42MjUyNTA1MDEwMDIsIDgxNC42MjkyNTg1MTcwMzQsIDgxNi42MzMyNjY1MzMwNjYxLCA4MTguNjM3Mjc0NTQ5MDk4MywgODIwLjY0MTI4MjU2NTEzMDMsIDgyMi42NDUyOTA1ODExNjIzLCA4MjQuNjQ5Mjk4NTk3MTk0NCwgODI2LjY1MzMwNjYxMzIyNjUsIDgyOC42NTczMTQ2MjkyNTg1LCA4MzAuNjYxMzIyNjQ1MjkwNSwgODMyLjY2NTMzMDY2MTMyMjYsIDgzNC42NjkzMzg2NzczNTQ3LCA4MzYuNjczMzQ2NjkzMzg2NywgODM4LjY3NzM1NDcwOTQxODksIDg0MC42ODEzNjI3MjU0NTEsIDg0Mi42ODUzNzA3NDE0ODMsIDg0NC42ODkzNzg3NTc1MTUsIDg0Ni42OTMzODY3NzM1NDcxLCA4NDguNjk3Mzk0Nzg5NTc5MiwgODUwLjcwMTQwMjgwNTYxMTIsIDg1Mi43MDU0MTA4MjE2NDMyLCA4NTQuNzA5NDE4ODM3Njc1MywgODU2LjcxMzQyNjg1MzcwNzUsIDg1OC43MTc0MzQ4Njk3Mzk1LCA4NjAuNzIxNDQyODg1NzcxNSwgODYyLjcyNTQ1MDkwMTgwMzYsIDg2NC43Mjk0NTg5MTc4MzU3LCA4NjYuNzMzNDY2OTMzODY3NywgODY4LjczNzQ3NDk0OTg5OTgsIDg3MC43NDE0ODI5NjU5MzE5LCA4NzIuNzQ1NDkwOTgxOTYzOSwgODc0Ljc0OTQ5ODk5Nzk5NTksIDg3Ni43NTM1MDcwMTQwMjgxLCA4NzguNzU3NTE1MDMwMDYwMiwgODgwLjc2MTUyMzA0NjA5MjIsIDg4Mi43NjU1MzEwNjIxMjQyLCA4ODQuNzY5NTM5MDc4MTU2MywgODg2Ljc3MzU0NzA5NDE4ODQsIDg4OC43Nzc1NTUxMTAyMjA0LCA4OTAuNzgxNTYzMTI2MjUyNCwgODkyLjc4NTU3MTE0MjI4NDcsIDg5NC43ODk1NzkxNTgzMTY3LCA4OTYuNzkzNTg3MTc0MzQ4NywgODk4Ljc5NzU5NTE5MDM4MDgsIDkwMC44MDE2MDMyMDY0MTI5LCA5MDIuODA1NjExMjIyNDQ0OSwgOTA0LjgwOTYxOTIzODQ3NjksIDkwNi44MTM2MjcyNTQ1MDksIDkwOC44MTc2MzUyNzA1NDExLCA5MTAuODIxNjQzMjg2NTczMSwgOTEyLjgyNTY1MTMwMjYwNTEsIDkxNC44Mjk2NTkzMTg2MzczLCA5MTYuODMzNjY3MzM0NjY5NCwgOTE4LjgzNzY3NTM1MDcwMTQsIDkyMC44NDE2ODMzNjY3MzM1LCA5MjIuODQ1NjkxMzgyNzY1NiwgOTI0Ljg0OTY5OTM5ODc5NzYsIDkyNi44NTM3MDc0MTQ4Mjk2LCA5MjguODU3NzE1NDMwODYxNywgOTMwLjg2MTcyMzQ0Njg5MzgsIDkzMi44NjU3MzE0NjI5MjU5LCA5MzQuODY5NzM5NDc4OTU3OSwgOTM2Ljg3Mzc0NzQ5NDk5LCA5MzguODc3NzU1NTExMDIyMSwgOTQwLjg4MTc2MzUyNzA1NDEsIDk0Mi44ODU3NzE1NDMwODYxLCA5NDQuODg5Nzc5NTU5MTE4MiwgOTQ2Ljg5Mzc4NzU3NTE1MDMsIDk0OC44OTc3OTU1OTExODIzLCA5NTAuOTAxODAzNjA3MjE0NCwgOTUyLjkwNTgxMTYyMzI0NjYsIDk1NC45MDk4MTk2MzkyNzg2LCA5NTYuOTEzODI3NjU1MzEwNiwgOTU4LjkxNzgzNTY3MTM0MjcsIDk2MC45MjE4NDM2ODczNzQ4LCA5NjIuOTI1ODUxNzAzNDA2OCwgOTY0LjkyOTg1OTcxOTQzODgsIDk2Ni45MzM4Njc3MzU0NzA5LCA5NjguOTM3ODc1NzUxNTAzLCA5NzAuOTQxODgzNzY3NTM1LCA5NzIuOTQ1ODkxNzgzNTY3LCA5NzQuOTQ5ODk5Nzk5NTk5MywgOTc2Ljk1MzkwNzgxNTYzMTMsIDk3OC45NTc5MTU4MzE2NjMzLCA5ODAuOTYxOTIzODQ3Njk1NCwgOTgyLjk2NTkzMTg2MzcyNzUsIDk4NC45Njk5Mzk4Nzk3NTk1LCA5ODYuOTczOTQ3ODk1NzkxNSwgOTg4Ljk3Nzk1NTkxMTgyMzYsIDk5MC45ODE5NjM5Mjc4NTU4LCA5OTIuOTg1OTcxOTQzODg3OCwgOTk0Ljk4OTk3OTk1OTkxOTgsIDk5Ni45OTM5ODc5NzU5NTE5LCA5OTguOTk3OTk1OTkxOTg0LCAxMDAxLjAwMjAwNDAwODAxNiwgMTAwMy4wMDYwMTIwMjQwNDgxLCAxMDA1LjAxMDAyMDA0MDA4MDIsIDEwMDcuMDE0MDI4MDU2MTEyMiwgMTAwOS4wMTgwMzYwNzIxNDQyLCAxMDExLjAyMjA0NDA4ODE3NjQsIDEwMTMuMDI2MDUyMTA0MjA4NCwgMTAxNS4wMzAwNjAxMjAyNDA1LCAxMDE3LjAzNDA2ODEzNjI3MjYsIDEwMTkuMDM4MDc2MTUyMzA0NiwgMTAyMS4wNDIwODQxNjgzMzY3LCAxMDIzLjA0NjA5MjE4NDM2ODcsIDEwMjUuMDUwMTAwMjAwNDAwNywgMTAyNy4wNTQxMDgyMTY0MzI3LCAxMDI5LjA1ODExNjIzMjQ2NSwgMTAzMS4wNjIxMjQyNDg0OTcsIDEwMzMuMDY2MTMyMjY0NTI5MiwgMTAzNS4wNzAxNDAyODA1NjEyLCAxMDM3LjA3NDE0ODI5NjU5MzIsIDEwMzkuMDc4MTU2MzEyNjI1MiwgMTA0MS4wODIxNjQzMjg2NTcyLCAxMDQzLjA4NjE3MjM0NDY4OTQsIDEwNDUuMDkwMTgwMzYwNzIxNCwgMTA0Ny4wOTQxODgzNzY3NTM3LCAxMDQ5LjA5ODE5NjM5Mjc4NTcsIDEwNTEuMTAyMjA0NDA4ODE3NywgMTA1My4xMDYyMTI0MjQ4NDk3LCAxMDU1LjExMDIyMDQ0MDg4MTcsIDEwNTcuMTE0MjI4NDU2OTEzNywgMTA1OS4xMTgyMzY0NzI5NDYsIDEwNjEuMTIyMjQ0NDg4OTc4LCAxMDYzLjEyNjI1MjUwNTAxMDEsIDEwNjUuMTMwMjYwNTIxMDQyMSwgMTA2Ny4xMzQyNjg1MzcwNzQxLCAxMDY5LjEzODI3NjU1MzEwNjIsIDEwNzEuMTQyMjg0NTY5MTM4MiwgMTA3My4xNDYyOTI1ODUxNzA0LCAxMDc1LjE1MDMwMDYwMTIwMjQsIDEwNzcuMTU0MzA4NjE3MjM0NiwgMTA3OS4xNTgzMTY2MzMyNjY2LCAxMDgxLjE2MjMyNDY0OTI5ODYsIDEwODMuMTY2MzMyNjY1MzMwNiwgMTA4NS4xNzAzNDA2ODEzNjI2LCAxMDg3LjE3NDM0ODY5NzM5NDYsIDEwODkuMTc4MzU2NzEzNDI2OSwgMTA5MS4xODIzNjQ3Mjk0NTg5LCAxMDkzLjE4NjM3Mjc0NTQ5MSwgMTA5NS4xOTAzODA3NjE1MjMsIDEwOTcuMTk0Mzg4Nzc3NTU1LCAxMDk5LjE5ODM5Njc5MzU4NywgMTEwMS4yMDI0MDQ4MDk2MTksIDExMDMuMjA2NDEyODI1NjUxMywgMTEwNS4yMTA0MjA4NDE2ODMzLCAxMTA3LjIxNDQyODg1NzcxNTYsIDExMDkuMjE4NDM2ODczNzQ3NiwgMTExMS4yMjI0NDQ4ODk3Nzk2LCAxMTEzLjIyNjQ1MjkwNTgxMTYsIDExMTUuMjMwNDYwOTIxODQzNiwgMTExNy4yMzQ0Njg5Mzc4NzU2LCAxMTE5LjIzODQ3Njk1MzkwNzgsIDExMjEuMjQyNDg0OTY5OTM5OCwgMTEyMy4yNDY0OTI5ODU5NzIsIDExMjUuMjUwNTAxMDAyMDA0LCAxMTI3LjI1NDUwOTAxODAzNiwgMTEyOS4yNTg1MTcwMzQwNjgsIDExMzEuMjYyNTI1MDUwMSwgMTEzMy4yNjY1MzMwNjYxMzIzLCAxMTM1LjI3MDU0MTA4MjE2NDMsIDExMzcuMjc0NTQ5MDk4MTk2NSwgMTEzOS4yNzg1NTcxMTQyMjg1LCAxMTQxLjI4MjU2NTEzMDI2MDUsIDExNDMuMjg2NTczMTQ2MjkyNSwgMTE0NS4yOTA1ODExNjIzMjQ1LCAxMTQ3LjI5NDU4OTE3ODM1NjUsIDExNDkuMjk4NTk3MTk0Mzg4OCwgMTE1MS4zMDI2MDUyMTA0MjEsIDExNTMuMzA2NjEzMjI2NDUzLCAxMTU1LjMxMDYyMTI0MjQ4NSwgMTE1Ny4zMTQ2MjkyNTg1MTcsIDExNTkuMzE4NjM3Mjc0NTQ5LCAxMTYxLjMyMjY0NTI5MDU4MSwgMTE2My4zMjY2NTMzMDY2MTMzLCAxMTY1LjMzMDY2MTMyMjY0NTMsIDExNjcuMzM0NjY5MzM4Njc3NSwgMTE2OS4zMzg2NzczNTQ3MDk1LCAxMTcxLjM0MjY4NTM3MDc0MTUsIDExNzMuMzQ2NjkzMzg2NzczNSwgMTE3NS4zNTA3MDE0MDI4MDU1LCAxMTc3LjM1NDcwOTQxODgzNzcsIDExNzkuMzU4NzE3NDM0ODY5NywgMTE4MS4zNjI3MjU0NTA5MDIsIDExODMuMzY2NzMzNDY2OTM0LCAxMTg1LjM3MDc0MTQ4Mjk2NiwgMTE4Ny4zNzQ3NDk0OTg5OTgsIDExODkuMzc4NzU3NTE1MDMsIDExOTEuMzgyNzY1NTMxMDYyLCAxMTkzLjM4Njc3MzU0NzA5NDIsIDExOTUuMzkwNzgxNTYzMTI2MiwgMTE5Ny4zOTQ3ODk1NzkxNTg0LCAxMTk5LjM5ODc5NzU5NTE5MDQsIDEyMDEuNDAyODA1NjExMjIyNCwgMTIwMy40MDY4MTM2MjcyNTQ1LCAxMjA1LjQxMDgyMTY0MzI4NjUsIDEyMDcuNDE0ODI5NjU5MzE4NywgMTIwOS40MTg4Mzc2NzUzNTA3LCAxMjExLjQyMjg0NTY5MTM4MywgMTIxMy40MjY4NTM3MDc0MTUsIDEyMTUuNDMwODYxNzIzNDQ3LCAxMjE3LjQzNDg2OTczOTQ3OSwgMTIxOS40Mzg4Nzc3NTU1MTEsIDEyMjEuNDQyODg1NzcxNTQzLCAxMjIzLjQ0Njg5Mzc4NzU3NTIsIDEyMjUuNDUwOTAxODAzNjA3MiwgMTIyNy40NTQ5MDk4MTk2Mzk0LCAxMjI5LjQ1ODkxNzgzNTY3MTQsIDEyMzEuNDYyOTI1ODUxNzAzNCwgMTIzMy40NjY5MzM4Njc3MzU0LCAxMjM1LjQ3MDk0MTg4Mzc2NzQsIDEyMzcuNDc0OTQ5ODk5Nzk5NiwgMTIzOS40Nzg5NTc5MTU4MzE2LCAxMjQxLjQ4Mjk2NTkzMTg2MzksIDEyNDMuNDg2OTczOTQ3ODk1OSwgMTI0NS40OTA5ODE5NjM5Mjc5LCAxMjQ3LjQ5NDk4OTk3OTk1OTksIDEyNDkuNDk4OTk3OTk1OTkxOSwgMTI1MS41MDMwMDYwMTIwMjQsIDEyNTMuNTA3MDE0MDI4MDU2MSwgMTI1NS41MTEwMjIwNDQwODgxLCAxMjU3LjUxNTAzMDA2MDEyMDQsIDEyNTkuNTE5MDM4MDc2MTUyNCwgMTI2MS41MjMwNDYwOTIxODQ0LCAxMjYzLjUyNzA1NDEwODIxNjQsIDEyNjUuNTMxMDYyMTI0MjQ4NCwgMTI2Ny41MzUwNzAxNDAyODA2LCAxMjY5LjUzOTA3ODE1NjMxMjYsIDEyNzEuNTQzMDg2MTcyMzQ0OCwgMTI3My41NDcwOTQxODgzNzY4LCAxMjc1LjU1MTEwMjIwNDQwODgsIDEyNzcuNTU1MTEwMjIwNDQwOCwgMTI3OS41NTkxMTgyMzY0NzI4LCAxMjgxLjU2MzEyNjI1MjUwNDgsIDEyODMuNTY3MTM0MjY4NTM3LCAxMjg1LjU3MTE0MjI4NDU2OTMsIDEyODcuNTc1MTUwMzAwNjAxMywgMTI4OS41NzkxNTgzMTY2MzMzLCAxMjkxLjU4MzE2NjMzMjY2NTMsIDEyOTMuNTg3MTc0MzQ4Njk3MywgMTI5NS41OTExODIzNjQ3MjkzLCAxMjk3LjU5NTE5MDM4MDc2MTYsIDEyOTkuNTk5MTk4Mzk2NzkzNiwgMTMwMS42MDMyMDY0MTI4MjU4LCAxMzAzLjYwNzIxNDQyODg1NzgsIDEzMDUuNjExMjIyNDQ0ODg5OCwgMTMwNy42MTUyMzA0NjA5MjE4LCAxMzA5LjYxOTIzODQ3Njk1MzgsIDEzMTEuNjIzMjQ2NDkyOTg2LCAxMzEzLjYyNzI1NDUwOTAxOCwgMTMxNS42MzEyNjI1MjUwNTAzLCAxMzE3LjYzNTI3MDU0MTA4MjMsIDEzMTkuNjM5Mjc4NTU3MTE0MywgMTMyMS42NDMyODY1NzMxNDYzLCAxMzIzLjY0NzI5NDU4OTE3ODMsIDEzMjUuNjUxMzAyNjA1MjEwMywgMTMyNy42NTUzMTA2MjEyNDI1LCAxMzI5LjY1OTMxODYzNzI3NDUsIDEzMzEuNjYzMzI2NjUzMzA2NywgMTMzMy42NjczMzQ2NjkzMzg3LCAxMzM1LjY3MTM0MjY4NTM3MDcsIDEzMzcuNjc1MzUwNzAxNDAyNywgMTMzOS42NzkzNTg3MTc0MzQ4LCAxMzQxLjY4MzM2NjczMzQ2NywgMTM0My42ODczNzQ3NDk0OTksIDEzNDUuNjkxMzgyNzY1NTMxMiwgMTM0Ny42OTUzOTA3ODE1NjMyLCAxMzQ5LjY5OTM5ODc5NzU5NTIsIDEzNTEuNzAzNDA2ODEzNjI3MiwgMTM1My43MDc0MTQ4Mjk2NTkyLCAxMzU1LjcxMTQyMjg0NTY5MTIsIDEzNTcuNzE1NDMwODYxNzIzNSwgMTM1OS43MTk0Mzg4Nzc3NTU1LCAxMzYxLjcyMzQ0Njg5Mzc4NzcsIDEzNjMuNzI3NDU0OTA5ODE5NywgMTM2NS43MzE0NjI5MjU4NTE3LCAxMzY3LjczNTQ3MDk0MTg4MzcsIDEzNjkuNzM5NDc4OTU3OTE1NywgMTM3MS43NDM0ODY5NzM5NDgsIDEzNzMuNzQ3NDk0OTg5OTgsIDEzNzUuNzUxNTAzMDA2MDEyMiwgMTM3Ny43NTU1MTEwMjIwNDQyLCAxMzc5Ljc1OTUxOTAzODA3NjIsIDEzODEuNzYzNTI3MDU0MTA4MiwgMTM4My43Njc1MzUwNzAxNDAyLCAxMzg1Ljc3MTU0MzA4NjE3MjIsIDEzODcuNzc1NTUxMTAyMjA0NCwgMTM4OS43Nzk1NTkxMTgyMzY0LCAxMzkxLjc4MzU2NzEzNDI2ODcsIDEzOTMuNzg3NTc1MTUwMzAwNywgMTM5NS43OTE1ODMxNjYzMzI3LCAxMzk3Ljc5NTU5MTE4MjM2NDcsIDEzOTkuNzk5NTk5MTk4Mzk2NywgMTQwMS44MDM2MDcyMTQ0MjksIDE0MDMuODA3NjE1MjMwNDYxLCAxNDA1LjgxMTYyMzI0NjQ5MzEsIDE0MDcuODE1NjMxMjYyNTI1MSwgMTQwOS44MTk2MzkyNzg1NTcxLCAxNDExLjgyMzY0NzI5NDU4OTEsIDE0MTMuODI3NjU1MzEwNjIxMSwgMTQxNS44MzE2NjMzMjY2NTMxLCAxNDE3LjgzNTY3MTM0MjY4NTQsIDE0MTkuODM5Njc5MzU4NzE3NiwgMTQyMS44NDM2ODczNzQ3NDk2LCAxNDIzLjg0NzY5NTM5MDc4MTYsIDE0MjUuODUxNzAzNDA2ODEzNiwgMTQyNy44NTU3MTE0MjI4NDU2LCAxNDI5Ljg1OTcxOTQzODg3NzYsIDE0MzEuODYzNzI3NDU0OTA5OCwgMTQzMy44Njc3MzU0NzA5NDE5LCAxNDM1Ljg3MTc0MzQ4Njk3NCwgMTQzNy44NzU3NTE1MDMwMDYsIDE0MzkuODc5NzU5NTE5MDM4LCAxNDQxLjg4Mzc2NzUzNTA3LCAxNDQzLjg4Nzc3NTU1MTEwMiwgMTQ0NS44OTE3ODM1NjcxMzQsIDE0NDcuODk1NzkxNTgzMTY2MywgMTQ0OS44OTk3OTk1OTkxOTg2LCAxNDUxLjkwMzgwNzYxNTIzMDYsIDE0NTMuOTA3ODE1NjMxMjYyNiwgMTQ1NS45MTE4MjM2NDcyOTQ2LCAxNDU3LjkxNTgzMTY2MzMyNjYsIDE0NTkuOTE5ODM5Njc5MzU4NiwgMTQ2MS45MjM4NDc2OTUzOTA4LCAxNDYzLjkyNzg1NTcxMTQyMjgsIDE0NjUuOTMxODYzNzI3NDU1LCAxNDY3LjkzNTg3MTc0MzQ4NywgMTQ2OS45Mzk4Nzk3NTk1MTksIDE0NzEuOTQzODg3Nzc1NTUxLCAxNDczLjk0Nzg5NTc5MTU4MywgMTQ3NS45NTE5MDM4MDc2MTUzLCAxNDc3Ljk1NTkxMTgyMzY0NzMsIDE0NzkuOTU5OTE5ODM5Njc5NSwgMTQ4MS45NjM5Mjc4NTU3MTE1LCAxNDgzLjk2NzkzNTg3MTc0MzUsIDE0ODUuOTcxOTQzODg3Nzc1NSwgMTQ4Ny45NzU5NTE5MDM4MDc1LCAxNDg5Ljk3OTk1OTkxOTgzOTUsIDE0OTEuOTgzOTY3OTM1ODcxOCwgMTQ5My45ODc5NzU5NTE5MDM4LCAxNDk1Ljk5MTk4Mzk2NzkzNiwgMTQ5Ny45OTU5OTE5ODM5NjgsIDE1MDAuMF0pCiAgICAgICAgICAgICAgLnJhbmdlKFsnI2ZmZmZmZicsICcjZmZmZmZmJywgJyNmZWZlZmYnLCAnI2ZlZmVmZicsICcjZmRmZGZmJywgJyNmZGZkZmYnLCAnI2ZjZmNmZicsICcjZmNmY2ZmJywgJyNmYmZiZmYnLCAnI2ZiZmJmZicsICcjZmFmYWZmJywgJyNmYWZhZmYnLCAnI2Y5ZjlmZicsICcjZjlmOWZmJywgJyNmOGY4ZmYnLCAnI2Y4ZjhmZicsICcjZjdmN2ZmJywgJyNmN2Y3ZmYnLCAnI2Y2ZjZmZicsICcjZjZmNmZmJywgJyNmNWY1ZmYnLCAnI2Y1ZjVmZicsICcjZjRmNGZmJywgJyNmNGY0ZmYnLCAnI2YzZjNmZicsICcjZjNmM2ZmJywgJyNmMmYyZmYnLCAnI2YyZjJmZicsICcjZjFmMWZmJywgJyNmMWYxZmYnLCAnI2YwZjBmZicsICcjZjBmMGZmJywgJyNlZmVmZmYnLCAnI2VmZWZmZicsICcjZWVlZWZmJywgJyNlZWVlZmYnLCAnI2VkZWRmZicsICcjZWRlZGZmJywgJyNlY2VjZmYnLCAnI2ViZWJmZicsICcjZWJlYmZmJywgJyNlYWVhZmYnLCAnI2VhZWFmZicsICcjZTllOWZmJywgJyNlOWU5ZmYnLCAnI2U4ZThmZicsICcjZThlOGZmJywgJyNlN2U3ZmYnLCAnI2U3ZTdmZicsICcjZTZlNmZmJywgJyNlNmU2ZmYnLCAnI2U1ZTVmZicsICcjZTVlNWZmJywgJyNlNGU0ZmYnLCAnI2U0ZTRmZicsICcjZTNlM2ZmJywgJyNlM2UzZmYnLCAnI2UyZTJmZicsICcjZTJlMmZmJywgJyNlMWUxZmYnLCAnI2UxZTFmZicsICcjZTBlMGZmJywgJyNlMGUwZmYnLCAnI2RmZGZmZicsICcjZGZkZmZmJywgJyNkZWRlZmYnLCAnI2RlZGVmZicsICcjZGRkZGZmJywgJyNkZGRkZmYnLCAnI2RjZGNmZicsICcjZGNkY2ZmJywgJyNkYmRiZmYnLCAnI2RiZGJmZicsICcjZGFkYWZmJywgJyNkYWRhZmYnLCAnI2Q5ZDlmZicsICcjZDlkOWZmJywgJyNkOGQ4ZmYnLCAnI2Q3ZDdmZicsICcjZDdkN2ZmJywgJyNkNmQ2ZmYnLCAnI2Q2ZDZmZicsICcjZDVkNWZmJywgJyNkNWQ1ZmYnLCAnI2Q0ZDRmZicsICcjZDRkNGZmJywgJyNkM2QzZmYnLCAnI2QzZDNmZicsICcjZDJkMmZmJywgJyNkMmQyZmYnLCAnI2QxZDFmZicsICcjZDFkMWZmJywgJyNkMGQwZmYnLCAnI2QwZDBmZicsICcjY2ZjZmZmJywgJyNjZmNmZmYnLCAnI2NlY2VmZicsICcjY2VjZWZmJywgJyNjZGNkZmYnLCAnI2NkY2RmZicsICcjY2NjY2ZmJywgJyNjY2NjZmYnLCAnI2NiY2JmZicsICcjY2JjYmZmJywgJyNjYWNhZmYnLCAnI2NhY2FmZicsICcjYzljOWZmJywgJyNjOWM5ZmYnLCAnI2M4YzhmZicsICcjYzhjOGZmJywgJyNjN2M3ZmYnLCAnI2M3YzdmZicsICcjYzZjNmZmJywgJyNjNmM2ZmYnLCAnI2M1YzVmZicsICcjYzVjNWZmJywgJyNjNGM0ZmYnLCAnI2MzYzNmZicsICcjYzNjM2ZmJywgJyNjMmMyZmYnLCAnI2MyYzJmZicsICcjYzFjMWZmJywgJyNjMWMxZmYnLCAnI2MwYzBmZicsICcjYzBjMGZmJywgJyNiZmJmZmYnLCAnI2JmYmZmZicsICcjYmViZWZmJywgJyNiZWJlZmYnLCAnI2JkYmRmZicsICcjYmRiZGZmJywgJyNiY2JjZmYnLCAnI2JjYmNmZicsICcjYmJiYmZmJywgJyNiYmJiZmYnLCAnI2JhYmFmZicsICcjYmFiYWZmJywgJyNiOWI5ZmYnLCAnI2I5YjlmZicsICcjYjhiOGZmJywgJyNiOGI4ZmYnLCAnI2I3YjdmZicsICcjYjdiN2ZmJywgJyNiNmI2ZmYnLCAnI2I2YjZmZicsICcjYjViNWZmJywgJyNiNWI1ZmYnLCAnI2I0YjRmZicsICcjYjRiNGZmJywgJyNiM2IzZmYnLCAnI2IzYjNmZicsICcjYjJiMmZmJywgJyNiMmIyZmYnLCAnI2IxYjFmZicsICcjYjBiMGZmJywgJyNiMGIwZmYnLCAnI2FmYWZmZicsICcjYWZhZmZmJywgJyNhZWFlZmYnLCAnI2FlYWVmZicsICcjYWRhZGZmJywgJyNhZGFkZmYnLCAnI2FjYWNmZicsICcjYWNhY2ZmJywgJyNhYmFiZmYnLCAnI2FiYWJmZicsICcjYWFhYWZmJywgJyNhYWFhZmYnLCAnI2E5YTlmZicsICcjYTlhOWZmJywgJyNhOGE4ZmYnLCAnI2E4YThmZicsICcjYTdhN2ZmJywgJyNhN2E3ZmYnLCAnI2E2YTZmZicsICcjYTZhNmZmJywgJyNhNWE1ZmYnLCAnI2E1YTVmZicsICcjYTRhNGZmJywgJyNhNGE0ZmYnLCAnI2EzYTNmZicsICcjYTNhM2ZmJywgJyNhMmEyZmYnLCAnI2EyYTJmZicsICcjYTFhMWZmJywgJyNhMWExZmYnLCAnI2EwYTBmZicsICcjYTBhMGZmJywgJyM5ZjlmZmYnLCAnIzlmOWZmZicsICcjOWU5ZWZmJywgJyM5ZTllZmYnLCAnIzlkOWRmZicsICcjOWM5Y2ZmJywgJyM5YzljZmYnLCAnIzliOWJmZicsICcjOWI5YmZmJywgJyM5YTlhZmYnLCAnIzlhOWFmZicsICcjOTk5OWZmJywgJyM5OTk5ZmYnLCAnIzk4OThmZicsICcjOTg5OGZmJywgJyM5Nzk3ZmYnLCAnIzk3OTdmZicsICcjOTY5NmZmJywgJyM5Njk2ZmYnLCAnIzk1OTVmZicsICcjOTU5NWZmJywgJyM5NDk0ZmYnLCAnIzk0OTRmZicsICcjOTM5M2ZmJywgJyM5MzkzZmYnLCAnIzkyOTJmZicsICcjOTI5MmZmJywgJyM5MTkxZmYnLCAnIzkxOTFmZicsICcjOTA5MGZmJywgJyM5MDkwZmYnLCAnIzhmOGZmZicsICcjOGY4ZmZmJywgJyM4ZThlZmYnLCAnIzhlOGVmZicsICcjOGQ4ZGZmJywgJyM4ZDhkZmYnLCAnIzhjOGNmZicsICcjOGM4Y2ZmJywgJyM4YjhiZmYnLCAnIzhiOGJmZicsICcjOGE4YWZmJywgJyM4YThhZmYnLCAnIzg5ODlmZicsICcjODg4OGZmJywgJyM4ODg4ZmYnLCAnIzg3ODdmZicsICcjODc4N2ZmJywgJyM4Njg2ZmYnLCAnIzg2ODZmZicsICcjODU4NWZmJywgJyM4NTg1ZmYnLCAnIzg0ODRmZicsICcjODQ4NGZmJywgJyM4MzgzZmYnLCAnIzgzODNmZicsICcjODI4MmZmJywgJyM4MjgyZmYnLCAnIzgxODFmZicsICcjODE4MWZmJywgJyM4MDgwZmYnLCAnIzgwODBmZicsICcjN2Y3ZmZmJywgJyM3ZjdmZmYnLCAnIzdlN2VmZicsICcjN2U3ZWZmJywgJyM3ZDdkZmYnLCAnIzdkN2RmZicsICcjN2M3Y2ZmJywgJyM3YzdjZmYnLCAnIzdiN2JmZicsICcjN2I3YmZmJywgJyM3YTdhZmYnLCAnIzdhN2FmZicsICcjNzk3OWZmJywgJyM3OTc5ZmYnLCAnIzc4NzhmZicsICcjNzg3OGZmJywgJyM3Nzc3ZmYnLCAnIzc3NzdmZicsICcjNzY3NmZmJywgJyM3NTc1ZmYnLCAnIzc1NzVmZicsICcjNzQ3NGZmJywgJyM3NDc0ZmYnLCAnIzczNzNmZicsICcjNzM3M2ZmJywgJyM3MjcyZmYnLCAnIzcyNzJmZicsICcjNzE3MWZmJywgJyM3MTcxZmYnLCAnIzcwNzBmZicsICcjNzA3MGZmJywgJyM2ZjZmZmYnLCAnIzZmNmZmZicsICcjNmU2ZWZmJywgJyM2ZTZlZmYnLCAnIzZkNmRmZicsICcjNmQ2ZGZmJywgJyM2YzZjZmYnLCAnIzZjNmNmZicsICcjNmI2YmZmJywgJyM2YjZiZmYnLCAnIzZhNmFmZicsICcjNmE2YWZmJywgJyM2OTY5ZmYnLCAnIzY5NjlmZicsICcjNjg2OGZmJywgJyM2ODY4ZmYnLCAnIzY3NjdmZicsICcjNjc2N2ZmJywgJyM2NjY2ZmYnLCAnIzY2NjZmZicsICcjNjU2NWZmJywgJyM2NTY1ZmYnLCAnIzY0NjRmZicsICcjNjQ2NGZmJywgJyM2MzYzZmYnLCAnIzYzNjNmZicsICcjNjI2MmZmJywgJyM2MTYxZmYnLCAnIzYxNjFmZicsICcjNjA2MGZmJywgJyM2MDYwZmYnLCAnIzVmNWZmZicsICcjNWY1ZmZmJywgJyM1ZTVlZmYnLCAnIzVlNWVmZicsICcjNWQ1ZGZmJywgJyM1ZDVkZmYnLCAnIzVjNWNmZicsICcjNWM1Y2ZmJywgJyM1YjViZmYnLCAnIzViNWJmZicsICcjNWE1YWZmJywgJyM1YTVhZmYnLCAnIzU5NTlmZicsICcjNTk1OWZmJywgJyM1ODU4ZmYnLCAnIzU4NThmZicsICcjNTc1N2ZmJywgJyM1NzU3ZmYnLCAnIzU2NTZmZicsICcjNTY1NmZmJywgJyM1NTU1ZmYnLCAnIzU1NTVmZicsICcjNTQ1NGZmJywgJyM1NDU0ZmYnLCAnIzUzNTNmZicsICcjNTM1M2ZmJywgJyM1MjUyZmYnLCAnIzUyNTJmZicsICcjNTE1MWZmJywgJyM1MTUxZmYnLCAnIzUwNTBmZicsICcjNTA1MGZmJywgJyM0ZjRmZmYnLCAnIzRmNGZmZicsICcjNGU0ZWZmJywgJyM0ZDRkZmYnLCAnIzRkNGRmZicsICcjNGM0Y2ZmJywgJyM0YzRjZmYnLCAnIzRiNGJmZicsICcjNGI0YmZmJywgJyM0YTRhZmYnLCAnIzRhNGFmZicsICcjNDk0OWZmJywgJyM0OTQ5ZmYnLCAnIzQ4NDhmZicsICcjNDg0OGZmJywgJyM0NzQ3ZmYnLCAnIzQ3NDdmZicsICcjNDY0NmZmJywgJyM0NjQ2ZmYnLCAnIzQ1NDVmZicsICcjNDU0NWZmJywgJyM0NDQ0ZmYnLCAnIzQ0NDRmZicsICcjNDM0M2ZmJywgJyM0MzQzZmYnLCAnIzQyNDJmZicsICcjNDI0MmZmJywgJyM0MTQxZmYnLCAnIzQxNDFmZicsICcjNDA0MGZmJywgJyM0MDQwZmYnLCAnIzNmM2ZmZicsICcjM2YzZmZmJywgJyMzZTNlZmYnLCAnIzNlM2VmZicsICcjM2QzZGZmJywgJyMzZDNkZmYnLCAnIzNjM2NmZicsICcjM2MzY2ZmJywgJyMzYjNiZmYnLCAnIzNhM2FmZicsICcjM2EzYWZmJywgJyMzOTM5ZmYnLCAnIzM5MzlmZicsICcjMzgzOGZmJywgJyMzODM4ZmYnLCAnIzM3MzdmZicsICcjMzczN2ZmJywgJyMzNjM2ZmYnLCAnIzM2MzZmZicsICcjMzUzNWZmJywgJyMzNTM1ZmYnLCAnIzM0MzRmZicsICcjMzQzNGZmJywgJyMzMzMzZmYnLCAnIzMzMzNmZicsICcjMzIzMmZmJywgJyMzMjMyZmYnLCAnIzMxMzFmZicsICcjMzEzMWZmJywgJyMzMDMwZmYnLCAnIzMwMzBmZicsICcjMmYyZmZmJywgJyMyZjJmZmYnLCAnIzJlMmVmZicsICcjMmUyZWZmJywgJyMyZDJkZmYnLCAnIzJkMmRmZicsICcjMmMyY2ZmJywgJyMyYzJjZmYnLCAnIzJiMmJmZicsICcjMmIyYmZmJywgJyMyYTJhZmYnLCAnIzJhMmFmZicsICcjMjkyOWZmJywgJyMyOTI5ZmYnLCAnIzI4MjhmZicsICcjMjgyOGZmJywgJyMyNzI3ZmYnLCAnIzI2MjZmZicsICcjMjYyNmZmJywgJyMyNTI1ZmYnLCAnIzI1MjVmZicsICcjMjQyNGZmJywgJyMyNDI0ZmYnLCAnIzIzMjNmZicsICcjMjMyM2ZmJywgJyMyMjIyZmYnLCAnIzIyMjJmZicsICcjMjEyMWZmJywgJyMyMTIxZmYnLCAnIzIwMjBmZicsICcjMjAyMGZmJywgJyMxZjFmZmYnLCAnIzFmMWZmZicsICcjMWUxZWZmJywgJyMxZTFlZmYnLCAnIzFkMWRmZicsICcjMWQxZGZmJywgJyMxYzFjZmYnLCAnIzFjMWNmZicsICcjMWIxYmZmJywgJyMxYjFiZmYnLCAnIzFhMWFmZicsICcjMWExYWZmJywgJyMxOTE5ZmYnLCAnIzE5MTlmZicsICcjMTgxOGZmJywgJyMxODE4ZmYnLCAnIzE3MTdmZicsICcjMTcxN2ZmJywgJyMxNjE2ZmYnLCAnIzE2MTZmZicsICcjMTUxNWZmJywgJyMxNTE1ZmYnLCAnIzE0MTRmZicsICcjMTQxNGZmJywgJyMxMzEzZmYnLCAnIzEyMTJmZicsICcjMTIxMmZmJywgJyMxMTExZmYnLCAnIzExMTFmZicsICcjMTAxMGZmJywgJyMxMDEwZmYnLCAnIzBmMGZmZicsICcjMGYwZmZmJywgJyMwZTBlZmYnLCAnIzBlMGVmZicsICcjMGQwZGZmJywgJyMwZDBkZmYnLCAnIzBjMGNmZicsICcjMGMwY2ZmJywgJyMwYjBiZmYnLCAnIzBiMGJmZicsICcjMGEwYWZmJywgJyMwYTBhZmYnLCAnIzA5MDlmZicsICcjMDkwOWZmJywgJyMwODA4ZmYnLCAnIzA4MDhmZicsICcjMDcwN2ZmJywgJyMwNzA3ZmYnLCAnIzA2MDZmZicsICcjMDYwNmZmJywgJyMwNTA1ZmYnLCAnIzA1MDVmZicsICcjMDQwNGZmJywgJyMwNDA0ZmYnLCAnIzAzMDNmZicsICcjMDMwM2ZmJywgJyMwMjAyZmYnLCAnIzAyMDJmZicsICcjMDEwMWZmJywgJyMwMTAxZmYnLCAnIzAwMDBmZicsICcjMDAwMGZmJ10pOwogICAgCgogICAgY29sb3JfbWFwXzRiYjUwNzI0NmZhYTQ4OWZiYzIwYjZhYTU2YjUwN2RjLnggPSBkMy5zY2FsZS5saW5lYXIoKQogICAgICAgICAgICAgIC5kb21haW4oWzUwMC4wLCAxNTAwLjBdKQogICAgICAgICAgICAgIC5yYW5nZShbMCwgNDAwXSk7CgogICAgY29sb3JfbWFwXzRiYjUwNzI0NmZhYTQ4OWZiYzIwYjZhYTU2YjUwN2RjLmxlZ2VuZCA9IEwuY29udHJvbCh7cG9zaXRpb246ICd0b3ByaWdodCd9KTsKICAgIGNvbG9yX21hcF80YmI1MDcyNDZmYWE0ODlmYmMyMGI2YWE1NmI1MDdkYy5sZWdlbmQub25BZGQgPSBmdW5jdGlvbiAobWFwKSB7dmFyIGRpdiA9IEwuRG9tVXRpbC5jcmVhdGUoJ2RpdicsICdsZWdlbmQnKTsgcmV0dXJuIGRpdn07CiAgICBjb2xvcl9tYXBfNGJiNTA3MjQ2ZmFhNDg5ZmJjMjBiNmFhNTZiNTA3ZGMubGVnZW5kLmFkZFRvKG1hcF82YzhmMzk3MzFiMDg0ZGI4OTYxMGQwZjY2OTBhMWZkMCk7CgogICAgY29sb3JfbWFwXzRiYjUwNzI0NmZhYTQ4OWZiYzIwYjZhYTU2YjUwN2RjLnhBeGlzID0gZDMuc3ZnLmF4aXMoKQogICAgICAgIC5zY2FsZShjb2xvcl9tYXBfNGJiNTA3MjQ2ZmFhNDg5ZmJjMjBiNmFhNTZiNTA3ZGMueCkKICAgICAgICAub3JpZW50KCJ0b3AiKQogICAgICAgIC50aWNrU2l6ZSgxKQogICAgICAgIC50aWNrVmFsdWVzKFs1MDAuMCwgMTUwMC4wXSk7CgogICAgY29sb3JfbWFwXzRiYjUwNzI0NmZhYTQ4OWZiYzIwYjZhYTU2YjUwN2RjLnN2ZyA9IGQzLnNlbGVjdCgiLmxlZ2VuZC5sZWFmbGV0LWNvbnRyb2wiKS5hcHBlbmQoInN2ZyIpCiAgICAgICAgLmF0dHIoImlkIiwgJ2xlZ2VuZCcpCiAgICAgICAgLmF0dHIoIndpZHRoIiwgNDUwKQogICAgICAgIC5hdHRyKCJoZWlnaHQiLCA0MCk7CgogICAgY29sb3JfbWFwXzRiYjUwNzI0NmZhYTQ4OWZiYzIwYjZhYTU2YjUwN2RjLmcgPSBjb2xvcl9tYXBfNGJiNTA3MjQ2ZmFhNDg5ZmJjMjBiNmFhNTZiNTA3ZGMuc3ZnLmFwcGVuZCgiZyIpCiAgICAgICAgLmF0dHIoImNsYXNzIiwgImtleSIpCiAgICAgICAgLmF0dHIoInRyYW5zZm9ybSIsICJ0cmFuc2xhdGUoMjUsMTYpIik7CgogICAgY29sb3JfbWFwXzRiYjUwNzI0NmZhYTQ4OWZiYzIwYjZhYTU2YjUwN2RjLmcuc2VsZWN0QWxsKCJyZWN0IikKICAgICAgICAuZGF0YShjb2xvcl9tYXBfNGJiNTA3MjQ2ZmFhNDg5ZmJjMjBiNmFhNTZiNTA3ZGMuY29sb3IucmFuZ2UoKS5tYXAoZnVuY3Rpb24oZCwgaSkgewogICAgICAgICAgcmV0dXJuIHsKICAgICAgICAgICAgeDA6IGkgPyBjb2xvcl9tYXBfNGJiNTA3MjQ2ZmFhNDg5ZmJjMjBiNmFhNTZiNTA3ZGMueChjb2xvcl9tYXBfNGJiNTA3MjQ2ZmFhNDg5ZmJjMjBiNmFhNTZiNTA3ZGMuY29sb3IuZG9tYWluKClbaSAtIDFdKSA6IGNvbG9yX21hcF80YmI1MDcyNDZmYWE0ODlmYmMyMGI2YWE1NmI1MDdkYy54LnJhbmdlKClbMF0sCiAgICAgICAgICAgIHgxOiBpIDwgY29sb3JfbWFwXzRiYjUwNzI0NmZhYTQ4OWZiYzIwYjZhYTU2YjUwN2RjLmNvbG9yLmRvbWFpbigpLmxlbmd0aCA/IGNvbG9yX21hcF80YmI1MDcyNDZmYWE0ODlmYmMyMGI2YWE1NmI1MDdkYy54KGNvbG9yX21hcF80YmI1MDcyNDZmYWE0ODlmYmMyMGI2YWE1NmI1MDdkYy5jb2xvci5kb21haW4oKVtpXSkgOiBjb2xvcl9tYXBfNGJiNTA3MjQ2ZmFhNDg5ZmJjMjBiNmFhNTZiNTA3ZGMueC5yYW5nZSgpWzFdLAogICAgICAgICAgICB6OiBkCiAgICAgICAgICB9OwogICAgICAgIH0pKQogICAgICAuZW50ZXIoKS5hcHBlbmQoInJlY3QiKQogICAgICAgIC5hdHRyKCJoZWlnaHQiLCAxMCkKICAgICAgICAuYXR0cigieCIsIGZ1bmN0aW9uKGQpIHsgcmV0dXJuIGQueDA7IH0pCiAgICAgICAgLmF0dHIoIndpZHRoIiwgZnVuY3Rpb24oZCkgeyByZXR1cm4gZC54MSAtIGQueDA7IH0pCiAgICAgICAgLnN0eWxlKCJmaWxsIiwgZnVuY3Rpb24oZCkgeyByZXR1cm4gZC56OyB9KTsKCiAgICBjb2xvcl9tYXBfNGJiNTA3MjQ2ZmFhNDg5ZmJjMjBiNmFhNTZiNTA3ZGMuZy5jYWxsKGNvbG9yX21hcF80YmI1MDcyNDZmYWE0ODlmYmMyMGI2YWE1NmI1MDdkYy54QXhpcykuYXBwZW5kKCJ0ZXh0IikKICAgICAgICAuYXR0cigiY2xhc3MiLCAiY2FwdGlvbiIpCiAgICAgICAgLmF0dHIoInkiLCAyMSkKICAgICAgICAudGV4dCgnQXZlcmFnZSBhbm51YWwgcHJlY2lwaXRhdGlvbiByYXRlIChtbS95ZWFyKScpOwogICAgCiAgICAgICAgICAgIHZhciBsYXllcl9jb250cm9sX2I3NTg2ZTVhMjMyMzQ2NTg4MWNmODVmY2VhMTUzOGNlID0gewogICAgICAgICAgICAgICAgYmFzZV9sYXllcnMgOiB7CiAgICAgICAgICAgICAgICAgICAgIm9wZW5zdHJlZXRtYXAiIDogdGlsZV9sYXllcl85Y2M5NGRmYWYwYmI0N2E5YjgyMjUzOTJhNjg4NmJlZCwKICAgICAgICAgICAgICAgIH0sCiAgICAgICAgICAgICAgICBvdmVybGF5cyA6ICB7CiAgICAgICAgICAgICAgICAgICAgIlByZWNpcGl0YXRpb24iIDogdGlsZV9sYXllcl85NjQ4Y2QzODQ4OTg0OWZlOTc3ODU0MzVjZGRiYzM1NiwKICAgICAgICAgICAgICAgICAgICAiUmVjaGFyZ2UiIDogdGlsZV9sYXllcl8zOWY2YTUwNmE5NWU0YzllYTE5ZTQ1YjBhMTQyNzc1MiwKICAgICAgICAgICAgICAgIH0sCiAgICAgICAgICAgIH07CiAgICAgICAgICAgIEwuY29udHJvbC5sYXllcnMoCiAgICAgICAgICAgICAgICBsYXllcl9jb250cm9sX2I3NTg2ZTVhMjMyMzQ2NTg4MWNmODVmY2VhMTUzOGNlLmJhc2VfbGF5ZXJzLAogICAgICAgICAgICAgICAgbGF5ZXJfY29udHJvbF9iNzU4NmU1YTIzMjM0NjU4ODFjZjg1ZmNlYTE1MzhjZS5vdmVybGF5cywKICAgICAgICAgICAgICAgIHsiYXV0b1pJbmRleCI6IHRydWUsICJjb2xsYXBzZWQiOiB0cnVlLCAicG9zaXRpb24iOiAidG9wcmlnaHQifQogICAgICAgICAgICApLmFkZFRvKG1hcF82YzhmMzk3MzFiMDg0ZGI4OTYxMGQwZjY2OTBhMWZkMCk7CiAgICAgICAgCjwvc2NyaXB0Pg==\" style=\"position:absolute;width:100%;height:100%;left:0;top:0;border:none !important;\" allowfullscreen webkitallowfullscreen mozallowfullscreen></iframe></div></div>"
      ],
      "text/plain": [
       "<folium.folium.Map at 0x2d5c9f28>"
      ]
     },
     "metadata": {},
     "output_type": "display_data"
    }
   ],
   "source": [
    "# Create a folium map.\n",
    "my_map = folium.Map(location=[lat, lon], zoom_start=10, zoom_control=False)\n",
    "\n",
    "# Set visualization parameters for recharge.\n",
    "rech_vis_params = {\n",
    "    \"bands\": \"rech\",\n",
    "    \"min\": 0,\n",
    "    \"max\": 500,\n",
    "    \"opacity\": 1,\n",
    "    \"palette\": [\"red\", \"orange\", \"yellow\", \"green\", \"blue\", \"purple\"],\n",
    "}\n",
    "\n",
    "# Set visualization parameters for precipitation.\n",
    "pr_vis_params = {\n",
    "    \"bands\": \"pr\",\n",
    "    \"min\": 500,\n",
    "    \"max\": 1500,\n",
    "    \"opacity\": 1,\n",
    "    \"palette\": [\"white\", \"blue\"],\n",
    "}\n",
    "\n",
    "# Define a recharge colormap.\n",
    "rech_colormap = cm.LinearColormap(\n",
    "    colors=rech_vis_params[\"palette\"],\n",
    "    vmin=rech_vis_params[\"min\"],\n",
    "    vmax=rech_vis_params[\"max\"],\n",
    ")\n",
    "\n",
    "# Define a precipitation colormap.\n",
    "pr_colormap = cm.LinearColormap(\n",
    "    colors=pr_vis_params[\"palette\"],\n",
    "    vmin=pr_vis_params[\"min\"],\n",
    "    vmax=pr_vis_params[\"max\"],\n",
    ")\n",
    "\n",
    "# Caption of the recharge colormap.\n",
    "rech_colormap.caption = \"Average annual recharge rate (mm/year)\"\n",
    "\n",
    "# Caption of the precipitation colormap.\n",
    "pr_colormap.caption = \"Average annual precipitation rate (mm/year)\"\n",
    "\n",
    "# Add the precipitation composite to the map object.\n",
    "my_map.add_ee_layer(pr_brazil, pr_vis_params, \"Precipitation\")\n",
    "\n",
    "# Add the recharge composite to the map object.\n",
    "my_map.add_ee_layer(rech_brazil, rech_vis_params, \"Recharge\")\n",
    "\n",
    "# Add a marker at both locations of interest.\n",
    "folium.Marker([lat, lon], popup=\"Area of Interest\").add_to(my_map)\n",
    "#folium.Marker([lat2, lon2], popup=\"Area of Montpellier\").add_to(my_map)\n",
    "\n",
    "# Add the colormaps to the map.\n",
    "my_map.add_child(rech_colormap)\n",
    "my_map.add_child(pr_colormap)\n",
    "\n",
    "# Add a layer control panel to the map.\n",
    "my_map.add_child(folium.LayerControl())\n",
    "\n",
    "# Display the map.\n",
    "display(my_map)"
   ]
  },
  {
   "cell_type": "markdown",
   "metadata": {},
   "source": [
    "## References\n",
    "\n",
    "Allen RG, Pereira LS, Raes D, Smith M (1998). Crop evapotranspiration: guidelines for computing crop water requirements. Irrigation and Drainage Paper 56, FAO, Rome.\n",
    "\n",
    "Saxton, K. E., & Rawls, W. J. (2006). Soil water characteristic estimates by texture and organic matter for hydrologic solutions. Soil science society of America Journal, 70(5), 1569-1578.\n",
    "\n",
    "Thornthwaite, C. W., & Mather, J. R. (1957). Instructions and tables for computing potential evapotranspiration and the water balance. Publ. Climatol., 10(3).\n",
    "\n",
    "## Data\n",
    "Funk, Chris, Pete Peterson, Martin Landsfeld, Diego Pedreros, James Verdin, Shraddhanand Shukla, Gregory Husak, James Rowland, Laura Harrison, Andrew Hoell & Joel Michaelsen. \"The climate hazards infrared precipitation with stations—a new environmental record for monitoring extremes\". Scientific Data 2, 150066. [doi:10.1038/sdata.2015.66](https://www.nature.com/articles/sdata201566) 2015.\n",
    "\n",
    "Running, S., Mu, Q., Zhao, M. (2017). MOD16A2 MODIS/Terra Net Evapotranspiration 8-Day L4 Global 500m SIN Grid V006 [Data set]. NASA EOSDIS Land Processes DAAC. Accessed 2022-06-19 from [doi.org/10.5067/MODIS/MOD16A2.006](https://lpdaac.usgs.gov/products/mod16a2v006/)\n",
    "\n",
    "Tomislav Hengl. (2018). Sand content in % (kg / kg) at 6 standard depths (0, 10, 30, 60, 100 and 200 cm) at 250 m resolution (Version v02) [Data set]. [doi.org/10.5281/zenodo.1476851](https://zenodo.org/record/2525662#.Yq-s3_3MKUk)\n",
    "\n",
    "Tomislav Hengl. (2018). Clay content in % (kg / kg) at 6 standard depths (0, 10, 30, 60, 100 and 200 cm) at 250 m resolution (Version v02) [Data set]. [doi.org/10.5281/zenodo.1476854](https://zenodo.org/record/2525663#.Yq-tHv3MKUk)\n",
    "\n",
    "Tomislav Hengl, & Ichsani Wheeler. (2018). Soil organic carbon content in x 5 g / kg at 6 standard depths (0, 10, 30, 60, 100 and 200 cm) at 250 m resolution (Version v02) [Data set]. Zenodo. [doi.org/10.5281/zenodo.1475457](https://zenodo.org/record/2525553#.Yq-tRP3MKUk)"
   ]
  }
 ],
 "metadata": {
  "kernelspec": {
   "display_name": "Python 3.6.5 ('py365')",
   "language": "python",
   "name": "python3"
  },
  "language_info": {
   "codemirror_mode": {
    "name": "ipython",
    "version": 3
   },
   "file_extension": ".py",
   "mimetype": "text/x-python",
   "name": "python",
   "nbconvert_exporter": "python",
   "pygments_lexer": "ipython3",
   "version": "3.6.5"
  },
  "orig_nbformat": 4,
  "vscode": {
   "interpreter": {
    "hash": "2e18d05a840552a235eedfec20eb44b4a6cb0908c22b7ac8e899476b45cf34ce"
   }
  }
 },
 "nbformat": 4,
 "nbformat_minor": 2
}

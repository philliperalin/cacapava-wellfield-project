{
 "cells": [
  {
   "cell_type": "code",
   "execution_count": 4,
   "metadata": {},
   "outputs": [
    {
     "data": {
      "text/html": [
       "<p>To authorize access needed by Earth Engine, open the following\n",
       "        URL in a web browser and follow the instructions:</p>\n",
       "        <p><a href=https://code.earthengine.google.com/client-auth?scopes=https%3A//www.googleapis.com/auth/earthengine%20https%3A//www.googleapis.com/auth/devstorage.full_control&request_id=-xj3kkUkWDLUhdhYKPImQ76OFkn7O0sFbk1bQPsO6Co&tc=YWfPgTAe-aZd_-HftZ2uqvLfJxSHkgRnlI0PYsGlzdk&cc=ag182REfFTSde7CfbWNSyJj0tpRt6FiE80BDLGdrM94>https://code.earthengine.google.com/client-auth?scopes=https%3A//www.googleapis.com/auth/earthengine%20https%3A//www.googleapis.com/auth/devstorage.full_control&request_id=-xj3kkUkWDLUhdhYKPImQ76OFkn7O0sFbk1bQPsO6Co&tc=YWfPgTAe-aZd_-HftZ2uqvLfJxSHkgRnlI0PYsGlzdk&cc=ag182REfFTSde7CfbWNSyJj0tpRt6FiE80BDLGdrM94</a></p>\n",
       "        <p>The authorization workflow will generate a code, which you\n",
       "        should paste in the box below</p>\n",
       "        "
      ],
      "text/plain": [
       "<IPython.core.display.HTML object>"
      ]
     },
     "metadata": {},
     "output_type": "display_data"
    },
    {
     "name": "stdout",
     "output_type": "stream",
     "text": [
      "\n",
      "Successfully saved authorization token.\n"
     ]
    }
   ],
   "source": [
    "import ee\n",
    "ee.Authenticate()\n",
    "ee.Initialize()"
   ]
  },
  {
   "cell_type": "code",
   "execution_count": 1,
   "metadata": {},
   "outputs": [],
   "source": [
    "import pandas as pd\n",
    "import matplotlib.pyplot as plt\n",
    "import numpy as np\n",
    "import folium\n",
    "import pprint\n",
    "import branca.colormap as cm"
   ]
  },
  {
   "cell_type": "code",
   "execution_count": 34,
   "metadata": {},
   "outputs": [],
   "source": [
    "i_date = \"2012-01-01\"\n",
    "f_date = \"2022-01-01\"\n",
    "\n",
    "#area of interest\n",
    "lon = -45.685694\n",
    "lat = -23.100421\n",
    "poi = ee.Geometry.Point(lon, lat)\n",
    "\n",
    "scale = 1000"
   ]
  },
  {
   "cell_type": "markdown",
   "metadata": {},
   "source": [
    "## Soil texture to hydraulic properties\n",
    "dsfdsfgdsgs"
   ]
  },
  {
   "cell_type": "code",
   "execution_count": 2,
   "metadata": {},
   "outputs": [
    {
     "data": {
      "text/plain": [
       "['b0', 'b10', 'b30', 'b60', 'b100', 'b200']"
      ]
     },
     "execution_count": 2,
     "metadata": {},
     "output_type": "execute_result"
    }
   ],
   "source": [
    "olm_depths = [0, 10, 30, 60, 100, 200]\n",
    "olm_bands = [\"b\" + str(sd) for sd in olm_depths]\n",
    "olm_bands"
   ]
  },
  {
   "cell_type": "code",
   "execution_count": 5,
   "metadata": {},
   "outputs": [],
   "source": [
    "#sand image\n",
    "snippet = \"OpenLandMap/SOL/SOL_SAND-WFRACTION_USDA-3A1A1A_M/v02\"\n",
    "scale_factor = 0.01\n",
    "sand = ee.Image(snippet).multiply(scale_factor)"
   ]
  },
  {
   "cell_type": "code",
   "execution_count": 6,
   "metadata": {},
   "outputs": [],
   "source": [
    "#clay image\n",
    "snippet = \"OpenLandMap/SOL/SOL_CLAY-WFRACTION_USDA-3A1A1A_M/v02\"\n",
    "scale_factor = 0.01\n",
    "clay = ee.Image(snippet).multiply(scale_factor)"
   ]
  },
  {
   "cell_type": "code",
   "execution_count": 7,
   "metadata": {},
   "outputs": [],
   "source": [
    "#organic carbon image\n",
    "snippet = \"OpenLandMap/SOL/SOL_ORGANIC-CARBON_USDA-6A1C_M/v02\"\n",
    "scale_factor = 5 * 0.001 #to get kg/kg\n",
    "orgc = ee.Image(snippet).multiply(scale_factor)"
   ]
  },
  {
   "cell_type": "code",
   "execution_count": 11,
   "metadata": {},
   "outputs": [
    {
     "data": {
      "text/html": [
       "<div style=\"width:100%;\"><div style=\"position:relative;width:100%;height:0;padding-bottom:60%;\"><span style=\"color:#565656\">Make this Notebook Trusted to load map: File -> Trust Notebook</span><iframe srcdoc=\"&lt;!DOCTYPE html&gt;\n",
       "&lt;head&gt;    \n",
       "    &lt;meta http-equiv=&quot;content-type&quot; content=&quot;text/html; charset=UTF-8&quot; /&gt;\n",
       "    \n",
       "        &lt;script&gt;\n",
       "            L_NO_TOUCH = false;\n",
       "            L_DISABLE_3D = false;\n",
       "        &lt;/script&gt;\n",
       "    \n",
       "    &lt;style&gt;html, body {width: 100%;height: 100%;margin: 0;padding: 0;}&lt;/style&gt;\n",
       "    &lt;style&gt;#map {position:absolute;top:0;bottom:0;right:0;left:0;}&lt;/style&gt;\n",
       "    &lt;script src=&quot;https://cdn.jsdelivr.net/npm/leaflet@1.6.0/dist/leaflet.js&quot;&gt;&lt;/script&gt;\n",
       "    &lt;script src=&quot;https://code.jquery.com/jquery-1.12.4.min.js&quot;&gt;&lt;/script&gt;\n",
       "    &lt;script src=&quot;https://maxcdn.bootstrapcdn.com/bootstrap/3.2.0/js/bootstrap.min.js&quot;&gt;&lt;/script&gt;\n",
       "    &lt;script src=&quot;https://cdnjs.cloudflare.com/ajax/libs/Leaflet.awesome-markers/2.0.2/leaflet.awesome-markers.js&quot;&gt;&lt;/script&gt;\n",
       "    &lt;link rel=&quot;stylesheet&quot; href=&quot;https://cdn.jsdelivr.net/npm/leaflet@1.6.0/dist/leaflet.css&quot;/&gt;\n",
       "    &lt;link rel=&quot;stylesheet&quot; href=&quot;https://maxcdn.bootstrapcdn.com/bootstrap/3.2.0/css/bootstrap.min.css&quot;/&gt;\n",
       "    &lt;link rel=&quot;stylesheet&quot; href=&quot;https://maxcdn.bootstrapcdn.com/bootstrap/3.2.0/css/bootstrap-theme.min.css&quot;/&gt;\n",
       "    &lt;link rel=&quot;stylesheet&quot; href=&quot;https://maxcdn.bootstrapcdn.com/font-awesome/4.6.3/css/font-awesome.min.css&quot;/&gt;\n",
       "    &lt;link rel=&quot;stylesheet&quot; href=&quot;https://cdnjs.cloudflare.com/ajax/libs/Leaflet.awesome-markers/2.0.2/leaflet.awesome-markers.css&quot;/&gt;\n",
       "    &lt;link rel=&quot;stylesheet&quot; href=&quot;https://cdn.jsdelivr.net/gh/python-visualization/folium/folium/templates/leaflet.awesome.rotate.min.css&quot;/&gt;\n",
       "    \n",
       "            &lt;meta name=&quot;viewport&quot; content=&quot;width=device-width,\n",
       "                initial-scale=1.0, maximum-scale=1.0, user-scalable=no&quot; /&gt;\n",
       "            &lt;style&gt;\n",
       "                #map_8ff3464d50b1db47713e01f36ea2716d {\n",
       "                    position: relative;\n",
       "                    width: 100.0%;\n",
       "                    height: 100.0%;\n",
       "                    left: 0.0%;\n",
       "                    top: 0.0%;\n",
       "                }\n",
       "            &lt;/style&gt;\n",
       "        \n",
       "&lt;/head&gt;\n",
       "&lt;body&gt;    \n",
       "    \n",
       "            &lt;div class=&quot;folium-map&quot; id=&quot;map_8ff3464d50b1db47713e01f36ea2716d&quot; &gt;&lt;/div&gt;\n",
       "        \n",
       "&lt;/body&gt;\n",
       "&lt;script&gt;    \n",
       "    \n",
       "            var map_8ff3464d50b1db47713e01f36ea2716d = L.map(\n",
       "                &quot;map_8ff3464d50b1db47713e01f36ea2716d&quot;,\n",
       "                {\n",
       "                    center: [-23.100421, -45.685694],\n",
       "                    crs: L.CRS.EPSG3857,\n",
       "                    zoom: 8,\n",
       "                    zoomControl: true,\n",
       "                    preferCanvas: false,\n",
       "                }\n",
       "            );\n",
       "\n",
       "            \n",
       "\n",
       "        \n",
       "    \n",
       "            var tile_layer_e402c989d932060dff41f4d636125811 = L.tileLayer(\n",
       "                &quot;https://{s}.tile.openstreetmap.org/{z}/{x}/{y}.png&quot;,\n",
       "                {&quot;attribution&quot;: &quot;Data by \\u0026copy; \\u003ca href=\\&quot;http://openstreetmap.org\\&quot;\\u003eOpenStreetMap\\u003c/a\\u003e, under \\u003ca href=\\&quot;http://www.openstreetmap.org/copyright\\&quot;\\u003eODbL\\u003c/a\\u003e.&quot;, &quot;detectRetina&quot;: false, &quot;maxNativeZoom&quot;: 18, &quot;maxZoom&quot;: 18, &quot;minZoom&quot;: 0, &quot;noWrap&quot;: false, &quot;opacity&quot;: 1, &quot;subdomains&quot;: &quot;abc&quot;, &quot;tms&quot;: false}\n",
       "            ).addTo(map_8ff3464d50b1db47713e01f36ea2716d);\n",
       "        \n",
       "    \n",
       "            var tile_layer_b1cfbffd86e7dcb4a372502a3d1c200b = L.tileLayer(\n",
       "                &quot;https://earthengine.googleapis.com/v1alpha/projects/earthengine-legacy/maps/4eb593bc4cd455428247f44d478861ab-cc97df77784c699bb83f82daaa63de35/tiles/{z}/{x}/{y}&quot;,\n",
       "                {&quot;attribution&quot;: &quot;Map Data \\u0026copy; \\u003ca href=\\u0027https://earthengine.google.com/\\u0027\\u003eGoogle Earth Engine\\u003c/a\\u003e&quot;, &quot;detectRetina&quot;: false, &quot;maxNativeZoom&quot;: 18, &quot;maxZoom&quot;: 18, &quot;minZoom&quot;: 0, &quot;noWrap&quot;: false, &quot;opacity&quot;: 1, &quot;subdomains&quot;: &quot;abc&quot;, &quot;tms&quot;: false}\n",
       "            ).addTo(map_8ff3464d50b1db47713e01f36ea2716d);\n",
       "        \n",
       "    \n",
       "            var marker_f29fbcd2b93a0776343becf51cea3148 = L.marker(\n",
       "                [-23.100421, -45.685694],\n",
       "                {}\n",
       "            ).addTo(map_8ff3464d50b1db47713e01f36ea2716d);\n",
       "        \n",
       "    \n",
       "        var popup_5d6ca57e1944846fd7da989cffcc48fb = L.popup({&quot;maxWidth&quot;: &quot;100%&quot;});\n",
       "\n",
       "        \n",
       "            var html_8c6d12b7cfa785f55caa7cbdf5153736 = $(`&lt;div id=&quot;html_8c6d12b7cfa785f55caa7cbdf5153736&quot; style=&quot;width: 100.0%; height: 100.0%;&quot;&gt;point of interest&lt;/div&gt;`)[0];\n",
       "            popup_5d6ca57e1944846fd7da989cffcc48fb.setContent(html_8c6d12b7cfa785f55caa7cbdf5153736);\n",
       "        \n",
       "\n",
       "        marker_f29fbcd2b93a0776343becf51cea3148.bindPopup(popup_5d6ca57e1944846fd7da989cffcc48fb)\n",
       "        ;\n",
       "\n",
       "        \n",
       "    \n",
       "    \n",
       "            var layer_control_e2eb28a30e284b7eb4adc3434fbd4ff2 = {\n",
       "                base_layers : {\n",
       "                    &quot;openstreetmap&quot; : tile_layer_e402c989d932060dff41f4d636125811,\n",
       "                },\n",
       "                overlays :  {\n",
       "                    &quot;Sand Content&quot; : tile_layer_b1cfbffd86e7dcb4a372502a3d1c200b,\n",
       "                },\n",
       "            };\n",
       "            L.control.layers(\n",
       "                layer_control_e2eb28a30e284b7eb4adc3434fbd4ff2.base_layers,\n",
       "                layer_control_e2eb28a30e284b7eb4adc3434fbd4ff2.overlays,\n",
       "                {&quot;autoZIndex&quot;: true, &quot;collapsed&quot;: true, &quot;position&quot;: &quot;topright&quot;}\n",
       "            ).addTo(map_8ff3464d50b1db47713e01f36ea2716d);\n",
       "        \n",
       "&lt;/script&gt;\" style=\"position:absolute;width:100%;height:100%;left:0;top:0;border:none !important;\" allowfullscreen webkitallowfullscreen mozallowfullscreen></iframe></div></div>"
      ],
      "text/plain": [
       "<folium.folium.Map at 0x1bece668>"
      ]
     },
     "metadata": {},
     "output_type": "display_data"
    }
   ],
   "source": [
    "def add_ee_layer(self, ee_image_object, vis_params, name):\n",
    "    \"\"\"Adds a method for displaying Earth Engine image tiles to folium map.\"\"\"\n",
    "    map_id_dict = ee.Image(ee_image_object).getMapId(vis_params)\n",
    "    folium.raster_layers.TileLayer(\n",
    "        tiles=map_id_dict[\"tile_fetcher\"].url_format,\n",
    "        attr=\"Map Data &copy; <a href='https://earthengine.google.com/'>Google Earth Engine</a>\",\n",
    "        name=name,\n",
    "        overlay=True,\n",
    "        control=True,\n",
    "    ).add_to(self)\n",
    "\n",
    "\n",
    "# Add Earth Engine drawing method to folium.\n",
    "folium.Map.add_ee_layer = add_ee_layer\n",
    "\n",
    "my_map = folium.Map(location=[lat, lon], zoom_start=8)\n",
    "\n",
    "# Set visualization parameters.\n",
    "vis_params = {\n",
    "    \"bands\": [\"b0\"],\n",
    "    \"min\": 0.01,\n",
    "    \"max\": 1,\n",
    "    \"opacity\": 1,\n",
    "    \"palette\": [\"white\", \"#464646\"],\n",
    "}\n",
    "\n",
    "# Add the sand content data to the map object.\n",
    "my_map.add_ee_layer(sand, vis_params, \"Sand Content\")\n",
    "\n",
    "# Add a marker at the location of interest.\n",
    "folium.Marker([lat, lon], popup=\"point of interest\").add_to(my_map)\n",
    "\n",
    "# Add a layer control panel to the map.\n",
    "my_map.add_child(folium.LayerControl())\n",
    "\n",
    "# Display the map.\n",
    "display(my_map)"
   ]
  },
  {
   "cell_type": "markdown",
   "metadata": {},
   "source": [
    "Getting soil properties profiles in the region of interest.\n",
    "example below is to obtain the sand profile"
   ]
  },
  {
   "cell_type": "code",
   "execution_count": 13,
   "metadata": {},
   "outputs": [
    {
     "data": {
      "text/plain": [
       "{'type': 'FeatureCollection',\n",
       " 'columns': {},\n",
       " 'properties': {'band_order': ['b0', 'b10', 'b30', 'b60', 'b100', 'b200']},\n",
       " 'features': [{'type': 'Feature',\n",
       "   'geometry': None,\n",
       "   'id': '0',\n",
       "   'properties': {'b0': 0.44,\n",
       "    'b10': 0.44,\n",
       "    'b100': 0.41000000000000003,\n",
       "    'b200': 0.43,\n",
       "    'b30': 0.41000000000000003,\n",
       "    'b60': 0.41000000000000003}}]}"
      ]
     },
     "execution_count": 13,
     "metadata": {},
     "output_type": "execute_result"
    }
   ],
   "source": [
    "sand_prop = sand.sample(poi, scale).select(olm_bands).getInfo()\n",
    "sand_prop"
   ]
  },
  {
   "cell_type": "code",
   "execution_count": 17,
   "metadata": {},
   "outputs": [
    {
     "data": {
      "text/plain": [
       "{'b0': 0.44, 'b10': 0.44, 'b100': 0.41, 'b200': 0.43, 'b30': 0.41, 'b60': 0.41}"
      ]
     },
     "execution_count": 17,
     "metadata": {},
     "output_type": "execute_result"
    }
   ],
   "source": [
    "profile_sand = sand_prop[\"features\"][0][\"properties\"]\n",
    "profile_sand = {key: round(val, 3) for key, val in profile_sand.items()}\n",
    "profile_sand"
   ]
  },
  {
   "cell_type": "markdown",
   "metadata": {},
   "source": [
    "Doing the same to get clay and organic matter profiles\n",
    "\n",
    "Note that the organic carbon need to be converted to organic matter to be used in equation of Saxton and Rawls [2006]. It can be did by using the equation:\n",
    "\n",
    "$ OM = 1.724 OC $\n",
    "\n",
    "where $ OM $ is organic matter and $ OC $ is the organic carbon"
   ]
  },
  {
   "cell_type": "code",
   "execution_count": 30,
   "metadata": {},
   "outputs": [],
   "source": [
    "clay_prop = clay.sample(poi, scale).select(olm_bands).getInfo()\n",
    "profile_clay = clay_prop[\"features\"][0][\"properties\"]\n",
    "profile_clay = {key: round(val, 3) for key, val in profile_clay.items()}\n",
    "\n",
    "orgc_prop = orgc.sample(poi, scale).select(olm_bands).getInfo()\n",
    "profile_orgc = orgc_prop[\"features\"][0][\"properties\"]\n",
    "profile_orgm = {key: round(val * 1.724, 3) for key, val in profile_orgc.items()}\n",
    "orgm = orgc.multiply(1.724)"
   ]
  },
  {
   "cell_type": "markdown",
   "metadata": {},
   "source": [
    "Vizualizing the soil properties profile of the area of interest"
   ]
  },
  {
   "cell_type": "code",
   "execution_count": 29,
   "metadata": {},
   "outputs": [
    {
     "data": {
      "image/png": "[encoded data removed]",
      "text/plain": [
       "<Figure size 1080x432 with 1 Axes>"
      ]
     },
     "metadata": {
      "needs_background": "light"
     },
     "output_type": "display_data"
    }
   ],
   "source": [
    "fig, ax = plt.subplots(figsize=(15, 6))\n",
    "ax.axes.get_yaxis().set_visible(False)\n",
    "\n",
    "x = np.arange(len(olm_bands))\n",
    "\n",
    "width = 0.25\n",
    "\n",
    "#bar sand\n",
    "rect1 = ax.bar(x - width, \n",
    "    [round(100 * profile_sand[b], 2) for b in olm_bands],\n",
    "    width=width, \n",
    "    label=\"Sand\", \n",
    "    color=\"#e6f647\")\n",
    "#bar clay\n",
    "rect2 = ax.bar(x, \n",
    "    [round(100 * profile_clay[b], 2) for b in olm_bands],\n",
    "    width=width, \n",
    "    label=\"Clay\",\n",
    "    color=\"#495358\")\n",
    "#bar organic matter\n",
    "rect3 = ax.bar(x + width,\n",
    "    [round(100 * profile_orgm[b], 2) for b in olm_bands], \n",
    "    width=width, \n",
    "    label=\"Organic Matter\", \n",
    "    color=\"000000\", \n",
    "    #alpha=0.75, \n",
    "    )\n",
    "\n",
    "def autolabel_soil_prop(rects):\n",
    "    for rect in rects:\n",
    "        height = rect.get_height()\n",
    "        ax.annotate(\"{}\".format(height) + \"%\", \n",
    "            xy=(rect.get_x() + rect.get_width() / 2, height), \n",
    "            xytext=(0, 3), \n",
    "            textcoords=\"offset points\", \n",
    "            ha=\"center\", \n",
    "            va=\"bottom\", \n",
    "            fontsize=10)\n",
    "autolabel_soil_prop(rect1)\n",
    "autolabel_soil_prop(rect2)\n",
    "autolabel_soil_prop(rect3)\n",
    "\n",
    "ax.set_title(\"Properties of the soil at different depths (mass content)\", fontsize=14)\n",
    "\n",
    "ax.set_xticks(x)\n",
    "x_labels = [str(d) + \"cm\" for d in olm_depths]\n",
    "ax.set_xticklabels(x_labels, fontsize=10)\n",
    "\n",
    "ax.spines[\"left\"].set_visible(False)\n",
    "ax.spines[\"right\"].set_visible(False)\n",
    "ax.spines[\"top\"].set_visible(False)\n",
    "\n",
    "box = ax.get_position()\n",
    "ax.set_position([box.x0, box.y0 + box.height * 0.1, box.width, box.height * 0.9])\n",
    "\n",
    "ax.legend(loc=\"upper center\", \n",
    "    bbox_to_anchor=(0.5, -0.15), \n",
    "    fancybox=True,\n",
    "    shadow=True, \n",
    "    ncol = 3)\n",
    "\n",
    "plt.show()"
   ]
  },
  {
   "cell_type": "markdown",
   "metadata": {},
   "source": [
    "## Calculating the wilting point and field capacity\n",
    "\n",
    "Applying the mathematical expression"
   ]
  },
  {
   "cell_type": "code",
   "execution_count": 33,
   "metadata": {},
   "outputs": [],
   "source": [
    "wilting_point = ee.Image(0)\n",
    "field_capacity = ee.Image(0)\n",
    "\n",
    "for key in olm_bands:\n",
    "    si = sand.select(key)\n",
    "    ci = clay.select(key)\n",
    "    oi = orgm.select(key)\n",
    "\n",
    "    #calculate wilting point at band i\n",
    "    theta_1500ti = (\n",
    "        ee.Image(0).expression(\n",
    "            \"-0.024 * S + 0.487 * C + 0.006 * OM + 0.005 * (S * OM) - 0.013 * (C * OM) + 0.068 * (S * C) + 0.031\", \n",
    "            {\"S\": si, \"C\": ci, \"OM\": oi}\n",
    "        ).rename(\"T1500ti\")\n",
    "    )\n",
    "\n",
    "    wpi = theta_1500ti.expression(\n",
    "        \"T1500ti + (0.14 * T1500ti - 0.002)\", \n",
    "        {\"T1500ti\": theta_1500ti}\n",
    "    ).rename(\"wpi\")\n",
    "\n",
    "    wilting_point = wilting_point.addBands(wpi.rename(key).float())\n",
    "\n",
    "    #calculate field capacity at band i\n",
    "    theta_33ti = (\n",
    "        ee.Image(0).expression(\n",
    "            \"-0.251 * S + 0.195 * C + 0.011 * OM + 0.006 * (S * OM) - 0.027 * (C * OM) + 0.452 * (S * C) + 0.299\", \n",
    "            {\"S\": si, \"C\": ci, \"OM\": oi}\n",
    "        ).rename(\"T33ti\")\n",
    "    )\n",
    "\n",
    "    fci = theta_33ti.expression(\n",
    "        \"T33ti + (1.283 * T33ti * T33ti - 0.374 * T33ti - 0.015\", \n",
    "        {\"T33ti\": theta_33ti.select(\"T33ti\")}\n",
    "    )\n",
    "\n",
    "    field_capacity = field_capacity.addBands(fci.rename(key).float())"
   ]
  },
  {
   "cell_type": "code",
   "execution_count": null,
   "metadata": {},
   "outputs": [],
   "source": [
    "#fazer o bar plot com o wilting point e field capacity igual \n",
    "#fez com o sand, clay e om"
   ]
  },
  {
   "cell_type": "markdown",
   "metadata": {},
   "source": [
    "## Meteorological Data\n",
    "\n",
    "* [CHIRPS Daily: Climate Hazards Group InfraRed Precipitation With Station Data (Version 2.0 Final)](https://developers.google.com/earth-engine/datasets/catalog/UCSB-CHG_CHIRPS_DAILY)\n",
    "* [MOD16A2.006: Terra Net Evapotranspiration 8-Day Global 500m](https://developers.google.com/earth-engine/datasets/catalog/MODIS_006_MOD16A2)"
   ]
  },
  {
   "cell_type": "code",
   "execution_count": 35,
   "metadata": {},
   "outputs": [],
   "source": [
    "#getting precipitation data\n",
    "pr = (\n",
    "    ee.ImageCollection(\"UCSB-CHG/CHIRPS/DAILY\")\n",
    "    .select(\"precipitation\").filterDate(i_date, f_date)\n",
    ")\n",
    "\n",
    "#getting potential evaporation data and its quality indicator\n",
    "pet = (\n",
    "    ee.ImageCollection(\"MODIS/006/MOD16A2\")\n",
    "    .select([\"PET\", \"ET_QC\"]).filterDate(i_date, f_date)\n",
    ")"
   ]
  },
  {
   "cell_type": "markdown",
   "metadata": {},
   "source": [
    "precipitation"
   ]
  },
  {
   "cell_type": "code",
   "execution_count": 38,
   "metadata": {},
   "outputs": [
    {
     "name": "stdout",
     "output_type": "stream",
     "text": [
      "[['id', 'longitude', 'latitude', 'time', 'precipitation'],\n",
      " ['20120101',\n",
      "  -45.68382377389827,\n",
      "  -23.100177531133497,\n",
      "  1325376000000,\n",
      "  33.581546783447266],\n",
      " ['20120102', -45.68382377389827, -23.100177531133497, 1325462400000, 0],\n",
      " ['20120103', -45.68382377389827, -23.100177531133497, 1325548800000, 0],\n",
      " ['20120104', -45.68382377389827, -23.100177531133497, 1325635200000, 0]]\n"
     ]
    }
   ],
   "source": [
    "local_pr = pr.getRegion(poi, scale).getInfo()\n",
    "pprint.pprint(local_pr[:5])"
   ]
  },
  {
   "cell_type": "code",
   "execution_count": 39,
   "metadata": {},
   "outputs": [
    {
     "data": {
      "text/html": [
       "<div>\n",
       "<style scoped>\n",
       "    .dataframe tbody tr th:only-of-type {\n",
       "        vertical-align: middle;\n",
       "    }\n",
       "\n",
       "    .dataframe tbody tr th {\n",
       "        vertical-align: top;\n",
       "    }\n",
       "\n",
       "    .dataframe thead th {\n",
       "        text-align: right;\n",
       "    }\n",
       "</style>\n",
       "<table border=\"1\" class=\"dataframe\">\n",
       "  <thead>\n",
       "    <tr style=\"text-align: right;\">\n",
       "      <th></th>\n",
       "      <th>time</th>\n",
       "      <th>precipitation</th>\n",
       "    </tr>\n",
       "    <tr>\n",
       "      <th>datetime</th>\n",
       "      <th></th>\n",
       "      <th></th>\n",
       "    </tr>\n",
       "  </thead>\n",
       "  <tbody>\n",
       "    <tr>\n",
       "      <th>2012-01-01</th>\n",
       "      <td>1325376000000</td>\n",
       "      <td>33.581547</td>\n",
       "    </tr>\n",
       "    <tr>\n",
       "      <th>2012-01-02</th>\n",
       "      <td>1325462400000</td>\n",
       "      <td>0.000000</td>\n",
       "    </tr>\n",
       "    <tr>\n",
       "      <th>2012-01-03</th>\n",
       "      <td>1325548800000</td>\n",
       "      <td>0.000000</td>\n",
       "    </tr>\n",
       "    <tr>\n",
       "      <th>2012-01-04</th>\n",
       "      <td>1325635200000</td>\n",
       "      <td>0.000000</td>\n",
       "    </tr>\n",
       "    <tr>\n",
       "      <th>2012-01-05</th>\n",
       "      <td>1325721600000</td>\n",
       "      <td>5.596924</td>\n",
       "    </tr>\n",
       "  </tbody>\n",
       "</table>\n",
       "</div>"
      ],
      "text/plain": [
       "0                    time  precipitation\n",
       "datetime                                \n",
       "2012-01-01  1325376000000      33.581547\n",
       "2012-01-02  1325462400000       0.000000\n",
       "2012-01-03  1325548800000       0.000000\n",
       "2012-01-04  1325635200000       0.000000\n",
       "2012-01-05  1325721600000       5.596924"
      ]
     },
     "execution_count": 39,
     "metadata": {},
     "output_type": "execute_result"
    }
   ],
   "source": [
    "#df precipitation\n",
    "pr_df = pd.DataFrame(local_pr)\n",
    "headers = pr_df.iloc[0]\n",
    "pr_df = pd.DataFrame(pr_df.values[1:], columns=headers)\n",
    "\n",
    "#pr data to numeric\n",
    "pr_df[\"precipitation\"] = pd.to_numeric(pr_df[\"precipitation\"], errors=\"coerce\")\n",
    "\n",
    "#time field to datetime\n",
    "pr_df[\"datetime\"] = pd.to_datetime(pr_df[\"time\"], unit=\"ms\")\n",
    "\n",
    "#cleaning\n",
    "pr_df = pr_df[[\"time\", \"datetime\", \"precipitation\"]]\n",
    "pr_df = pr_df.set_index(\"datetime\")\n",
    "\n",
    "#vizualizing\n",
    "pr_df.head()"
   ]
  },
  {
   "cell_type": "markdown",
   "metadata": {},
   "source": [
    "doing the same for potential evaporation. Note the data is not daily as precipitation. It is 8 day average as described in the metadata."
   ]
  },
  {
   "cell_type": "code",
   "execution_count": 40,
   "metadata": {},
   "outputs": [
    {
     "data": {
      "text/html": [
       "<div>\n",
       "<style scoped>\n",
       "    .dataframe tbody tr th:only-of-type {\n",
       "        vertical-align: middle;\n",
       "    }\n",
       "\n",
       "    .dataframe tbody tr th {\n",
       "        vertical-align: top;\n",
       "    }\n",
       "\n",
       "    .dataframe thead th {\n",
       "        text-align: right;\n",
       "    }\n",
       "</style>\n",
       "<table border=\"1\" class=\"dataframe\">\n",
       "  <thead>\n",
       "    <tr style=\"text-align: right;\">\n",
       "      <th></th>\n",
       "      <th>time</th>\n",
       "      <th>PET</th>\n",
       "      <th>ET_QC</th>\n",
       "    </tr>\n",
       "    <tr>\n",
       "      <th>datetime</th>\n",
       "      <th></th>\n",
       "      <th></th>\n",
       "      <th></th>\n",
       "    </tr>\n",
       "  </thead>\n",
       "  <tbody>\n",
       "    <tr>\n",
       "      <th>2012-01-01</th>\n",
       "      <td>1325376000000</td>\n",
       "      <td>504.0</td>\n",
       "      <td>157</td>\n",
       "    </tr>\n",
       "    <tr>\n",
       "      <th>2012-01-09</th>\n",
       "      <td>1326067200000</td>\n",
       "      <td>NaN</td>\n",
       "      <td>157</td>\n",
       "    </tr>\n",
       "    <tr>\n",
       "      <th>2012-01-17</th>\n",
       "      <td>1326758400000</td>\n",
       "      <td>NaN</td>\n",
       "      <td>157</td>\n",
       "    </tr>\n",
       "    <tr>\n",
       "      <th>2012-01-25</th>\n",
       "      <td>1327449600000</td>\n",
       "      <td>461.0</td>\n",
       "      <td>157</td>\n",
       "    </tr>\n",
       "    <tr>\n",
       "      <th>2012-02-02</th>\n",
       "      <td>1328140800000</td>\n",
       "      <td>649.0</td>\n",
       "      <td>157</td>\n",
       "    </tr>\n",
       "  </tbody>\n",
       "</table>\n",
       "</div>"
      ],
      "text/plain": [
       "0                    time    PET  ET_QC\n",
       "datetime                               \n",
       "2012-01-01  1325376000000  504.0    157\n",
       "2012-01-09  1326067200000    NaN    157\n",
       "2012-01-17  1326758400000    NaN    157\n",
       "2012-01-25  1327449600000  461.0    157\n",
       "2012-02-02  1328140800000  649.0    157"
      ]
     },
     "execution_count": 40,
     "metadata": {},
     "output_type": "execute_result"
    }
   ],
   "source": [
    "#potential evaporation data\n",
    "local_pet = pet.getRegion(poi, scale).getInfo()\n",
    "pet_df = pd.DataFrame(local_pet)\n",
    "headers = pet_df.iloc[0]\n",
    "pet_df = pd.DataFrame(pet_df.values[1:], columns=headers)\n",
    "\n",
    "#pet data to numeric\n",
    "for band in [\"PET\", \"ET_QC\"]:\n",
    "    pet_df[band] = pd.to_numeric(pet_df[band], errors=\"coerce\")\n",
    "\n",
    "#time to datetime\n",
    "pet_df[\"datetime\"] = pd.to_datetime(pet_df[\"time\"], unit=\"ms\")\n",
    "\n",
    "#cleaning\n",
    "pet_df = pet_df[[\"time\", \"datetime\", \"PET\", \"ET_QC\"]]\n",
    "pet_df = pet_df.set_index(\"datetime\")\n",
    "\n",
    "#vizualizing\n",
    "pet_df.head()"
   ]
  },
  {
   "cell_type": "markdown",
   "metadata": {},
   "source": [
    "Because the two datasets do not have the same timeline is necessary to resampling the time resolution to get a homogeneous time index and missing values. It will be achieved by resampling both datasets by month."
   ]
  },
  {
   "cell_type": "code",
   "execution_count": 41,
   "metadata": {},
   "outputs": [],
   "source": [
    "#this function is a code of Guillaume Attard. \n",
    "#Source: https://gist.github.com/guiattard/dc11243474d20c973d31cecb23524831#file-pfg6-meteo-6-py\n",
    "\n",
    "def sum_resampler(coll, freq, unit, scale_factor, band_name):\n",
    "    \"\"\"\n",
    "    This function aims to resample the time scale of an ee.ImageCollection.\n",
    "    The function returns an ee.ImageCollection with the averaged sum of the\n",
    "    band on the selected frequency.\n",
    "    coll: (ee.ImageCollection) only one band can be handled\n",
    "    freq: (int) corresponds to the resampling frequence\n",
    "    unit: (str) corresponds to the resampling time unit.\n",
    "                must be 'day', 'month' or 'year'\n",
    "    scale_factor (float): scaling factor used to get our value in the good unit\n",
    "    band_name (str) name of the output band\n",
    "    \"\"\"\n",
    "\n",
    "    # Define initial and final dates of the collection.\n",
    "    firstdate = ee.Date(\n",
    "        coll.sort(\"system:time_start\", True).first().get(\"system:time_start\")\n",
    "    )\n",
    "\n",
    "    lastdate = ee.Date(\n",
    "        coll.sort(\"system:time_start\", False).first().get(\"system:time_start\")\n",
    "    )\n",
    "\n",
    "    # Calculate the time difference between both dates.\n",
    "    # https://developers.google.com/earth-engine/apidocs/ee-date-difference\n",
    "    diff_dates = lastdate.difference(firstdate, unit)\n",
    "\n",
    "    # Define a new time index (for output).\n",
    "    new_index = ee.List.sequence(0, ee.Number(diff_dates), freq)\n",
    "\n",
    "    # Define the function that will be applied to our new time index.\n",
    "    def apply_resampling(date_index):\n",
    "        # Define the starting date to take into account.\n",
    "        startdate = firstdate.advance(ee.Number(date_index), unit)\n",
    "\n",
    "        # Define the ending date to take into account according\n",
    "        # to the desired frequency.\n",
    "        enddate = firstdate.advance(ee.Number(date_index).add(freq), unit)\n",
    "\n",
    "        # Calculate the number of days between starting and ending days.\n",
    "        diff_days = enddate.difference(startdate, \"day\")\n",
    "\n",
    "        # Calculate the composite image.\n",
    "        image = (\n",
    "            coll.filterDate(startdate, enddate)\n",
    "            .mean()\n",
    "            .multiply(diff_days)\n",
    "            .multiply(scale_factor)\n",
    "            .rename(band_name)\n",
    "        )\n",
    "\n",
    "        # Return the final image with the appropriate time index.\n",
    "        return image.set(\"system:time_start\", startdate.millis())\n",
    "\n",
    "    # Map the function to the new time index.\n",
    "    res = new_index.map(apply_resampling)\n",
    "\n",
    "    # Transform the result into an ee.ImageCollection.\n",
    "    res = ee.ImageCollection(res)\n",
    "\n",
    "    return res"
   ]
  },
  {
   "cell_type": "markdown",
   "metadata": {},
   "source": [
    "For evapotranspiration dataset gives us an 8-day sum and a scale factor of 10 is applied. We need to rescale by dividing by 8 and 10:"
   ]
  },
  {
   "cell_type": "code",
   "execution_count": 42,
   "metadata": {},
   "outputs": [],
   "source": [
    "#resampling precipitation\n",
    "pr_m = sum_resampler(pr, 1, \"month\", 1, \"pr\")\n",
    "\n",
    "#resampling PET\n",
    "pet_m = sum_resampler(pet.select(\"PET\"), 1, \"month\", 0.0125, \"pet\")"
   ]
  },
  {
   "cell_type": "markdown",
   "metadata": {},
   "source": [
    "Combining precipitation and PET datasets and vizualizing for the area of interest."
   ]
  },
  {
   "cell_type": "code",
   "execution_count": 44,
   "metadata": {},
   "outputs": [
    {
     "data": {
      "text/html": [
       "<div>\n",
       "<style scoped>\n",
       "    .dataframe tbody tr th:only-of-type {\n",
       "        vertical-align: middle;\n",
       "    }\n",
       "\n",
       "    .dataframe tbody tr th {\n",
       "        vertical-align: top;\n",
       "    }\n",
       "\n",
       "    .dataframe thead th {\n",
       "        text-align: right;\n",
       "    }\n",
       "</style>\n",
       "<table border=\"1\" class=\"dataframe\">\n",
       "  <thead>\n",
       "    <tr style=\"text-align: right;\">\n",
       "      <th></th>\n",
       "      <th>time</th>\n",
       "      <th>pr</th>\n",
       "      <th>pet</th>\n",
       "    </tr>\n",
       "    <tr>\n",
       "      <th>datetime</th>\n",
       "      <th></th>\n",
       "      <th></th>\n",
       "      <th></th>\n",
       "    </tr>\n",
       "  </thead>\n",
       "  <tbody>\n",
       "    <tr>\n",
       "      <th>2012-01-01</th>\n",
       "      <td>1325376000000</td>\n",
       "      <td>276.223151</td>\n",
       "      <td>186.968750</td>\n",
       "    </tr>\n",
       "    <tr>\n",
       "      <th>2012-02-01</th>\n",
       "      <td>1328054400000</td>\n",
       "      <td>131.258315</td>\n",
       "      <td>197.804167</td>\n",
       "    </tr>\n",
       "    <tr>\n",
       "      <th>2012-03-01</th>\n",
       "      <td>1330560000000</td>\n",
       "      <td>113.144179</td>\n",
       "      <td>170.112500</td>\n",
       "    </tr>\n",
       "    <tr>\n",
       "      <th>2012-04-01</th>\n",
       "      <td>1333238400000</td>\n",
       "      <td>104.058466</td>\n",
       "      <td>126.375000</td>\n",
       "    </tr>\n",
       "    <tr>\n",
       "      <th>2012-05-01</th>\n",
       "      <td>1335830400000</td>\n",
       "      <td>61.901220</td>\n",
       "      <td>101.525000</td>\n",
       "    </tr>\n",
       "  </tbody>\n",
       "</table>\n",
       "</div>"
      ],
      "text/plain": [
       "0                    time          pr         pet\n",
       "datetime                                         \n",
       "2012-01-01  1325376000000  276.223151  186.968750\n",
       "2012-02-01  1328054400000  131.258315  197.804167\n",
       "2012-03-01  1330560000000  113.144179  170.112500\n",
       "2012-04-01  1333238400000  104.058466  126.375000\n",
       "2012-05-01  1335830400000   61.901220  101.525000"
      ]
     },
     "execution_count": 44,
     "metadata": {},
     "output_type": "execute_result"
    }
   ],
   "source": [
    "meteo = pr_m.combine(pet_m)\n",
    "meteo_arr = meteo.getRegion(poi, scale).getInfo()\n",
    "\n",
    "#meteo dataframe\n",
    "meteo_df = pd.DataFrame(meteo_arr)\n",
    "headers = meteo_df.iloc[0]\n",
    "meteo_df = pd.DataFrame(meteo_df.values[1:], columns=headers)\n",
    "\n",
    "#meteo data to numeric\n",
    "for band in [\"pr\", \"pet\"]:\n",
    "    meteo_df[band] = pd.to_numeric(meteo_df[band], errors=\"coerce\")\n",
    "\n",
    "#time field to datetime\n",
    "meteo_df[\"datetime\"] = pd.to_datetime(meteo_df[\"time\"], unit=\"ms\")\n",
    "\n",
    "#cleaning\n",
    "meteo_df = meteo_df[[\"time\", \"datetime\", \"pr\", \"pet\"]]\n",
    "meteo_df = meteo_df.set_index(\"datetime\")\n",
    "meteo_df = meteo_df.sort_index()\n",
    "\n",
    "#vizualizing\n",
    "meteo_df.head()"
   ]
  },
  {
   "cell_type": "markdown",
   "metadata": {},
   "source": [
    "Note that the above table has the monthly pr and pet data for the area of interest."
   ]
  },
  {
   "cell_type": "code",
   "execution_count": 48,
   "metadata": {},
   "outputs": [
    {
     "data": {
      "image/png": "[encoded data removed]",
      "text/plain": [
       "<Figure size 1080x432 with 1 Axes>"
      ]
     },
     "metadata": {
      "needs_background": "light"
     },
     "output_type": "display_data"
    }
   ],
   "source": [
    "#data vizualization\n",
    "fig, ax = plt.subplots(figsize=(15, 6))\n",
    "meteo_df[\"pr\"].plot(kind=\"bar\", ax=ax, label=\"precipitation\")\n",
    "meteo_df[\"pet\"].plot(kind=\"bar\", ax=ax, label=\"potential evapotranspiration\",\n",
    "    color=\"orange\",\n",
    "    alpha=0.5, \n",
    "    )\n",
    "\n",
    "ax.legend()\n",
    "ax.set_ylabel(\"Intensity in $ mm $\")\n",
    "ax.set_xlabel(None)\n",
    "\n",
    "x_labels = meteo_df.index.strftime(\"%m-%Y\")\n",
    "ax.set_xticklabels(x_labels, rotation=90, fontsize=10)\n",
    "\n",
    "plt.show()"
   ]
  },
  {
   "cell_type": "markdown",
   "metadata": {},
   "source": [
    "## TM Procedure"
   ]
  },
  {
   "cell_type": "code",
   "execution_count": null,
   "metadata": {},
   "outputs": [],
   "source": []
  },
  {
   "cell_type": "markdown",
   "metadata": {},
   "source": [
    "## References\n",
    "\n",
    "## Data\n",
    "Funk, Chris, Pete Peterson, Martin Landsfeld, Diego Pedreros, James Verdin, Shraddhanand Shukla, Gregory Husak, James Rowland, Laura Harrison, Andrew Hoell & Joel Michaelsen. \"The climate hazards infrared precipitation with stations—a new environmental record for monitoring extremes\". Scientific Data 2, 150066. [doi:10.1038/sdata.2015.66](https://www.nature.com/articles/sdata201566) 2015.\n",
    "\n",
    "Running, S., Mu, Q., Zhao, M. (2017). MOD16A2 MODIS/Terra Net Evapotranspiration 8-Day L4 Global 500m SIN Grid V006 [Data set]. NASA EOSDIS Land Processes DAAC. Accessed 2022-06-19 from [doi.org/10.5067/MODIS/MOD16A2.006](https://lpdaac.usgs.gov/products/mod16a2v006/)\n",
    "\n",
    "Tomislav Hengl. (2018). Sand content in % (kg / kg) at 6 standard depths (0, 10, 30, 60, 100 and 200 cm) at 250 m resolution (Version v02) [Data set]. [doi.org/10.5281/zenodo.1476851](https://zenodo.org/record/2525662#.Yq-s3_3MKUk)\n",
    "\n",
    "Tomislav Hengl. (2018). Clay content in % (kg / kg) at 6 standard depths (0, 10, 30, 60, 100 and 200 cm) at 250 m resolution (Version v02) [Data set]. [doi.org/10.5281/zenodo.1476854](https://zenodo.org/record/2525663#.Yq-tHv3MKUk)\n",
    "\n",
    "Tomislav Hengl, & Ichsani Wheeler. (2018). Soil organic carbon content in x 5 g / kg at 6 standard depths (0, 10, 30, 60, 100 and 200 cm) at 250 m resolution (Version v02) [Data set]. Zenodo. [doi.org/10.5281/zenodo.1475457](https://zenodo.org/record/2525553#.Yq-tRP3MKUk)"
   ]
  }
 ],
 "metadata": {
  "kernelspec": {
   "display_name": "Python 3.6.5 ('py365')",
   "language": "python",
   "name": "python3"
  },
  "language_info": {
   "codemirror_mode": {
    "name": "ipython",
    "version": 3
   },
   "file_extension": ".py",
   "mimetype": "text/x-python",
   "name": "python",
   "nbconvert_exporter": "python",
   "pygments_lexer": "ipython3",
   "version": "3.6.5"
  },
  "orig_nbformat": 4,
  "vscode": {
   "interpreter": {
    "hash": "2e18d05a840552a235eedfec20eb44b4a6cb0908c22b7ac8e899476b45cf34ce"
   }
  }
 },
 "nbformat": 4,
 "nbformat_minor": 2
}

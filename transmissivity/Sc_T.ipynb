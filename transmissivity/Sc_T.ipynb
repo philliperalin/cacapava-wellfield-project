{
 "cells": [
  {
   "cell_type": "markdown",
   "metadata": {},
   "source": [
    "# Estimating Transmissivity Using Specific Capacity Data\n",
    "\n",
    "This notebook have the objective to estimate transmissivity from the Caçapava - SP well data. This will achieved by relating the available Specific Capacity data to transmissivity. After that the results of transmissivity estimates will be compared with the results from Iritani, 1999.\n",
    "\n",
    "---\n",
    "\n",
    "According to Mace [2001] three approach can be used to estimate transmissivity from specific capacity data:\n",
    "* Analytical techniques\n",
    "* Empirical techniques\n",
    "* Geostatistical techniques\n",
    "\n",
    "Analytical approach is not possible to use due the lack of storativity estimates/values. The estimates from Iritani Thesis is not feasible (Iritani, 1999). According to Mace [2001] the use of empirical techniques are <span style=\"color:red\">(mais confiável para arbonates aquifers)</span> and for clastic aquifers the analytical approach is a better choice.\n",
    "\n",
    "Analytical approach one should to coorect for partial-penetration effects and turbulent well loss. If the pumping rate is less than 600 gpm (136.27 $m^3 / h$) then the well losses due turbulent flow can be ignored.\n",
    "\n",
    "PASTE For unconfined aquifers, correcting for\n",
    "decreased saturated thickness might be necessary\n",
    "(equation 76).\n",
    "\n",
    "PASTE If the purpose of the data is to develop an interpolated map of transmissivity, then the geostatistical\n",
    "approach should be considered. The choice of geostatistical approach, kriging with linear regression or\n",
    "cokriging, depends on the number of transmissivity and\n",
    "specific-eapacity pairs. If there are more than 50 transmissivity and specific-capacity pairs, then cokriging may\n",
    "offer better results. If there are fewer than 50 pairs, then\n",
    "kriging with linear regression might be better.\n",
    "\n",
    "PASTE Before a decision to use the geostatistical approach\n",
    "is made, the first step is to determine whether there are\n",
    "enough transmissivity and specific capacity values for\n",
    "the analysis. Generally the limitation will be the number\n",
    "of transmissivity values because these values are rarer\n",
    "than specific-capacity values. For kriging with linear\n",
    "regression, there need to be \n",
    "* (1) enough transmissivity and\n",
    "specific-capacity pairs to define a linear relationship\n",
    "between transmissivity and specific capacity (similar to\n",
    "the empirical approach) with a high correlation coefficient and uncorrelated residuals and \n",
    "* (2) enough\n",
    "specific-capacity values and measured values of\n",
    "transmissivity to define a semivariogram for each."
   ]
  },
  {
   "cell_type": "markdown",
   "metadata": {},
   "source": [
    "## Specific Capacity\n",
    "\n",
    "Specific capacity is defined as well production per unit decline in head:\n",
    "\n",
    "$S_c = \\frac{Q}{s_w}$\n",
    "\n",
    "where $Q$ is the pumping rate [$L^3$ e $t^-1$] and $S_w$ is the\n",
    "measured drawdown (change in hydraulic head) in the well [$L$]. Note that the specific capacity has the same units as transmissivity.\n",
    "\n",
    "Specific capacity is a function of:\n",
    "* aquifer setting\n",
    "  - transmissivity \n",
    "  - storativity\n",
    "  - aquifer type\n",
    "* well setting\n",
    "  - well radius\n",
    "  - degree of penetration\n",
    "  - well losses due to well construction \n",
    "* pumping duration"
   ]
  },
  {
   "cell_type": "markdown",
   "metadata": {},
   "source": [
    "## Empirical Method\n",
    "PASTE Razack and Huntley (1991) found that the analytical\n",
    "relationships (Thomasson and others, 1960; Theis and\n",
    "others, 1963) uncorrected for well loss did not always\n",
    "agree with measured values of transmissivity and that\n",
    "empirical relationships produced less error than did\n",
    "analytical solutions. The relationship is generally defined\n",
    "between log-transformed values of transmissivity and\n",
    "log-transformed values of specific capacity because\n",
    "transmissivity and specific capacity are generally\n",
    "lognormally distributed and, in this case, using log-log\n",
    "relationships results in correlation coefficients that are better than those resulting from using untransformed\n",
    "values (see, for example, Razack and Huntley, 1991;\n",
    "EI-Naqa, 1994).\n",
    "\n",
    "PASTE\n",
    "The empirical approach involves \n",
    "* (1) compiling\n",
    "all available aquifer-test information for an aquifer,\n",
    "* (2) determining the transmissivity and specific capacity\n",
    "for each of the tests, \n",
    "* (3) using regression to fit a line to\n",
    "the plotted pairs of log transmissivity and log specific\n",
    "capacity, and \n",
    "* (4) calculating the uncertainty in the linear\n",
    "relationship.\n",
    "\n",
    "<span style=\"color:red\">(1) como nao achamos dados de teste de bombeamento iremos usar os resutlados de Iritani que foram obtidos atraves de dados requisitados na SABESP e em empresas privadas . Desta forma os passos (1) e (2) estão concluídos. Apesar de que os resultados de Iritani apresenta o passo (3) este sera refeito neste workflow como exercicio. </span>"
   ]
  },
  {
   "cell_type": "markdown",
   "metadata": {},
   "source": []
  },
  {
   "cell_type": "markdown",
   "metadata": {},
   "source": []
  },
  {
   "cell_type": "code",
   "execution_count": null,
   "metadata": {},
   "outputs": [],
   "source": []
  }
 ],
 "metadata": {
  "language_info": {
   "name": "python"
  },
  "orig_nbformat": 4
 },
 "nbformat": 4,
 "nbformat_minor": 2
}

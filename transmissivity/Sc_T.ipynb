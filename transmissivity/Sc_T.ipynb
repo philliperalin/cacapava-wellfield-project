{
 "cells": [
  {
   "cell_type": "markdown",
   "metadata": {},
   "source": [
    "# Estimating Transmissivity Using Specific Capacity Data\n",
    "\n",
    "This notebook have the objective to estimate transmissivity from the Caçapava - SP well data. This will achieved by relating the available Specific Capacity data to transmissivity. After that the results of transmissivity estimates will be compared with the results from Iritani, 1999.\n",
    "\n",
    "---\n",
    "\n",
    "According to Mace [2001] three approach can be used to estimate transmissivity from specific capacity data:\n",
    "* Analytical techniques\n",
    "* Empirical techniques\n",
    "* Geostatistical techniques\n",
    "\n",
    "Analytical approach is not possible to use due the lack of storativity estimates/values. The estimates from Iritani Thesis is not feasible (Iritani, 1999). According to Mace [2001] the use of empirical techniques are more appropiated in carbonate aquifers and for clastic aquifers the analytical approach is a better choice.\n",
    "\n",
    "If are available transmissivity and specific capacity pairs the best approach is use empirical method, i. e., our case."
   ]
  },
  {
   "cell_type": "markdown",
   "metadata": {},
   "source": [
    "## Specific Capacity\n",
    "\n",
    "Specific capacity is defined as well production per unit decline in head:\n",
    "\n",
    "$S_c = \\frac{Q}{s_w}$\n",
    "\n",
    "where $Q$ is the pumping rate [$L^3$ e $t^-1$] and $S_w$ is the\n",
    "measured drawdown (change in hydraulic head) in the well [$L$]. Note that the specific capacity has the same units as transmissivity.\n",
    "\n",
    "Specific capacity is a function of:\n",
    "* aquifer setting\n",
    "  - transmissivity \n",
    "  - storativity\n",
    "  - aquifer type\n",
    "* well setting\n",
    "  - well radius\n",
    "  - degree of penetration\n",
    "  - well losses due to well construction \n",
    "* pumping duration"
   ]
  },
  {
   "cell_type": "markdown",
   "metadata": {},
   "source": [
    "## Empirical Method\n",
    "PASTE Razack and Huntley (1991) found that the analytical\n",
    "relationships (Thomasson and others, 1960; Theis and\n",
    "others, 1963) uncorrected for well loss did not always\n",
    "agree with measured values of transmissivity and that\n",
    "empirical relationships produced less error than did\n",
    "analytical solutions. The relationship is generally defined\n",
    "between log-transformed values of transmissivity and\n",
    "log-transformed values of specific capacity because\n",
    "transmissivity and specific capacity are generally\n",
    "lognormally distributed and, in this case, using log-log\n",
    "relationships results in correlation coefficients that are better than those resulting from using untransformed\n",
    "values (see, for example, Razack and Huntley, 1991;\n",
    "EI-Naqa, 1994).\n",
    "\n",
    "PASTE\n",
    "The empirical approach involves \n",
    "* (1) compiling\n",
    "all available aquifer-test information for an aquifer,\n",
    "* (2) determining the transmissivity and specific capacity\n",
    "for each of the tests, \n",
    "* (3) using regression to fit a line to\n",
    "the plotted pairs of log transmissivity and log specific\n",
    "capacity, and \n",
    "* (4) calculating the uncertainty in the linear\n",
    "relationship.\n"
   ]
  },
  {
   "cell_type": "markdown",
   "metadata": {},
   "source": [
    "### Step 1 and 2\n",
    "As the available well data for the region of Caçapava do not have the information of drawdown x time, these first steps are get from the Iritani, 1999. Below are the few data results (adapted) obtained:"
   ]
  },
  {
   "cell_type": "code",
   "execution_count": 1,
   "metadata": {},
   "outputs": [
    {
     "data": {
      "text/html": [
       "<div>\n",
       "<style scoped>\n",
       "    .dataframe tbody tr th:only-of-type {\n",
       "        vertical-align: middle;\n",
       "    }\n",
       "\n",
       "    .dataframe tbody tr th {\n",
       "        vertical-align: top;\n",
       "    }\n",
       "\n",
       "    .dataframe thead th {\n",
       "        text-align: right;\n",
       "    }\n",
       "</style>\n",
       "<table border=\"1\" class=\"dataframe\">\n",
       "  <thead>\n",
       "    <tr style=\"text-align: right;\">\n",
       "      <th></th>\n",
       "      <th>poco</th>\n",
       "      <th>utm_e</th>\n",
       "      <th>utm_n</th>\n",
       "      <th>prof</th>\n",
       "      <th>ne</th>\n",
       "      <th>nd</th>\n",
       "      <th>dd</th>\n",
       "      <th>vazao</th>\n",
       "      <th>qs</th>\n",
       "      <th>rate_wtp</th>\n",
       "      <th>CJ_T</th>\n",
       "      <th>Theis_T</th>\n",
       "      <th>Neu_T</th>\n",
       "    </tr>\n",
       "  </thead>\n",
       "  <tbody>\n",
       "    <tr>\n",
       "      <th>0</th>\n",
       "      <td>PA1</td>\n",
       "      <td>429350</td>\n",
       "      <td>7445220</td>\n",
       "      <td>165.0</td>\n",
       "      <td>14.7</td>\n",
       "      <td>36.7</td>\n",
       "      <td>22.0</td>\n",
       "      <td>144.0</td>\n",
       "      <td>6.55</td>\n",
       "      <td>0.040000</td>\n",
       "      <td>0.00300</td>\n",
       "      <td>0.00290</td>\n",
       "      <td>0.00120</td>\n",
       "    </tr>\n",
       "    <tr>\n",
       "      <th>1</th>\n",
       "      <td>PA10</td>\n",
       "      <td>426780</td>\n",
       "      <td>7443360</td>\n",
       "      <td>100.0</td>\n",
       "      <td>53.5</td>\n",
       "      <td>60.4</td>\n",
       "      <td>6.9</td>\n",
       "      <td>13.0</td>\n",
       "      <td>1.88</td>\n",
       "      <td>0.003611</td>\n",
       "      <td>0.00130</td>\n",
       "      <td>0.00059</td>\n",
       "      <td>0.00017</td>\n",
       "    </tr>\n",
       "    <tr>\n",
       "      <th>2</th>\n",
       "      <td>PA11</td>\n",
       "      <td>422710</td>\n",
       "      <td>7441630</td>\n",
       "      <td>167.0</td>\n",
       "      <td>43.3</td>\n",
       "      <td>62.1</td>\n",
       "      <td>18.8</td>\n",
       "      <td>82.2</td>\n",
       "      <td>4.37</td>\n",
       "      <td>0.022833</td>\n",
       "      <td>0.00120</td>\n",
       "      <td>0.00120</td>\n",
       "      <td>0.00056</td>\n",
       "    </tr>\n",
       "    <tr>\n",
       "      <th>3</th>\n",
       "      <td>PA12</td>\n",
       "      <td>423050</td>\n",
       "      <td>7441730</td>\n",
       "      <td>166.0</td>\n",
       "      <td>44.4</td>\n",
       "      <td>55.0</td>\n",
       "      <td>10.6</td>\n",
       "      <td>86.5</td>\n",
       "      <td>8.16</td>\n",
       "      <td>0.024028</td>\n",
       "      <td>0.00270</td>\n",
       "      <td>0.00270</td>\n",
       "      <td>NaN</td>\n",
       "    </tr>\n",
       "    <tr>\n",
       "      <th>4</th>\n",
       "      <td>PA13</td>\n",
       "      <td>424880</td>\n",
       "      <td>7444950</td>\n",
       "      <td>60.0</td>\n",
       "      <td>3.7</td>\n",
       "      <td>9.4</td>\n",
       "      <td>5.7</td>\n",
       "      <td>9.9</td>\n",
       "      <td>1.72</td>\n",
       "      <td>0.002750</td>\n",
       "      <td>0.00084</td>\n",
       "      <td>0.00057</td>\n",
       "      <td>0.00020</td>\n",
       "    </tr>\n",
       "  </tbody>\n",
       "</table>\n",
       "</div>"
      ],
      "text/plain": [
       "   poco   utm_e    utm_n   prof    ne    nd    dd  vazao    qs  rate_wtp  \\\n",
       "0   PA1  429350  7445220  165.0  14.7  36.7  22.0  144.0  6.55  0.040000   \n",
       "1  PA10  426780  7443360  100.0  53.5  60.4   6.9   13.0  1.88  0.003611   \n",
       "2  PA11  422710  7441630  167.0  43.3  62.1  18.8   82.2  4.37  0.022833   \n",
       "3  PA12  423050  7441730  166.0  44.4  55.0  10.6   86.5  8.16  0.024028   \n",
       "4  PA13  424880  7444950   60.0   3.7   9.4   5.7    9.9  1.72  0.002750   \n",
       "\n",
       "      CJ_T  Theis_T    Neu_T  \n",
       "0  0.00300  0.00290  0.00120  \n",
       "1  0.00130  0.00059  0.00017  \n",
       "2  0.00120  0.00120  0.00056  \n",
       "3  0.00270  0.00270      NaN  \n",
       "4  0.00084  0.00057  0.00020  "
      ]
     },
     "execution_count": 1,
     "metadata": {},
     "output_type": "execute_result"
    }
   ],
   "source": [
    "import pandas as pd\n",
    "df = pd.read_csv('../data/IRITANI-data.csv')\n",
    "df.head()"
   ]
  },
  {
   "cell_type": "markdown",
   "metadata": {},
   "source": [
    "Where\n",
    "- ```poco``` - well ID\n",
    "- ```utm_e``` and ```utm_n``` - coordinates in meters\n",
    "- ```prof``` - depth of the well in meters\n",
    "- ```ne``` and ```nd``` - static water level and dynamic level in meters\n",
    "- ```dd``` - drawdown in meters\n",
    "- ```vazao``` - discharge in the aquifer test in cubic meters per hour\n",
    "- ```qs``` - specific capacity in cubic meters per hour per meters\n",
    "- ```rate_wtp``` - discharge rate in cubic meters per second to use in the welltestpy\n",
    "- ```CJ_T``` - transmissivity estimate using Cooper-Jacob method in square meters per second\n",
    "- ```Theis_T``` - transmissivity estimate using Theis method in square meters per second\n",
    "- ```Neu_T``` - transmissivity estimate using Neuman method in square meters per second"
   ]
  },
  {
   "cell_type": "markdown",
   "metadata": {},
   "source": [
    "## Step 3\n",
    "Using regression to fit a line to the plotted pairs of log transmissivity and log specific capacity. The transmissivity data used is the obtained through Theis method because according to Iritani [1999] is the best estimates. First step is to do the log transformation:"
   ]
  },
  {
   "cell_type": "code",
   "execution_count": 2,
   "metadata": {},
   "outputs": [
    {
     "data": {
      "text/html": [
       "<div>\n",
       "<style scoped>\n",
       "    .dataframe tbody tr th:only-of-type {\n",
       "        vertical-align: middle;\n",
       "    }\n",
       "\n",
       "    .dataframe tbody tr th {\n",
       "        vertical-align: top;\n",
       "    }\n",
       "\n",
       "    .dataframe thead th {\n",
       "        text-align: right;\n",
       "    }\n",
       "</style>\n",
       "<table border=\"1\" class=\"dataframe\">\n",
       "  <thead>\n",
       "    <tr style=\"text-align: right;\">\n",
       "      <th></th>\n",
       "      <th>poco</th>\n",
       "      <th>utm_e</th>\n",
       "      <th>utm_n</th>\n",
       "      <th>prof</th>\n",
       "      <th>ne</th>\n",
       "      <th>nd</th>\n",
       "      <th>dd</th>\n",
       "      <th>vazao</th>\n",
       "      <th>qs</th>\n",
       "      <th>rate_wtp</th>\n",
       "      <th>CJ_T</th>\n",
       "      <th>Theis_T</th>\n",
       "      <th>Neu_T</th>\n",
       "      <th>log_T</th>\n",
       "      <th>log_Sc</th>\n",
       "    </tr>\n",
       "  </thead>\n",
       "  <tbody>\n",
       "    <tr>\n",
       "      <th>0</th>\n",
       "      <td>PA1</td>\n",
       "      <td>429350</td>\n",
       "      <td>7445220</td>\n",
       "      <td>165.0</td>\n",
       "      <td>14.7</td>\n",
       "      <td>36.7</td>\n",
       "      <td>22.0</td>\n",
       "      <td>144.0</td>\n",
       "      <td>0.001819</td>\n",
       "      <td>0.040000</td>\n",
       "      <td>0.00300</td>\n",
       "      <td>0.00290</td>\n",
       "      <td>0.00120</td>\n",
       "      <td>-5.843045</td>\n",
       "      <td>-6.309224</td>\n",
       "    </tr>\n",
       "    <tr>\n",
       "      <th>1</th>\n",
       "      <td>PA10</td>\n",
       "      <td>426780</td>\n",
       "      <td>7443360</td>\n",
       "      <td>100.0</td>\n",
       "      <td>53.5</td>\n",
       "      <td>60.4</td>\n",
       "      <td>6.9</td>\n",
       "      <td>13.0</td>\n",
       "      <td>0.000522</td>\n",
       "      <td>0.003611</td>\n",
       "      <td>0.00130</td>\n",
       "      <td>0.00059</td>\n",
       "      <td>0.00017</td>\n",
       "      <td>-7.435388</td>\n",
       "      <td>-7.557417</td>\n",
       "    </tr>\n",
       "    <tr>\n",
       "      <th>2</th>\n",
       "      <td>PA11</td>\n",
       "      <td>422710</td>\n",
       "      <td>7441630</td>\n",
       "      <td>167.0</td>\n",
       "      <td>43.3</td>\n",
       "      <td>62.1</td>\n",
       "      <td>18.8</td>\n",
       "      <td>82.2</td>\n",
       "      <td>0.001214</td>\n",
       "      <td>0.022833</td>\n",
       "      <td>0.00120</td>\n",
       "      <td>0.00120</td>\n",
       "      <td>0.00056</td>\n",
       "      <td>-6.725434</td>\n",
       "      <td>-6.713926</td>\n",
       "    </tr>\n",
       "    <tr>\n",
       "      <th>3</th>\n",
       "      <td>PA12</td>\n",
       "      <td>423050</td>\n",
       "      <td>7441730</td>\n",
       "      <td>166.0</td>\n",
       "      <td>44.4</td>\n",
       "      <td>55.0</td>\n",
       "      <td>10.6</td>\n",
       "      <td>86.5</td>\n",
       "      <td>0.002267</td>\n",
       "      <td>0.024028</td>\n",
       "      <td>0.00270</td>\n",
       "      <td>0.00270</td>\n",
       "      <td>NaN</td>\n",
       "      <td>-5.914504</td>\n",
       "      <td>-6.089445</td>\n",
       "    </tr>\n",
       "    <tr>\n",
       "      <th>4</th>\n",
       "      <td>PA13</td>\n",
       "      <td>424880</td>\n",
       "      <td>7444950</td>\n",
       "      <td>60.0</td>\n",
       "      <td>3.7</td>\n",
       "      <td>9.4</td>\n",
       "      <td>5.7</td>\n",
       "      <td>9.9</td>\n",
       "      <td>0.000478</td>\n",
       "      <td>0.002750</td>\n",
       "      <td>0.00084</td>\n",
       "      <td>0.00057</td>\n",
       "      <td>0.00020</td>\n",
       "      <td>-7.469874</td>\n",
       "      <td>-7.646365</td>\n",
       "    </tr>\n",
       "  </tbody>\n",
       "</table>\n",
       "</div>"
      ],
      "text/plain": [
       "   poco   utm_e    utm_n   prof    ne    nd    dd  vazao        qs  rate_wtp  \\\n",
       "0   PA1  429350  7445220  165.0  14.7  36.7  22.0  144.0  0.001819  0.040000   \n",
       "1  PA10  426780  7443360  100.0  53.5  60.4   6.9   13.0  0.000522  0.003611   \n",
       "2  PA11  422710  7441630  167.0  43.3  62.1  18.8   82.2  0.001214  0.022833   \n",
       "3  PA12  423050  7441730  166.0  44.4  55.0  10.6   86.5  0.002267  0.024028   \n",
       "4  PA13  424880  7444950   60.0   3.7   9.4   5.7    9.9  0.000478  0.002750   \n",
       "\n",
       "      CJ_T  Theis_T    Neu_T     log_T    log_Sc  \n",
       "0  0.00300  0.00290  0.00120 -5.843045 -6.309224  \n",
       "1  0.00130  0.00059  0.00017 -7.435388 -7.557417  \n",
       "2  0.00120  0.00120  0.00056 -6.725434 -6.713926  \n",
       "3  0.00270  0.00270      NaN -5.914504 -6.089445  \n",
       "4  0.00084  0.00057  0.00020 -7.469874 -7.646365  "
      ]
     },
     "execution_count": 2,
     "metadata": {},
     "output_type": "execute_result"
    }
   ],
   "source": [
    "import numpy as np\n",
    "df['log_T'] = np.log(df['Theis_T'])\n",
    "df['qs'] = df['qs']/(60*60)\n",
    "df['log_Sc'] = np.log(df['qs'])\n",
    "df.head()"
   ]
  },
  {
   "cell_type": "markdown",
   "metadata": {},
   "source": [
    "Least-squares regression can be used to fir a line to the log-transformed values by defining: \n",
    "$ \\hat{Y_i} = b_0 + b_1 X_i $\n",
    "\n",
    "where:\n",
    "\n",
    "$ \\hat{Y_i} = \\log{T_i} $, and \n",
    "\n",
    "$ X_i = \\log{(S_c)_i} $,\n",
    "\n",
    "---\n",
    "\n",
    "$ b_1 = \\frac{SS_{xy}}{SS_x} $ \n",
    "\n",
    "$ SS_{xy} = \\sum_{i=1}^{n} X_i Y_i - \\frac{1}{n} (\\sum_{i=1}^{n} X_i \\sum_{i=1}^{n} Y_i) $,\n",
    "\n",
    "$ SS_x = \\sum_{i=1}^{n} X_i^2 - \\frac{1}{n}(\\sum_{i=1}^{n}X_i)^2 $, \n",
    "\n",
    "---\n",
    "\n",
    "$ b_0 = \\overline{Y} - b_1 \\overline{X} $, \n",
    "\n",
    "$ \\overline{Y} = \\frac{1}{n} \\sum_{i=1}^{n}Y_i $, \n",
    "\n",
    "$ \\overline{X} = \\frac{1}{n} \\sum_{i=1}^{n}X_i $\n",
    "\n",
    "By solving for $ b_0 $ and $ b_1 $ and rearranging the first equation is possible to estimate the transmissivity by:\n",
    "\n",
    "$ T = (10^{b_0})S_c^{b_1} $\n",
    "\n",
    "where $T$ is transmissivity and $S_c$ is specific capacity"
   ]
  },
  {
   "cell_type": "code",
   "execution_count": 10,
   "metadata": {},
   "outputs": [
    {
     "data": {
      "text/plain": [
       "<matplotlib.legend.Legend at 0x3551dbe0>"
      ]
     },
     "execution_count": 10,
     "metadata": {},
     "output_type": "execute_result"
    },
    {
     "data": {
      "image/png": "[encoded data removed]",
      "text/plain": [
       "<Figure size 432x288 with 1 Axes>"
      ]
     },
     "metadata": {
      "needs_background": "light"
     },
     "output_type": "display_data"
    }
   ],
   "source": [
    "import matplotlib.pyplot as plt\n",
    "from sklearn.linear_model import LinearRegression\n",
    "lr = LinearRegression()\n",
    "X = df['log_Sc'].values.reshape(-1, 1)\n",
    "Y = df['log_T'].values.reshape(-1, 1)\n",
    "lr.fit(X, Y)\n",
    "x = X\n",
    "b0 = lr.intercept_[0]\n",
    "b1 = lr.coef_[0]\n",
    "y = b0 + b1*x\n",
    "plt.scatter(df['log_Sc'], df['log_T'])\n",
    "plt.plot(x, y, '-r', label='$ Y = b_0 + b_1 X $')\n",
    "plt.title('Empirical relationship between T and Sc')\n",
    "plt.xlabel('log-specific capacity')\n",
    "plt.ylabel('log-transmissivity')\n",
    "plt.legend(loc='upper left')"
   ]
  },
  {
   "cell_type": "code",
   "execution_count": 12,
   "metadata": {},
   "outputs": [
    {
     "name": "stdout",
     "output_type": "stream",
     "text": [
      "Where b0 =  -0.1357692150251184 and b1 =  0.9758561840467008\n"
     ]
    }
   ],
   "source": [
    "print('Where b0 = ', b0, 'and b1 = ', b1[0])"
   ]
  },
  {
   "cell_type": "markdown",
   "metadata": {},
   "source": [
    "The coefficient of determination ($ R^2 $) can be calculated by:\n",
    "\n",
    "$ R^2 = 1 - \\frac{SS_\\epsilon}{SS_\\gamma} $\n",
    "\n",
    "where,\n",
    "\n",
    "$ SS_\\gamma = \\sum_{i=1}^{n} (Y_i - \\overline{Y})^2 $, and\n",
    "\n",
    "$ SS_\\epsilon = \\sum_{i=1}^{n} (\\hat{Y_i} - Y_i)^2 $"
   ]
  },
  {
   "cell_type": "code",
   "execution_count": 13,
   "metadata": {},
   "outputs": [
    {
     "name": "stdout",
     "output_type": "stream",
     "text": [
      "R2 score for the model is:  0.9562133735579241\n"
     ]
    }
   ],
   "source": [
    "from sklearn.metrics import r2_score\n",
    "R2 = r2_score(X, Y)\n",
    "print('R2 score for the model is: ', R2)"
   ]
  },
  {
   "cell_type": "markdown",
   "metadata": {},
   "source": [
    "The uncertainty of the regression can be quantified by using prediction intervals that define an envelope around the line that in turn defines how certain an estimate of transmissivity is for a given specific-capacity\n",
    "value. The $ 100(1-a) $-percent prediction interval for $ \\hat{Y_i} $ when $ X_i $ = $ X_p $ is:\n",
    "\n",
    "$ \\hat{Y_i} \\pm t_\\frac{\\alpha}{2} \\sqrt{1 + \\frac{1}{n} + \\frac{(X_p - \\overline{X})^2}{SS_x}} $, \n",
    "\n",
    "whre $ \\alpha $ is the level of significance and $ t_\\frac{\\alpha}{2} $ is based $ (n-1) $ degrees of freedom in which $ t_\\frac{\\alpha}{2} $ is defined from a statistical table of critical value of $ t $ for the $t$-distribution [Mace, 2001]."
   ]
  },
  {
   "cell_type": "code",
   "execution_count": 19,
   "metadata": {},
   "outputs": [
    {
     "name": "stdout",
     "output_type": "stream",
     "text": [
      "degrees of freedom = 28 and alpha = 0.05\n"
     ]
    }
   ],
   "source": [
    "print('degrees of freedom =', len(df['log_Sc']) - 1, 'and alpha = 0.05')"
   ]
  },
  {
   "cell_type": "markdown",
   "metadata": {},
   "source": [
    "With that parameters and using the $t$ distribution table we have:\n",
    "$ t_\\frac{\\alpha}{2} = 2.048 $"
   ]
  },
  {
   "cell_type": "code",
   "execution_count": 20,
   "metadata": {},
   "outputs": [
    {
     "name": "stdout",
     "output_type": "stream",
     "text": [
      "[[1.02576862]\n",
      " [1.01867491]\n",
      " [1.01960994]\n",
      " [1.03063877]\n",
      " [1.01951738]\n",
      " [1.02640243]\n",
      " [1.03418573]\n",
      " [1.01868936]\n",
      " [1.02625134]\n",
      " [1.01794835]\n",
      " [1.02567826]\n",
      " [1.02516732]\n",
      " [1.02271777]\n",
      " [1.01915777]\n",
      " [1.01728872]\n",
      " [1.01732215]\n",
      " [1.03036758]\n",
      " [1.01951274]\n",
      " [1.02031634]\n",
      " [1.02289123]\n",
      " [1.0190887 ]\n",
      " [1.03793599]\n",
      " [1.04145034]\n",
      " [1.02259853]\n",
      " [1.13462127]\n",
      " [1.12260779]\n",
      " [1.07443148]\n",
      " [1.0397571 ]\n",
      " [1.02153699]]\n"
     ]
    }
   ],
   "source": [
    "n = len(df['log_Sc'])\n",
    "uncert = np.sqrt(1 + (1/n) + (((X - np.mean(X))**2)/(np.sum(np.power(X, 2))-((np.sum(X)**2)/n))))\n",
    "print(uncert)"
   ]
  },
  {
   "cell_type": "code",
   "execution_count": null,
   "metadata": {},
   "outputs": [],
   "source": [
    "#pensar sobre o resultado acima e fazer o envelope\n",
    "#depois estimar os T para os dados do siagas com seus erros e ir pro arcmap"
   ]
  },
  {
   "cell_type": "markdown",
   "metadata": {},
   "source": [
    "So transmissivity can be estimated for all data in the municipality of Caçapava using:\n",
    "\n",
    "$ T = 0.7315S_c^{0.9758} $"
   ]
  },
  {
   "cell_type": "code",
   "execution_count": null,
   "metadata": {},
   "outputs": [],
   "source": []
  },
  {
   "cell_type": "markdown",
   "metadata": {},
   "source": [
    "## References\n",
    "IRITANI, M. A., 1999. Modelação Matemática Tridimensional para a Proteção das Captações de Água Subterrânea [doi:10.11606/T.44.1999.tde-16082013-125326]. São Paulo : Instituto de Geociências, Universidade de São Paulo. Tese de Doutorado em Recursos Minerais e Hidrogeologia. [acesso 2022-06-17].\n",
    "\n",
    "MACE, R., 2000. Estimating transmissivity using specific-capacity data. Conference: Proceedings of the Ogallala Aquifer Symposium-2000"
   ]
  }
 ],
 "metadata": {
  "kernelspec": {
   "display_name": "Python 3.6.5 ('py365')",
   "language": "python",
   "name": "python3"
  },
  "language_info": {
   "codemirror_mode": {
    "name": "ipython",
    "version": 3
   },
   "file_extension": ".py",
   "mimetype": "text/x-python",
   "name": "python",
   "nbconvert_exporter": "python",
   "pygments_lexer": "ipython3",
   "version": "3.6.5"
  },
  "orig_nbformat": 4,
  "vscode": {
   "interpreter": {
    "hash": "2e18d05a840552a235eedfec20eb44b4a6cb0908c22b7ac8e899476b45cf34ce"
   }
  }
 },
 "nbformat": 4,
 "nbformat_minor": 2
}
